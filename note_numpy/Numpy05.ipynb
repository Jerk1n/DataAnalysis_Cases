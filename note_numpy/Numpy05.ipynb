{
 "cells": [
  {
   "cell_type": "code",
   "execution_count": null,
   "metadata": {},
   "outputs": [],
   "source": [
    "## Numpy 数据的输入和输出 \n",
    "\n",
    "存储/读取数组数据、文本数据"
   ]
  },
  {
   "cell_type": "code",
   "execution_count": 3,
   "metadata": {
    "ExecuteTime": {
     "end_time": "2020-01-13T16:12:50.595696Z",
     "start_time": "2020-01-13T16:12:50.586582Z"
    }
   },
   "outputs": [
    {
     "name": "stdout",
     "output_type": "stream",
     "text": [
      "[[0.16175186 0.74125214 0.42400165 0.99331158 0.87736178]\n",
      " [0.31774691 0.43518538 0.74224911 0.61382795 0.75633889]\n",
      " [0.04222206 0.93848983 0.14344606 0.22676804 0.34802574]\n",
      " [0.37025965 0.42755613 0.37374839 0.25724397 0.00963071]\n",
      " [0.06115985 0.14169514 0.53407195 0.85849326 0.52849053]]\n"
     ]
    }
   ],
   "source": [
    "# 存储数组数据  np.save()   文件类型为.npy\n",
    "\n",
    "ar = np.random.rand(5,5)\n",
    "print(ar)\n",
    "np.save('arraytest.npy', ar)"
   ]
  },
  {
   "cell_type": "code",
   "execution_count": 4,
   "metadata": {
    "ExecuteTime": {
     "end_time": "2020-01-13T16:14:48.979898Z",
     "start_time": "2020-01-13T16:14:48.972895Z"
    }
   },
   "outputs": [
    {
     "name": "stdout",
     "output_type": "stream",
     "text": [
      "[[0.16175186 0.74125214 0.42400165 0.99331158 0.87736178]\n",
      " [0.31774691 0.43518538 0.74224911 0.61382795 0.75633889]\n",
      " [0.04222206 0.93848983 0.14344606 0.22676804 0.34802574]\n",
      " [0.37025965 0.42755613 0.37374839 0.25724397 0.00963071]\n",
      " [0.06115985 0.14169514 0.53407195 0.85849326 0.52849053]]\n"
     ]
    }
   ],
   "source": [
    "# 读取数据  np.load()\n",
    "\n",
    "ar_load = np.load('arraytest.npy')\n",
    "print(ar_load)"
   ]
  },
  {
   "cell_type": "code",
   "execution_count": 12,
   "metadata": {
    "ExecuteTime": {
     "end_time": "2020-01-13T16:22:40.118882Z",
     "start_time": "2020-01-13T16:22:40.109734Z"
    }
   },
   "outputs": [
    {
     "name": "stdout",
     "output_type": "stream",
     "text": [
      "[[0.64309762 0.22349004 0.79317466 0.48179888 0.61202061]\n",
      " [0.79487033 0.01305803 0.5492372  0.2064142  0.82125412]\n",
      " [0.32114516 0.99847423 0.09407061 0.7371685  0.30840132]\n",
      " [0.54442536 0.42065106 0.03519588 0.53881463 0.61522802]\n",
      " [0.30458482 0.83355311 0.3707986  0.69946859 0.54799468]]\n"
     ]
    }
   ],
   "source": [
    "# 存储、读取文本文件 np.savetxt() / np.loadtxt()\n",
    "\n",
    "ar = np.random.rand(5,5)\n",
    "np.savetxt('test.txt',ar, delimiter=',')  # 逗号分隔符\n",
    "# numpy.savetxt(fname, X, fmt='%.18e', delimiter=' ', newline='\\n', header='', footer='', comments='# ', encoding=None)\n",
    "\n",
    "ar_loadtxt = np.loadtxt('test.txt', delimiter=',')\n",
    "print(ar_loadtxt)\n",
    "\n",
    "# numpy.loadtxt(fname, dtype=<class 'float'>, comments='#', delimiter=None, converters=None, skiprows=0, usecols=None, unpack=False, ndmin=0, encoding='bytes', max_rows=None)"
   ]
  }
 ],
 "metadata": {
  "kernelspec": {
   "display_name": "Python 3",
   "language": "python",
   "name": "python3"
  },
  "language_info": {
   "codemirror_mode": {
    "name": "ipython",
    "version": 3
   },
   "file_extension": ".py",
   "mimetype": "text/x-python",
   "name": "python",
   "nbconvert_exporter": "python",
   "pygments_lexer": "ipython3",
   "version": "3.7.0"
  },
  "toc": {
   "base_numbering": 1,
   "nav_menu": {},
   "number_sections": true,
   "sideBar": true,
   "skip_h1_title": false,
   "title_cell": "Table of Contents",
   "title_sidebar": "Contents",
   "toc_cell": false,
   "toc_position": {},
   "toc_section_display": true,
   "toc_window_display": false
  },
  "varInspector": {
   "cols": {
    "lenName": 16,
    "lenType": 16,
    "lenVar": 40
   },
   "kernels_config": {
    "python": {
     "delete_cmd_postfix": "",
     "delete_cmd_prefix": "del ",
     "library": "var_list.py",
     "varRefreshCmd": "print(var_dic_list())"
    },
    "r": {
     "delete_cmd_postfix": ") ",
     "delete_cmd_prefix": "rm(",
     "library": "var_list.r",
     "varRefreshCmd": "cat(var_dic_list()) "
    }
   },
   "types_to_exclude": [
    "module",
    "function",
    "builtin_function_or_method",
    "instance",
    "_Feature"
   ],
   "window_display": false
  }
 },
 "nbformat": 4,
 "nbformat_minor": 2
}
