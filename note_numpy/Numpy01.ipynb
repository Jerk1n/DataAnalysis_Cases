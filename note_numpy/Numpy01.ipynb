{
 "cells": [
  {
   "cell_type": "code",
   "execution_count": null,
   "metadata": {},
   "outputs": [],
   "source": [
    "## 01 Numpy基础数据结构\n",
    "\n",
    "NumPy数组是一个多维数组对象，称为ndarray。\n"
   ]
  },
  {
   "cell_type": "code",
   "execution_count": 6,
   "metadata": {
    "ExecuteTime": {
     "end_time": "2020-01-07T07:01:31.878163Z",
     "start_time": "2020-01-07T07:01:31.869758Z"
    }
   },
   "outputs": [
    {
     "name": "stdout",
     "output_type": "stream",
     "text": [
      "[1 2 3 4 5 6 7]\n",
      "1\n",
      "(7,)\n",
      "7\n",
      "int64\n",
      "8\n",
      "<memory at 0x11cbb6e88>\n"
     ]
    },
    {
     "data": {
      "text/plain": [
       "array([1, 2, 3, 4, 5, 6, 7])"
      ]
     },
     "execution_count": 6,
     "metadata": {},
     "output_type": "execute_result"
    }
   ],
   "source": [
    "# 多维数组 ndarray\n",
    "\n",
    "import numpy as np\n",
    "\n",
    "ar = np.array([1,2,3,4,5,6,7])\n",
    "print(ar)          # 注意数组的格式：中括号，生成的数组元素之间没有逗号（和列表区分）\n",
    "print(ar.ndim)     # 数组是几维的，或者说“秩”，维度的数量也称为 rank\n",
    "print(ar.shape)    # 数组的形状，n 行 m 列的数组shape 为（n,m）\n",
    "print(ar.size)     # 数组总共包含多少元素，对于 n行m列 的数组，元素个数为 n*m\n",
    "print(ar.dtype)    # 数组中元素的类型，类似 type()(注意，type()是函数，.dtype是方法）\n",
    "print(ar.itemsize) # 数组中每个元素的字节大小，int32的字节为 4，float64的字节为 8\n",
    "print(ar.data)     # 包含实际数组元素的缓冲区，由于一般通过数组的索引获取元素，所以通常不需要用这个属性\n",
    "ar  # 交互方式下输出数组，会有 array(数组)，并且带有逗号\n",
    "\n",
    "# 数组的基本属性\n",
    "# 1.数组的维数成为秩（rank）, 一维数组的秩为 1，二维数组的秩为 2\n",
    "# 2.在 Numpy 中，每一个线性的数组称为是一个轴（axes），秩其实是描述轴的数量"
   ]
  },
  {
   "cell_type": "code",
   "execution_count": null,
   "metadata": {},
   "outputs": [],
   "source": [
    "## 创建数组的常用方法\n",
    "array() / arange() / linspace() / zeros()/zeros_like()/ones()/ones_like() / eye()"
   ]
  },
  {
   "cell_type": "code",
   "execution_count": 10,
   "metadata": {
    "ExecuteTime": {
     "end_time": "2020-01-07T07:24:58.145066Z",
     "start_time": "2020-01-07T07:24:58.136928Z"
    }
   },
   "outputs": [
    {
     "name": "stdout",
     "output_type": "stream",
     "text": [
      "[0 1 2 3 4 5 6 7 8 9] <class 'numpy.ndarray'> int64\n",
      "[1.   2.   3.14 4.   5.  ] <class 'numpy.ndarray'> float64\n",
      "[['1' '2' '3']\n",
      " ['a' 'b' 'c']] (2, 3) 2 6\n",
      "[list([1, 2, 3]) ('a', 'b', 'c', 'd')] (2,) 1 2\n"
     ]
    }
   ],
   "source": [
    "# 创建数组：array()函数，括号内可以是列表、元组、数组、生成器等\n",
    "\n",
    "ar1 = np.array(range(10))  # 整型\n",
    "ar2 = np.array([1,2,3.14,4,5])  # 浮点型\n",
    "ar3 = np.array([[1,2,3],('a','b','c')])  # 二维数组：嵌套序列（列表、元组均可）\n",
    "ar4 = np.array([[1,2,3],('a','b','c','d')])  # 注意：嵌套序列的数量不一样时，只能生成一维数组\n",
    "print(ar1,type(ar1),ar1.dtype)\n",
    "print(ar2,type(ar2),ar2.dtype)\n",
    "print(ar3,ar3.shape,ar3.ndim,ar3.size)  # 二维数组，共有 6 个元素\n",
    "print(ar4,ar4.shape,ar4.ndim,ar4.size)  # 一维数组，共有 2 个元素"
   ]
  },
  {
   "cell_type": "code",
   "execution_count": 11,
   "metadata": {
    "ExecuteTime": {
     "end_time": "2020-01-07T07:29:30.272925Z",
     "start_time": "2020-01-07T07:29:30.266276Z"
    }
   },
   "outputs": [
    {
     "name": "stdout",
     "output_type": "stream",
     "text": [
      "[0 1 2 3 4 5 6 7 8 9]\n",
      "[0. 1. 2. 3. 4. 5. 6. 7. 8. 9.]\n",
      "[ 5  6  7  8  9 10 11]\n",
      "[ 5.  7.  9. 11.]\n",
      "[   0    1    2 ... 9997 9998 9999]\n"
     ]
    }
   ],
   "source": [
    "# 创建数组：arange()，类似 range(),在给定区间内返回均匀间隔的值\n",
    "\n",
    "print(np.arange(10))   # 返回 0-9，整型\n",
    "print(np.arange(10.0)) # 返回 0.0-9.0, 浮点型\n",
    "print(np.arange(5,12)) # 返回 5-11\n",
    "print(np.arange(5.0,12,2))  # 返回 5.0-12.0，间隔为 2\n",
    "print(np.arange(10000)) # 如果数组太大而无法打印，Numpy会自动跳过数组的中心部分，只打印头尾"
   ]
  },
  {
   "cell_type": "code",
   "execution_count": 17,
   "metadata": {
    "ExecuteTime": {
     "end_time": "2020-01-07T07:50:14.455903Z",
     "start_time": "2020-01-07T07:50:14.449704Z"
    }
   },
   "outputs": [
    {
     "name": "stdout",
     "output_type": "stream",
     "text": [
      "[2.   2.25 2.5  2.75 3.  ] <class 'numpy.ndarray'> float64\n",
      "[2.  2.2 2.4 2.6 2.8]\n",
      "(array([2.  , 2.25, 2.5 , 2.75, 3.  ]), 0.25) <class 'tuple'>\n"
     ]
    }
   ],
   "source": [
    "# 创建数组：linspace(), 返回在区间[开始，停止]上计算的 num 个均匀间隔的样本，注意：两边均为闭区间\n",
    "\n",
    "ar1 = np.linspace(2.0, 3.0, num=5)\n",
    "ar2 = np.linspace(2.0, 3.0, num=5, endpoint=False)\n",
    "ar3 = np.linspace(2.0, 3.0, num=5, retstep=True)\n",
    "print(ar1,type(ar1),ar1.dtype)\n",
    "print(ar2)\n",
    "print(ar3,type(ar3))\n",
    "# numpy.linspace(start, stop, num=50, endpoint=True, retstep=False, dtype=None)\n",
    "# retstep: 如果为真，返回一个包含 2 个元素的元组：（数组，间隔长度）"
   ]
  },
  {
   "cell_type": "code",
   "execution_count": 22,
   "metadata": {
    "ExecuteTime": {
     "end_time": "2020-01-07T08:23:00.131073Z",
     "start_time": "2020-01-07T08:23:00.122422Z"
    }
   },
   "outputs": [
    {
     "name": "stdout",
     "output_type": "stream",
     "text": [
      "[0. 0. 0. 0. 0.] float64\n",
      "[[0 0]\n",
      " [0 0]] int64\n",
      "------\n",
      "[[0 1 2 3 4]\n",
      " [5 6 7 8 9]]\n",
      "[[0 0 0 0 0]\n",
      " [0 0 0 0 0]]\n",
      "------\n",
      "[1. 1. 1. 1. 1. 1. 1. 1. 1.]\n",
      "[[[1. 1. 1. 1.]\n",
      "  [1. 1. 1. 1.]\n",
      "  [1. 1. 1. 1.]]\n",
      "\n",
      " [[1. 1. 1. 1.]\n",
      "  [1. 1. 1. 1.]\n",
      "  [1. 1. 1. 1.]]]\n",
      "[[1 1 1 1 1]\n",
      " [1 1 1 1 1]]\n"
     ]
    }
   ],
   "source": [
    "# 创建数组：zeros()/zeros_like()/ones()/ones_like()\n",
    "\n",
    "ar1 = np.zeros(5)\n",
    "ar2 = np.zeros((2,2), dtype = np.int)\n",
    "print(ar1,ar1.dtype)\n",
    "print(ar2,ar2.dtype)\n",
    "print('------')\n",
    "\n",
    "ar3 = np.array([list(range(5)),list(range(5,10))])\n",
    "ar4 = np.zeros_like(ar3)\n",
    "print(ar3)\n",
    "print(ar4)\n",
    "print('------')\n",
    "# zeros_like 返回具有与给定数组相同形状和类型的零数组\n",
    "\n",
    "ar5 = np.ones(9)\n",
    "ar6 = np.ones((2,3,4))  # 返回两个三行四列的数组\n",
    "ar7 = np.ones_like(ar3)\n",
    "print(ar5)\n",
    "print(ar6)\n",
    "print(ar7)"
   ]
  },
  {
   "cell_type": "code",
   "execution_count": 23,
   "metadata": {
    "ExecuteTime": {
     "end_time": "2020-01-07T08:26:28.536691Z",
     "start_time": "2020-01-07T08:26:28.531848Z"
    }
   },
   "outputs": [
    {
     "name": "stdout",
     "output_type": "stream",
     "text": [
      "[[1. 0. 0. 0. 0.]\n",
      " [0. 1. 0. 0. 0.]\n",
      " [0. 0. 1. 0. 0.]\n",
      " [0. 0. 0. 1. 0.]\n",
      " [0. 0. 0. 0. 1.]]\n"
     ]
    }
   ],
   "source": [
    "# 创建数组：eye()\n",
    "\n",
    "print(np.eye(5))"
   ]
  }
 ],
 "metadata": {
  "kernelspec": {
   "display_name": "Python 3",
   "language": "python",
   "name": "python3"
  },
  "language_info": {
   "codemirror_mode": {
    "name": "ipython",
    "version": 3
   },
   "file_extension": ".py",
   "mimetype": "text/x-python",
   "name": "python",
   "nbconvert_exporter": "python",
   "pygments_lexer": "ipython3",
   "version": "3.7.0"
  },
  "toc": {
   "base_numbering": 1,
   "nav_menu": {},
   "number_sections": true,
   "sideBar": true,
   "skip_h1_title": false,
   "title_cell": "Table of Contents",
   "title_sidebar": "Contents",
   "toc_cell": false,
   "toc_position": {},
   "toc_section_display": true,
   "toc_window_display": false
  },
  "varInspector": {
   "cols": {
    "lenName": 16,
    "lenType": 16,
    "lenVar": 40
   },
   "kernels_config": {
    "python": {
     "delete_cmd_postfix": "",
     "delete_cmd_prefix": "del ",
     "library": "var_list.py",
     "varRefreshCmd": "print(var_dic_list())"
    },
    "r": {
     "delete_cmd_postfix": ") ",
     "delete_cmd_prefix": "rm(",
     "library": "var_list.r",
     "varRefreshCmd": "cat(var_dic_list()) "
    }
   },
   "types_to_exclude": [
    "module",
    "function",
    "builtin_function_or_method",
    "instance",
    "_Feature"
   ],
   "window_display": false
  }
 },
 "nbformat": 4,
 "nbformat_minor": 2
}
