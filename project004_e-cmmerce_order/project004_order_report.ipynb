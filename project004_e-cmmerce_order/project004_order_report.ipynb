{
 "cells": [
  {
   "cell_type": "code",
   "execution_count": 2,
   "metadata": {
    "ExecuteTime": {
     "end_time": "2020-08-02T12:21:17.388796Z",
     "start_time": "2020-08-02T12:21:00.474747Z"
    }
   },
   "outputs": [],
   "source": [
    "import numpy as np\n",
    "import pandas as pd\n",
    "import matplotlib.pyplot as plt"
   ]
  },
  {
   "cell_type": "markdown",
   "metadata": {},
   "source": [
    "# 导入数据"
   ]
  },
  {
   "cell_type": "markdown",
   "metadata": {},
   "source": [
    "导入之前，先查看数据格式，确定首行是什么？分隔符是什么？"
   ]
  },
  {
   "cell_type": "code",
   "execution_count": 4,
   "metadata": {
    "ExecuteTime": {
     "end_time": "2020-08-02T12:23:33.552961Z",
     "start_time": "2020-08-02T12:23:33.335646Z"
    }
   },
   "outputs": [
    {
     "data": {
      "text/html": [
       "<div>\n",
       "<style scoped>\n",
       "    .dataframe tbody tr th:only-of-type {\n",
       "        vertical-align: middle;\n",
       "    }\n",
       "\n",
       "    .dataframe tbody tr th {\n",
       "        vertical-align: top;\n",
       "    }\n",
       "\n",
       "    .dataframe thead th {\n",
       "        text-align: right;\n",
       "    }\n",
       "</style>\n",
       "<table border=\"1\" class=\"dataframe\">\n",
       "  <thead>\n",
       "    <tr style=\"text-align: right;\">\n",
       "      <th></th>\n",
       "      <th>orderId</th>\n",
       "      <th>userId</th>\n",
       "      <th>productId</th>\n",
       "      <th>cityId</th>\n",
       "      <th>price</th>\n",
       "      <th>payMoney</th>\n",
       "      <th>channelId</th>\n",
       "      <th>deviceType</th>\n",
       "      <th>createTime</th>\n",
       "      <th>payTime</th>\n",
       "    </tr>\n",
       "    <tr>\n",
       "      <th>id</th>\n",
       "      <th></th>\n",
       "      <th></th>\n",
       "      <th></th>\n",
       "      <th></th>\n",
       "      <th></th>\n",
       "      <th></th>\n",
       "      <th></th>\n",
       "      <th></th>\n",
       "      <th></th>\n",
       "      <th></th>\n",
       "    </tr>\n",
       "  </thead>\n",
       "  <tbody>\n",
       "    <tr>\n",
       "      <th>1</th>\n",
       "      <td>232148841</td>\n",
       "      <td>2794924</td>\n",
       "      <td>268</td>\n",
       "      <td>110001</td>\n",
       "      <td>35300</td>\n",
       "      <td>35300</td>\n",
       "      <td>9058255c90</td>\n",
       "      <td>3</td>\n",
       "      <td>2016-01-01 12:53:02</td>\n",
       "      <td>2016-01-01 12:53:24</td>\n",
       "    </tr>\n",
       "    <tr>\n",
       "      <th>2</th>\n",
       "      <td>222298971</td>\n",
       "      <td>1664684</td>\n",
       "      <td>801</td>\n",
       "      <td>330001</td>\n",
       "      <td>51200</td>\n",
       "      <td>49900</td>\n",
       "      <td>e0e6019897</td>\n",
       "      <td>2</td>\n",
       "      <td>2016-01-01 21:42:51</td>\n",
       "      <td>2016-01-01 21:43:30</td>\n",
       "    </tr>\n",
       "    <tr>\n",
       "      <th>3</th>\n",
       "      <td>211494392</td>\n",
       "      <td>2669372</td>\n",
       "      <td>934</td>\n",
       "      <td>220002</td>\n",
       "      <td>62100</td>\n",
       "      <td>62100</td>\n",
       "      <td>9058255c90</td>\n",
       "      <td>3</td>\n",
       "      <td>2016-01-01 14:10:13</td>\n",
       "      <td>2016-01-01 14:11:18</td>\n",
       "    </tr>\n",
       "    <tr>\n",
       "      <th>4</th>\n",
       "      <td>334575272</td>\n",
       "      <td>1924727</td>\n",
       "      <td>422</td>\n",
       "      <td>230001</td>\n",
       "      <td>50600</td>\n",
       "      <td>42000</td>\n",
       "      <td>46d5cea30d</td>\n",
       "      <td>2</td>\n",
       "      <td>2016-01-01 17:43:35</td>\n",
       "      <td>2016-01-01 17:43:53</td>\n",
       "    </tr>\n",
       "    <tr>\n",
       "      <th>5</th>\n",
       "      <td>144825651</td>\n",
       "      <td>4148671</td>\n",
       "      <td>473</td>\n",
       "      <td>130006</td>\n",
       "      <td>149100</td>\n",
       "      <td>142000</td>\n",
       "      <td>6ff1752b69</td>\n",
       "      <td>2</td>\n",
       "      <td>2016-01-01 18:52:04</td>\n",
       "      <td>2016-01-01 18:52:47</td>\n",
       "    </tr>\n",
       "  </tbody>\n",
       "</table>\n",
       "</div>"
      ],
      "text/plain": [
       "      orderId   userId  productId  cityId   price  payMoney   channelId  \\\n",
       "id                                                                        \n",
       "1   232148841  2794924        268  110001   35300     35300  9058255c90   \n",
       "2   222298971  1664684        801  330001   51200     49900  e0e6019897   \n",
       "3   211494392  2669372        934  220002   62100     62100  9058255c90   \n",
       "4   334575272  1924727        422  230001   50600     42000  46d5cea30d   \n",
       "5   144825651  4148671        473  130006  149100    142000  6ff1752b69   \n",
       "\n",
       "    deviceType           createTime              payTime  \n",
       "id                                                        \n",
       "1            3  2016-01-01 12:53:02  2016-01-01 12:53:24  \n",
       "2            2  2016-01-01 21:42:51  2016-01-01 21:43:30  \n",
       "3            3  2016-01-01 14:10:13  2016-01-01 14:11:18  \n",
       "4            2  2016-01-01 17:43:35  2016-01-01 17:43:53  \n",
       "5            2  2016-01-01 18:52:04  2016-01-01 18:52:47  "
      ]
     },
     "execution_count": 4,
     "metadata": {},
     "output_type": "execute_result"
    }
   ],
   "source": [
    "df = pd.read_csv('./order_info_2016.csv', index_col='id') \n",
    "df.head()"
   ]
  },
  {
   "cell_type": "markdown",
   "metadata": {},
   "source": [
    "分别使用 describe 和 info 方法观察数据的分布情况："
   ]
  },
  {
   "cell_type": "code",
   "execution_count": 5,
   "metadata": {
    "ExecuteTime": {
     "end_time": "2020-08-02T12:27:33.848047Z",
     "start_time": "2020-08-02T12:27:33.777114Z"
    }
   },
   "outputs": [
    {
     "data": {
      "text/html": [
       "<div>\n",
       "<style scoped>\n",
       "    .dataframe tbody tr th:only-of-type {\n",
       "        vertical-align: middle;\n",
       "    }\n",
       "\n",
       "    .dataframe tbody tr th {\n",
       "        vertical-align: top;\n",
       "    }\n",
       "\n",
       "    .dataframe thead th {\n",
       "        text-align: right;\n",
       "    }\n",
       "</style>\n",
       "<table border=\"1\" class=\"dataframe\">\n",
       "  <thead>\n",
       "    <tr style=\"text-align: right;\">\n",
       "      <th></th>\n",
       "      <th>orderId</th>\n",
       "      <th>userId</th>\n",
       "      <th>productId</th>\n",
       "      <th>cityId</th>\n",
       "      <th>price</th>\n",
       "      <th>payMoney</th>\n",
       "      <th>deviceType</th>\n",
       "    </tr>\n",
       "  </thead>\n",
       "  <tbody>\n",
       "    <tr>\n",
       "      <th>count</th>\n",
       "      <td>1.045570e+05</td>\n",
       "      <td>1.045570e+05</td>\n",
       "      <td>104557.000000</td>\n",
       "      <td>104557.000000</td>\n",
       "      <td>1.045570e+05</td>\n",
       "      <td>1.045570e+05</td>\n",
       "      <td>104557.000000</td>\n",
       "    </tr>\n",
       "    <tr>\n",
       "      <th>mean</th>\n",
       "      <td>2.993341e+08</td>\n",
       "      <td>3.270527e+06</td>\n",
       "      <td>504.566275</td>\n",
       "      <td>154410.947225</td>\n",
       "      <td>9.167350e+04</td>\n",
       "      <td>8.686689e+04</td>\n",
       "      <td>2.385292</td>\n",
       "    </tr>\n",
       "    <tr>\n",
       "      <th>std</th>\n",
       "      <td>5.149818e+07</td>\n",
       "      <td>4.138208e+07</td>\n",
       "      <td>288.130647</td>\n",
       "      <td>72197.163762</td>\n",
       "      <td>9.158836e+04</td>\n",
       "      <td>9.072028e+04</td>\n",
       "      <td>0.648472</td>\n",
       "    </tr>\n",
       "    <tr>\n",
       "      <th>min</th>\n",
       "      <td>1.035627e+08</td>\n",
       "      <td>2.930600e+04</td>\n",
       "      <td>0.000000</td>\n",
       "      <td>30000.000000</td>\n",
       "      <td>6.000000e+02</td>\n",
       "      <td>-1.000000e+03</td>\n",
       "      <td>1.000000</td>\n",
       "    </tr>\n",
       "    <tr>\n",
       "      <th>25%</th>\n",
       "      <td>2.633627e+08</td>\n",
       "      <td>2.179538e+06</td>\n",
       "      <td>254.000000</td>\n",
       "      <td>100011.000000</td>\n",
       "      <td>3.790000e+04</td>\n",
       "      <td>3.360000e+04</td>\n",
       "      <td>2.000000</td>\n",
       "    </tr>\n",
       "    <tr>\n",
       "      <th>50%</th>\n",
       "      <td>2.989828e+08</td>\n",
       "      <td>2.705995e+06</td>\n",
       "      <td>507.000000</td>\n",
       "      <td>150001.000000</td>\n",
       "      <td>5.920000e+04</td>\n",
       "      <td>5.500000e+04</td>\n",
       "      <td>2.000000</td>\n",
       "    </tr>\n",
       "    <tr>\n",
       "      <th>75%</th>\n",
       "      <td>3.349972e+08</td>\n",
       "      <td>3.271237e+06</td>\n",
       "      <td>758.000000</td>\n",
       "      <td>220002.000000</td>\n",
       "      <td>1.080000e+05</td>\n",
       "      <td>1.040000e+05</td>\n",
       "      <td>3.000000</td>\n",
       "    </tr>\n",
       "    <tr>\n",
       "      <th>max</th>\n",
       "      <td>4.871430e+08</td>\n",
       "      <td>3.072939e+09</td>\n",
       "      <td>1000.000000</td>\n",
       "      <td>380001.000000</td>\n",
       "      <td>2.295600e+06</td>\n",
       "      <td>2.294200e+06</td>\n",
       "      <td>6.000000</td>\n",
       "    </tr>\n",
       "  </tbody>\n",
       "</table>\n",
       "</div>"
      ],
      "text/plain": [
       "            orderId        userId      productId         cityId         price  \\\n",
       "count  1.045570e+05  1.045570e+05  104557.000000  104557.000000  1.045570e+05   \n",
       "mean   2.993341e+08  3.270527e+06     504.566275  154410.947225  9.167350e+04   \n",
       "std    5.149818e+07  4.138208e+07     288.130647   72197.163762  9.158836e+04   \n",
       "min    1.035627e+08  2.930600e+04       0.000000   30000.000000  6.000000e+02   \n",
       "25%    2.633627e+08  2.179538e+06     254.000000  100011.000000  3.790000e+04   \n",
       "50%    2.989828e+08  2.705995e+06     507.000000  150001.000000  5.920000e+04   \n",
       "75%    3.349972e+08  3.271237e+06     758.000000  220002.000000  1.080000e+05   \n",
       "max    4.871430e+08  3.072939e+09    1000.000000  380001.000000  2.295600e+06   \n",
       "\n",
       "           payMoney     deviceType  \n",
       "count  1.045570e+05  104557.000000  \n",
       "mean   8.686689e+04       2.385292  \n",
       "std    9.072028e+04       0.648472  \n",
       "min   -1.000000e+03       1.000000  \n",
       "25%    3.360000e+04       2.000000  \n",
       "50%    5.500000e+04       2.000000  \n",
       "75%    1.040000e+05       3.000000  \n",
       "max    2.294200e+06       6.000000  "
      ]
     },
     "execution_count": 5,
     "metadata": {},
     "output_type": "execute_result"
    }
   ],
   "source": [
    "df.describe()"
   ]
  },
  {
   "cell_type": "markdown",
   "metadata": {},
   "source": [
    "观察发现，有两个数据存在问题：productID 最小值为 0，payMoney 最小值为负数。"
   ]
  },
  {
   "cell_type": "code",
   "execution_count": 6,
   "metadata": {
    "ExecuteTime": {
     "end_time": "2020-08-02T12:31:19.006629Z",
     "start_time": "2020-08-02T12:31:18.949081Z"
    }
   },
   "outputs": [
    {
     "name": "stdout",
     "output_type": "stream",
     "text": [
      "<class 'pandas.core.frame.DataFrame'>\n",
      "Int64Index: 104557 entries, 1 to 104557\n",
      "Data columns (total 10 columns):\n",
      " #   Column      Non-Null Count   Dtype \n",
      "---  ------      --------------   ----- \n",
      " 0   orderId     104557 non-null  int64 \n",
      " 1   userId      104557 non-null  int64 \n",
      " 2   productId   104557 non-null  int64 \n",
      " 3   cityId      104557 non-null  int64 \n",
      " 4   price       104557 non-null  int64 \n",
      " 5   payMoney    104557 non-null  int64 \n",
      " 6   channelId   104549 non-null  object\n",
      " 7   deviceType  104557 non-null  int64 \n",
      " 8   createTime  104557 non-null  object\n",
      " 9   payTime     104557 non-null  object\n",
      "dtypes: int64(7), object(3)\n",
      "memory usage: 8.8+ MB\n"
     ]
    }
   ],
   "source": [
    "df.info()"
   ]
  },
  {
   "cell_type": "markdown",
   "metadata": {},
   "source": [
    "可以看出，总共有 104557 条数据，其中 channelID 缺少 8 条数据。"
   ]
  },
  {
   "cell_type": "markdown",
   "metadata": {},
   "source": [
    "# 清洗数据"
   ]
  },
  {
   "cell_type": "markdown",
   "metadata": {},
   "source": [
    "依据字段的特性，逐个进行判断和清洗。"
   ]
  },
  {
   "cell_type": "markdown",
   "metadata": {},
   "source": [
    "## orderID"
   ]
  },
  {
   "cell_type": "markdown",
   "metadata": {},
   "source": [
    "由于 orderID 在系统里是唯一值。\n",
    "\n",
    "查看是否有重复的 orderID。如果有，通常最后再来处理重复值，先继续清洗其他字段，因为其他字段可能会影响到重复值。"
   ]
  },
  {
   "cell_type": "code",
   "execution_count": 9,
   "metadata": {
    "ExecuteTime": {
     "end_time": "2020-08-02T12:38:17.865474Z",
     "start_time": "2020-08-02T12:38:17.843138Z"
    }
   },
   "outputs": [
    {
     "data": {
      "text/plain": [
       "104530"
      ]
     },
     "execution_count": 9,
     "metadata": {},
     "output_type": "execute_result"
    }
   ],
   "source": [
    "df.orderId.unique().size"
   ]
  },
  {
   "cell_type": "code",
   "execution_count": 10,
   "metadata": {
    "ExecuteTime": {
     "end_time": "2020-08-02T12:38:20.414118Z",
     "start_time": "2020-08-02T12:38:20.403836Z"
    }
   },
   "outputs": [
    {
     "data": {
      "text/plain": [
       "104557"
      ]
     },
     "execution_count": 10,
     "metadata": {},
     "output_type": "execute_result"
    }
   ],
   "source": [
    "df.orderId.size"
   ]
  },
  {
   "cell_type": "markdown",
   "metadata": {},
   "source": [
    "可见，orderID 存在 27 条重复值。"
   ]
  },
  {
   "cell_type": "markdown",
   "metadata": {
    "ExecuteTime": {
     "end_time": "2020-08-02T12:41:38.637629Z",
     "start_time": "2020-08-02T12:41:38.622549Z"
    }
   },
   "source": [
    "## userID"
   ]
  },
  {
   "cell_type": "markdown",
   "metadata": {},
   "source": [
    "userID 可以重复，没有其他特殊要求。从 df.info() 结果来看，userID 是完整的，无需再进行清洗。"
   ]
  },
  {
   "cell_type": "markdown",
   "metadata": {},
   "source": [
    "## productID"
   ]
  },
  {
   "cell_type": "markdown",
   "metadata": {},
   "source": [
    "productId 最小值是0，先来看下值为 0 的记录数量。共 177 条，可能是由于商品上架下架引起的。待处理完其他字段后，将其删除。"
   ]
  },
  {
   "cell_type": "code",
   "execution_count": 12,
   "metadata": {
    "ExecuteTime": {
     "end_time": "2020-08-02T12:48:19.895471Z",
     "start_time": "2020-08-02T12:48:19.880475Z"
    }
   },
   "outputs": [
    {
     "data": {
      "text/plain": [
       "177"
      ]
     },
     "execution_count": 12,
     "metadata": {},
     "output_type": "execute_result"
    }
   ],
   "source": [
    "df.productId[(df.productId == 0)].size"
   ]
  },
  {
   "cell_type": "markdown",
   "metadata": {},
   "source": [
    "## cityID"
   ]
  },
  {
   "cell_type": "markdown",
   "metadata": {},
   "source": [
    "cityID 和 userID  类似，值都在正常范围内，无需再处理。"
   ]
  },
  {
   "cell_type": "markdown",
   "metadata": {},
   "source": [
    "## price"
   ]
  },
  {
   "cell_type": "markdown",
   "metadata": {},
   "source": [
    "price 没有空值，且都大于0。但是单位是分，按习惯需要把它变成元。"
   ]
  },
  {
   "cell_type": "code",
   "execution_count": 13,
   "metadata": {
    "ExecuteTime": {
     "end_time": "2020-08-02T12:56:49.702383Z",
     "start_time": "2020-08-02T12:56:49.680666Z"
    }
   },
   "outputs": [],
   "source": [
    "df.price = df.price / 100"
   ]
  },
  {
   "cell_type": "markdown",
   "metadata": {},
   "source": [
    "## payMoney"
   ]
  },
  {
   "cell_type": "markdown",
   "metadata": {},
   "source": [
    "payMoney 有负值，我们下单不可能是负值，所以这里将负值的记录删除。总共 6 条记录，删除不影响。并将 payMoney 的单位转换成元。"
   ]
  },
  {
   "cell_type": "code",
   "execution_count": 14,
   "metadata": {
    "ExecuteTime": {
     "end_time": "2020-08-02T12:57:47.909262Z",
     "start_time": "2020-08-02T12:57:47.891575Z"
    }
   },
   "outputs": [
    {
     "data": {
      "text/html": [
       "<div>\n",
       "<style scoped>\n",
       "    .dataframe tbody tr th:only-of-type {\n",
       "        vertical-align: middle;\n",
       "    }\n",
       "\n",
       "    .dataframe tbody tr th {\n",
       "        vertical-align: top;\n",
       "    }\n",
       "\n",
       "    .dataframe thead th {\n",
       "        text-align: right;\n",
       "    }\n",
       "</style>\n",
       "<table border=\"1\" class=\"dataframe\">\n",
       "  <thead>\n",
       "    <tr style=\"text-align: right;\">\n",
       "      <th></th>\n",
       "      <th>orderId</th>\n",
       "      <th>userId</th>\n",
       "      <th>productId</th>\n",
       "      <th>cityId</th>\n",
       "      <th>price</th>\n",
       "      <th>payMoney</th>\n",
       "      <th>channelId</th>\n",
       "      <th>deviceType</th>\n",
       "      <th>createTime</th>\n",
       "      <th>payTime</th>\n",
       "    </tr>\n",
       "    <tr>\n",
       "      <th>id</th>\n",
       "      <th></th>\n",
       "      <th></th>\n",
       "      <th></th>\n",
       "      <th></th>\n",
       "      <th></th>\n",
       "      <th></th>\n",
       "      <th></th>\n",
       "      <th></th>\n",
       "      <th></th>\n",
       "      <th></th>\n",
       "    </tr>\n",
       "  </thead>\n",
       "  <tbody>\n",
       "    <tr>\n",
       "      <th>25344</th>\n",
       "      <td>288096069</td>\n",
       "      <td>2145955</td>\n",
       "      <td>511</td>\n",
       "      <td>230014</td>\n",
       "      <td>111.0</td>\n",
       "      <td>-1000</td>\n",
       "      <td>df9f79c426</td>\n",
       "      <td>2</td>\n",
       "      <td>2016-03-11 21:32:54</td>\n",
       "      <td>2016-03-11 21:33:10</td>\n",
       "    </tr>\n",
       "    <tr>\n",
       "      <th>55044</th>\n",
       "      <td>296608442</td>\n",
       "      <td>4073997</td>\n",
       "      <td>385</td>\n",
       "      <td>120006</td>\n",
       "      <td>111.0</td>\n",
       "      <td>-1000</td>\n",
       "      <td>cbccc0808e</td>\n",
       "      <td>2</td>\n",
       "      <td>2016-05-24 08:52:04</td>\n",
       "      <td>2016-05-24 08:52:23</td>\n",
       "    </tr>\n",
       "    <tr>\n",
       "      <th>66897</th>\n",
       "      <td>316685479</td>\n",
       "      <td>1949907</td>\n",
       "      <td>554</td>\n",
       "      <td>60019</td>\n",
       "      <td>2084.0</td>\n",
       "      <td>-1000</td>\n",
       "      <td>9058255c90</td>\n",
       "      <td>3</td>\n",
       "      <td>2016-03-31 11:57:46</td>\n",
       "      <td>2016-03-31 11:57:46</td>\n",
       "    </tr>\n",
       "    <tr>\n",
       "      <th>72556</th>\n",
       "      <td>323229098</td>\n",
       "      <td>2894042</td>\n",
       "      <td>548</td>\n",
       "      <td>220008</td>\n",
       "      <td>114.0</td>\n",
       "      <td>-1000</td>\n",
       "      <td>41a4e91d29</td>\n",
       "      <td>2</td>\n",
       "      <td>2016-08-09 14:24:13</td>\n",
       "      <td>2016-08-09 14:24:26</td>\n",
       "    </tr>\n",
       "    <tr>\n",
       "      <th>81494</th>\n",
       "      <td>311194385</td>\n",
       "      <td>3370399</td>\n",
       "      <td>797</td>\n",
       "      <td>40001</td>\n",
       "      <td>116.0</td>\n",
       "      <td>-990</td>\n",
       "      <td>ea5648bbe2</td>\n",
       "      <td>1</td>\n",
       "      <td>2016-09-06 11:20:43</td>\n",
       "      <td>2016-09-06 11:21:31</td>\n",
       "    </tr>\n",
       "    <tr>\n",
       "      <th>87878</th>\n",
       "      <td>324068352</td>\n",
       "      <td>1873953</td>\n",
       "      <td>602</td>\n",
       "      <td>260003</td>\n",
       "      <td>292.0</td>\n",
       "      <td>-1000</td>\n",
       "      <td>9058255c90</td>\n",
       "      <td>3</td>\n",
       "      <td>2016-10-05 10:47:05</td>\n",
       "      <td>2016-10-05 10:47:05</td>\n",
       "    </tr>\n",
       "  </tbody>\n",
       "</table>\n",
       "</div>"
      ],
      "text/plain": [
       "         orderId   userId  productId  cityId   price  payMoney   channelId  \\\n",
       "id                                                                           \n",
       "25344  288096069  2145955        511  230014   111.0     -1000  df9f79c426   \n",
       "55044  296608442  4073997        385  120006   111.0     -1000  cbccc0808e   \n",
       "66897  316685479  1949907        554   60019  2084.0     -1000  9058255c90   \n",
       "72556  323229098  2894042        548  220008   114.0     -1000  41a4e91d29   \n",
       "81494  311194385  3370399        797   40001   116.0      -990  ea5648bbe2   \n",
       "87878  324068352  1873953        602  260003   292.0     -1000  9058255c90   \n",
       "\n",
       "       deviceType           createTime              payTime  \n",
       "id                                                           \n",
       "25344           2  2016-03-11 21:32:54  2016-03-11 21:33:10  \n",
       "55044           2  2016-05-24 08:52:04  2016-05-24 08:52:23  \n",
       "66897           3  2016-03-31 11:57:46  2016-03-31 11:57:46  \n",
       "72556           2  2016-08-09 14:24:13  2016-08-09 14:24:26  \n",
       "81494           1  2016-09-06 11:20:43  2016-09-06 11:21:31  \n",
       "87878           3  2016-10-05 10:47:05  2016-10-05 10:47:05  "
      ]
     },
     "execution_count": 14,
     "metadata": {},
     "output_type": "execute_result"
    }
   ],
   "source": [
    "df[df.payMoney < 0]"
   ]
  },
  {
   "cell_type": "code",
   "execution_count": 15,
   "metadata": {
    "ExecuteTime": {
     "end_time": "2020-08-02T12:58:17.138110Z",
     "start_time": "2020-08-02T12:58:17.117842Z"
    }
   },
   "outputs": [],
   "source": [
    "df.drop(index=df[df.payMoney < 0].index, inplace=True)"
   ]
  },
  {
   "cell_type": "code",
   "execution_count": 16,
   "metadata": {
    "ExecuteTime": {
     "end_time": "2020-08-02T12:58:35.623253Z",
     "start_time": "2020-08-02T12:58:35.606869Z"
    }
   },
   "outputs": [
    {
     "data": {
      "text/plain": [
       "Int64Index([], dtype='int64', name='id')"
      ]
     },
     "execution_count": 16,
     "metadata": {},
     "output_type": "execute_result"
    }
   ],
   "source": [
    "df[df.payMoney < 0].index"
   ]
  },
  {
   "cell_type": "code",
   "execution_count": 17,
   "metadata": {
    "ExecuteTime": {
     "end_time": "2020-08-02T12:59:00.980242Z",
     "start_time": "2020-08-02T12:59:00.969542Z"
    }
   },
   "outputs": [],
   "source": [
    "df.payMoney = df.payMoney / 100"
   ]
  },
  {
   "cell_type": "markdown",
   "metadata": {},
   "source": [
    "## channelId"
   ]
  },
  {
   "cell_type": "markdown",
   "metadata": {},
   "source": [
    "channelId 根据info 的结果，缺少 8 条数据，可能是未录入完整的原因。数据量小，不会对分析造成什么影响，故直接删除即可。"
   ]
  },
  {
   "cell_type": "code",
   "execution_count": 20,
   "metadata": {
    "ExecuteTime": {
     "end_time": "2020-08-02T13:02:37.862748Z",
     "start_time": "2020-08-02T13:02:37.833403Z"
    }
   },
   "outputs": [
    {
     "data": {
      "text/html": [
       "<div>\n",
       "<style scoped>\n",
       "    .dataframe tbody tr th:only-of-type {\n",
       "        vertical-align: middle;\n",
       "    }\n",
       "\n",
       "    .dataframe tbody tr th {\n",
       "        vertical-align: top;\n",
       "    }\n",
       "\n",
       "    .dataframe thead th {\n",
       "        text-align: right;\n",
       "    }\n",
       "</style>\n",
       "<table border=\"1\" class=\"dataframe\">\n",
       "  <thead>\n",
       "    <tr style=\"text-align: right;\">\n",
       "      <th></th>\n",
       "      <th>orderId</th>\n",
       "      <th>userId</th>\n",
       "      <th>productId</th>\n",
       "      <th>cityId</th>\n",
       "      <th>price</th>\n",
       "      <th>payMoney</th>\n",
       "      <th>channelId</th>\n",
       "      <th>deviceType</th>\n",
       "      <th>createTime</th>\n",
       "      <th>payTime</th>\n",
       "    </tr>\n",
       "    <tr>\n",
       "      <th>id</th>\n",
       "      <th></th>\n",
       "      <th></th>\n",
       "      <th></th>\n",
       "      <th></th>\n",
       "      <th></th>\n",
       "      <th></th>\n",
       "      <th></th>\n",
       "      <th></th>\n",
       "      <th></th>\n",
       "      <th></th>\n",
       "    </tr>\n",
       "  </thead>\n",
       "  <tbody>\n",
       "    <tr>\n",
       "      <th>19086</th>\n",
       "      <td>284008366</td>\n",
       "      <td>3309847</td>\n",
       "      <td>698</td>\n",
       "      <td>240001</td>\n",
       "      <td>2164.0</td>\n",
       "      <td>2040.0</td>\n",
       "      <td>NaN</td>\n",
       "      <td>2</td>\n",
       "      <td>2016-03-08 22:36:12</td>\n",
       "      <td>2016-03-08 22:36:50</td>\n",
       "    </tr>\n",
       "    <tr>\n",
       "      <th>38175</th>\n",
       "      <td>287706890</td>\n",
       "      <td>2799815</td>\n",
       "      <td>823</td>\n",
       "      <td>70001</td>\n",
       "      <td>760.0</td>\n",
       "      <td>749.0</td>\n",
       "      <td>NaN</td>\n",
       "      <td>3</td>\n",
       "      <td>2016-06-10 22:30:18</td>\n",
       "      <td>2016-06-10 22:30:47</td>\n",
       "    </tr>\n",
       "    <tr>\n",
       "      <th>48073</th>\n",
       "      <td>248057459</td>\n",
       "      <td>3970570</td>\n",
       "      <td>142</td>\n",
       "      <td>130001</td>\n",
       "      <td>474.0</td>\n",
       "      <td>400.0</td>\n",
       "      <td>NaN</td>\n",
       "      <td>2</td>\n",
       "      <td>2016-03-30 12:59:03</td>\n",
       "      <td>2016-03-30 12:59:13</td>\n",
       "    </tr>\n",
       "    <tr>\n",
       "      <th>75949</th>\n",
       "      <td>266847859</td>\n",
       "      <td>3761925</td>\n",
       "      <td>649</td>\n",
       "      <td>120006</td>\n",
       "      <td>257.0</td>\n",
       "      <td>257.0</td>\n",
       "      <td>NaN</td>\n",
       "      <td>2</td>\n",
       "      <td>2016-08-19 08:46:22</td>\n",
       "      <td>2016-08-19 08:46:39</td>\n",
       "    </tr>\n",
       "    <tr>\n",
       "      <th>100952</th>\n",
       "      <td>283627429</td>\n",
       "      <td>4156620</td>\n",
       "      <td>269</td>\n",
       "      <td>280001</td>\n",
       "      <td>484.0</td>\n",
       "      <td>410.0</td>\n",
       "      <td>NaN</td>\n",
       "      <td>2</td>\n",
       "      <td>2016-12-13 13:24:37</td>\n",
       "      <td>2016-12-13 14:47:08</td>\n",
       "    </tr>\n",
       "    <tr>\n",
       "      <th>100953</th>\n",
       "      <td>346836140</td>\n",
       "      <td>3751526</td>\n",
       "      <td>738</td>\n",
       "      <td>100013</td>\n",
       "      <td>105.0</td>\n",
       "      <td>80.0</td>\n",
       "      <td>NaN</td>\n",
       "      <td>1</td>\n",
       "      <td>2016-12-13 13:47:34</td>\n",
       "      <td>2016-12-13 13:47:44</td>\n",
       "    </tr>\n",
       "    <tr>\n",
       "      <th>100954</th>\n",
       "      <td>352853915</td>\n",
       "      <td>2229389</td>\n",
       "      <td>786</td>\n",
       "      <td>240001</td>\n",
       "      <td>474.0</td>\n",
       "      <td>440.0</td>\n",
       "      <td>NaN</td>\n",
       "      <td>2</td>\n",
       "      <td>2016-12-13 16:54:09</td>\n",
       "      <td>2016-12-13 16:55:00</td>\n",
       "    </tr>\n",
       "    <tr>\n",
       "      <th>100955</th>\n",
       "      <td>379473081</td>\n",
       "      <td>4531810</td>\n",
       "      <td>18</td>\n",
       "      <td>180009</td>\n",
       "      <td>146.0</td>\n",
       "      <td>50.0</td>\n",
       "      <td>NaN</td>\n",
       "      <td>3</td>\n",
       "      <td>2016-12-13 20:18:22</td>\n",
       "      <td>2016-12-13 20:18:34</td>\n",
       "    </tr>\n",
       "  </tbody>\n",
       "</table>\n",
       "</div>"
      ],
      "text/plain": [
       "          orderId   userId  productId  cityId   price  payMoney channelId  \\\n",
       "id                                                                          \n",
       "19086   284008366  3309847        698  240001  2164.0    2040.0       NaN   \n",
       "38175   287706890  2799815        823   70001   760.0     749.0       NaN   \n",
       "48073   248057459  3970570        142  130001   474.0     400.0       NaN   \n",
       "75949   266847859  3761925        649  120006   257.0     257.0       NaN   \n",
       "100952  283627429  4156620        269  280001   484.0     410.0       NaN   \n",
       "100953  346836140  3751526        738  100013   105.0      80.0       NaN   \n",
       "100954  352853915  2229389        786  240001   474.0     440.0       NaN   \n",
       "100955  379473081  4531810         18  180009   146.0      50.0       NaN   \n",
       "\n",
       "        deviceType           createTime              payTime  \n",
       "id                                                            \n",
       "19086            2  2016-03-08 22:36:12  2016-03-08 22:36:50  \n",
       "38175            3  2016-06-10 22:30:18  2016-06-10 22:30:47  \n",
       "48073            2  2016-03-30 12:59:03  2016-03-30 12:59:13  \n",
       "75949            2  2016-08-19 08:46:22  2016-08-19 08:46:39  \n",
       "100952           2  2016-12-13 13:24:37  2016-12-13 14:47:08  \n",
       "100953           1  2016-12-13 13:47:34  2016-12-13 13:47:44  \n",
       "100954           2  2016-12-13 16:54:09  2016-12-13 16:55:00  \n",
       "100955           3  2016-12-13 20:18:22  2016-12-13 20:18:34  "
      ]
     },
     "execution_count": 20,
     "metadata": {},
     "output_type": "execute_result"
    }
   ],
   "source": [
    "df[df.channelId.isnull()]"
   ]
  },
  {
   "cell_type": "code",
   "execution_count": 21,
   "metadata": {
    "ExecuteTime": {
     "end_time": "2020-08-02T13:03:15.334472Z",
     "start_time": "2020-08-02T13:03:15.308746Z"
    }
   },
   "outputs": [],
   "source": [
    "df.drop(index=df[df.channelId.isnull()].index, inplace=True)"
   ]
  },
  {
   "cell_type": "code",
   "execution_count": 22,
   "metadata": {
    "ExecuteTime": {
     "end_time": "2020-08-02T13:03:22.736027Z",
     "start_time": "2020-08-02T13:03:22.720234Z"
    }
   },
   "outputs": [
    {
     "data": {
      "text/html": [
       "<div>\n",
       "<style scoped>\n",
       "    .dataframe tbody tr th:only-of-type {\n",
       "        vertical-align: middle;\n",
       "    }\n",
       "\n",
       "    .dataframe tbody tr th {\n",
       "        vertical-align: top;\n",
       "    }\n",
       "\n",
       "    .dataframe thead th {\n",
       "        text-align: right;\n",
       "    }\n",
       "</style>\n",
       "<table border=\"1\" class=\"dataframe\">\n",
       "  <thead>\n",
       "    <tr style=\"text-align: right;\">\n",
       "      <th></th>\n",
       "      <th>orderId</th>\n",
       "      <th>userId</th>\n",
       "      <th>productId</th>\n",
       "      <th>cityId</th>\n",
       "      <th>price</th>\n",
       "      <th>payMoney</th>\n",
       "      <th>channelId</th>\n",
       "      <th>deviceType</th>\n",
       "      <th>createTime</th>\n",
       "      <th>payTime</th>\n",
       "    </tr>\n",
       "    <tr>\n",
       "      <th>id</th>\n",
       "      <th></th>\n",
       "      <th></th>\n",
       "      <th></th>\n",
       "      <th></th>\n",
       "      <th></th>\n",
       "      <th></th>\n",
       "      <th></th>\n",
       "      <th></th>\n",
       "      <th></th>\n",
       "      <th></th>\n",
       "    </tr>\n",
       "  </thead>\n",
       "  <tbody>\n",
       "  </tbody>\n",
       "</table>\n",
       "</div>"
      ],
      "text/plain": [
       "Empty DataFrame\n",
       "Columns: [orderId, userId, productId, cityId, price, payMoney, channelId, deviceType, createTime, payTime]\n",
       "Index: []"
      ]
     },
     "execution_count": 22,
     "metadata": {},
     "output_type": "execute_result"
    }
   ],
   "source": [
    "df[df.channelId.isnull()]"
   ]
  },
  {
   "cell_type": "markdown",
   "metadata": {},
   "source": [
    "## createTime 和 payTime"
   ]
  },
  {
   "cell_type": "markdown",
   "metadata": {},
   "source": [
    "两者都没有 null，但此处需要统计2016年的数据，所以把 createTime 非2016年的数据删掉。\n",
    "\n",
    "先把createTime和payTime转换成datetime格式。"
   ]
  },
  {
   "cell_type": "code",
   "execution_count": 25,
   "metadata": {
    "ExecuteTime": {
     "end_time": "2020-08-02T13:08:59.096627Z",
     "start_time": "2020-08-02T13:08:59.050778Z"
    }
   },
   "outputs": [
    {
     "data": {
      "text/plain": [
       "orderId                int64\n",
       "userId                 int64\n",
       "productId              int64\n",
       "cityId                 int64\n",
       "price                float64\n",
       "payMoney             float64\n",
       "channelId             object\n",
       "deviceType             int64\n",
       "createTime    datetime64[ns]\n",
       "payTime       datetime64[ns]\n",
       "dtype: object"
      ]
     },
     "execution_count": 25,
     "metadata": {},
     "output_type": "execute_result"
    }
   ],
   "source": [
    "df.createTime = pd.to_datetime(df.createTime)\n",
    "df.payTime = pd.to_datetime(df.payTime)\n",
    "df.dtypes"
   ]
  },
  {
   "cell_type": "code",
   "execution_count": 26,
   "metadata": {
    "ExecuteTime": {
     "end_time": "2020-08-02T13:09:06.718918Z",
     "start_time": "2020-08-02T13:09:06.711549Z"
    }
   },
   "outputs": [],
   "source": [
    "import datetime\n",
    "startTime = datetime.datetime(2016, 1, 1)\n",
    "endTime = datetime.datetime(2016, 12, 31, 23, 59, 59)"
   ]
  },
  {
   "cell_type": "code",
   "execution_count": 28,
   "metadata": {
    "ExecuteTime": {
     "end_time": "2020-08-02T13:09:45.054048Z",
     "start_time": "2020-08-02T13:09:44.996380Z"
    }
   },
   "outputs": [
    {
     "data": {
      "text/html": [
       "<div>\n",
       "<style scoped>\n",
       "    .dataframe tbody tr th:only-of-type {\n",
       "        vertical-align: middle;\n",
       "    }\n",
       "\n",
       "    .dataframe tbody tr th {\n",
       "        vertical-align: top;\n",
       "    }\n",
       "\n",
       "    .dataframe thead th {\n",
       "        text-align: right;\n",
       "    }\n",
       "</style>\n",
       "<table border=\"1\" class=\"dataframe\">\n",
       "  <thead>\n",
       "    <tr style=\"text-align: right;\">\n",
       "      <th></th>\n",
       "      <th>orderId</th>\n",
       "      <th>userId</th>\n",
       "      <th>productId</th>\n",
       "      <th>cityId</th>\n",
       "      <th>price</th>\n",
       "      <th>payMoney</th>\n",
       "      <th>channelId</th>\n",
       "      <th>deviceType</th>\n",
       "      <th>createTime</th>\n",
       "      <th>payTime</th>\n",
       "    </tr>\n",
       "    <tr>\n",
       "      <th>id</th>\n",
       "      <th></th>\n",
       "      <th></th>\n",
       "      <th></th>\n",
       "      <th></th>\n",
       "      <th></th>\n",
       "      <th></th>\n",
       "      <th></th>\n",
       "      <th></th>\n",
       "      <th></th>\n",
       "      <th></th>\n",
       "    </tr>\n",
       "  </thead>\n",
       "  <tbody>\n",
       "  </tbody>\n",
       "</table>\n",
       "</div>"
      ],
      "text/plain": [
       "Empty DataFrame\n",
       "Columns: [orderId, userId, productId, cityId, price, payMoney, channelId, deviceType, createTime, payTime]\n",
       "Index: []"
      ]
     },
     "execution_count": 28,
     "metadata": {},
     "output_type": "execute_result"
    }
   ],
   "source": [
    "df[df.createTime < startTime]\n",
    "df.drop(index=df[df.createTime < startTime].index, inplace=True) \n",
    "df.drop(index=df[df.createTime > df.payTime].index, inplace=True)\n",
    "df[df.createTime < startTime]"
   ]
  },
  {
   "cell_type": "code",
   "execution_count": 30,
   "metadata": {
    "ExecuteTime": {
     "end_time": "2020-08-02T13:10:16.873700Z",
     "start_time": "2020-08-02T13:10:16.863792Z"
    }
   },
   "outputs": [
    {
     "data": {
      "text/html": [
       "<div>\n",
       "<style scoped>\n",
       "    .dataframe tbody tr th:only-of-type {\n",
       "        vertical-align: middle;\n",
       "    }\n",
       "\n",
       "    .dataframe tbody tr th {\n",
       "        vertical-align: top;\n",
       "    }\n",
       "\n",
       "    .dataframe thead th {\n",
       "        text-align: right;\n",
       "    }\n",
       "</style>\n",
       "<table border=\"1\" class=\"dataframe\">\n",
       "  <thead>\n",
       "    <tr style=\"text-align: right;\">\n",
       "      <th></th>\n",
       "      <th>orderId</th>\n",
       "      <th>userId</th>\n",
       "      <th>productId</th>\n",
       "      <th>cityId</th>\n",
       "      <th>price</th>\n",
       "      <th>payMoney</th>\n",
       "      <th>channelId</th>\n",
       "      <th>deviceType</th>\n",
       "      <th>createTime</th>\n",
       "      <th>payTime</th>\n",
       "    </tr>\n",
       "    <tr>\n",
       "      <th>id</th>\n",
       "      <th></th>\n",
       "      <th></th>\n",
       "      <th></th>\n",
       "      <th></th>\n",
       "      <th></th>\n",
       "      <th></th>\n",
       "      <th></th>\n",
       "      <th></th>\n",
       "      <th></th>\n",
       "      <th></th>\n",
       "    </tr>\n",
       "  </thead>\n",
       "  <tbody>\n",
       "  </tbody>\n",
       "</table>\n",
       "</div>"
      ],
      "text/plain": [
       "Empty DataFrame\n",
       "Columns: [orderId, userId, productId, cityId, price, payMoney, channelId, deviceType, createTime, payTime]\n",
       "Index: []"
      ]
     },
     "execution_count": 30,
     "metadata": {},
     "output_type": "execute_result"
    }
   ],
   "source": [
    "df[df.createTime > endTime]"
   ]
  },
  {
   "cell_type": "code",
   "execution_count": 31,
   "metadata": {
    "ExecuteTime": {
     "end_time": "2020-08-02T13:10:48.626271Z",
     "start_time": "2020-08-02T13:10:48.612000Z"
    }
   },
   "outputs": [
    {
     "data": {
      "text/html": [
       "<div>\n",
       "<style scoped>\n",
       "    .dataframe tbody tr th:only-of-type {\n",
       "        vertical-align: middle;\n",
       "    }\n",
       "\n",
       "    .dataframe tbody tr th {\n",
       "        vertical-align: top;\n",
       "    }\n",
       "\n",
       "    .dataframe thead th {\n",
       "        text-align: right;\n",
       "    }\n",
       "</style>\n",
       "<table border=\"1\" class=\"dataframe\">\n",
       "  <thead>\n",
       "    <tr style=\"text-align: right;\">\n",
       "      <th></th>\n",
       "      <th>orderId</th>\n",
       "      <th>userId</th>\n",
       "      <th>productId</th>\n",
       "      <th>cityId</th>\n",
       "      <th>price</th>\n",
       "      <th>payMoney</th>\n",
       "      <th>channelId</th>\n",
       "      <th>deviceType</th>\n",
       "      <th>createTime</th>\n",
       "      <th>payTime</th>\n",
       "    </tr>\n",
       "    <tr>\n",
       "      <th>id</th>\n",
       "      <th></th>\n",
       "      <th></th>\n",
       "      <th></th>\n",
       "      <th></th>\n",
       "      <th></th>\n",
       "      <th></th>\n",
       "      <th></th>\n",
       "      <th></th>\n",
       "      <th></th>\n",
       "      <th></th>\n",
       "    </tr>\n",
       "  </thead>\n",
       "  <tbody>\n",
       "  </tbody>\n",
       "</table>\n",
       "</div>"
      ],
      "text/plain": [
       "Empty DataFrame\n",
       "Columns: [orderId, userId, productId, cityId, price, payMoney, channelId, deviceType, createTime, payTime]\n",
       "Index: []"
      ]
     },
     "execution_count": 31,
     "metadata": {},
     "output_type": "execute_result"
    }
   ],
   "source": [
    "df[df.payTime < startTime]"
   ]
  },
  {
   "cell_type": "markdown",
   "metadata": {},
   "source": [
    "## 综合处理"
   ]
  },
  {
   "cell_type": "markdown",
   "metadata": {},
   "source": [
    "1. 把 orderId 重复的记录删掉\n",
    "2. 把 productId 为0的记录删掉"
   ]
  },
  {
   "cell_type": "code",
   "execution_count": 33,
   "metadata": {
    "ExecuteTime": {
     "end_time": "2020-08-02T13:12:56.665315Z",
     "start_time": "2020-08-02T13:12:56.615152Z"
    }
   },
   "outputs": [
    {
     "data": {
      "text/plain": [
       "104506"
      ]
     },
     "execution_count": 33,
     "metadata": {},
     "output_type": "execute_result"
    }
   ],
   "source": [
    "df.drop(index=df[df.orderId.duplicated()].index, inplace=True) \n",
    "df.orderId.unique().size"
   ]
  },
  {
   "cell_type": "code",
   "execution_count": 34,
   "metadata": {
    "ExecuteTime": {
     "end_time": "2020-08-02T13:12:59.154384Z",
     "start_time": "2020-08-02T13:12:59.141255Z"
    }
   },
   "outputs": [],
   "source": [
    "df.drop(index=df[df.productId==0].index, inplace=True)"
   ]
  },
  {
   "cell_type": "markdown",
   "metadata": {},
   "source": [
    "# 分析数据"
   ]
  },
  {
   "cell_type": "markdown",
   "metadata": {},
   "source": [
    "## 查看数据总体情况"
   ]
  },
  {
   "cell_type": "code",
   "execution_count": 35,
   "metadata": {
    "ExecuteTime": {
     "end_time": "2020-08-02T13:14:23.521378Z",
     "start_time": "2020-08-02T13:14:23.503515Z"
    }
   },
   "outputs": [
    {
     "name": "stdout",
     "output_type": "stream",
     "text": [
      "104329\n",
      "102447\n",
      "906663.997\n",
      "1000\n"
     ]
    }
   ],
   "source": [
    "#总订单数，总下单用户，总销售额，有流水的商品数\n",
    "\n",
    "print(df.orderId.count()) \n",
    "print(df.userId.unique().size) \n",
    "print(df.payMoney.sum()/100)\n",
    "print(df.productId.unique().size)"
   ]
  },
  {
   "cell_type": "markdown",
   "metadata": {},
   "source": [
    "## 商品销量和销售额分析"
   ]
  },
  {
   "cell_type": "code",
   "execution_count": 36,
   "metadata": {
    "ExecuteTime": {
     "end_time": "2020-08-02T13:18:02.036900Z",
     "start_time": "2020-08-02T13:18:02.016406Z"
    }
   },
   "outputs": [
    {
     "name": "stdout",
     "output_type": "stream",
     "text": [
      "productId\n",
      "895    354\n",
      "762    350\n",
      "103    334\n",
      "587    303\n",
      "385    302\n",
      "60     301\n",
      "38     301\n",
      "403    297\n",
      "345    292\n",
      "823    288\n",
      "Name: orderId, dtype: int64\n",
      "productId\n",
      "948     29\n",
      "856     28\n",
      "621     27\n",
      "272     26\n",
      "563     24\n",
      "347     21\n",
      "597     19\n",
      "468     18\n",
      "986     16\n",
      "1000    13\n",
      "Name: orderId, dtype: int64\n"
     ]
    }
   ],
   "source": [
    "#销量前十和后十的商品品类\n",
    "productId_orderCount = df.groupby('productId').count() ['orderId'].sort_values(ascending=False)\n",
    "print(productId_orderCount.head(10))\n",
    "print(productId_orderCount.tail(10))"
   ]
  },
  {
   "cell_type": "code",
   "execution_count": 43,
   "metadata": {
    "ExecuteTime": {
     "end_time": "2020-08-02T13:24:08.853260Z",
     "start_time": "2020-08-02T13:24:08.834602Z"
    }
   },
   "outputs": [
    {
     "name": "stdout",
     "output_type": "stream",
     "text": [
      "productId\n",
      "385    427522.1\n",
      "61     361572.0\n",
      "103    344641.2\n",
      "405    339525.0\n",
      "720    322405.1\n",
      "345    320162.2\n",
      "698    318458.6\n",
      "182    296600.0\n",
      "383    280790.0\n",
      "396    269556.0\n",
      "Name: payMoney, dtype: float64\n",
      "productId\n",
      "310     22879.0\n",
      "847     22869.0\n",
      "454     22535.0\n",
      "817     22509.0\n",
      "597     21847.0\n",
      "408     18111.0\n",
      "986     14784.0\n",
      "964     14238.0\n",
      "1000    12169.0\n",
      "347     12070.0\n",
      "Name: payMoney, dtype: float64\n"
     ]
    }
   ],
   "source": [
    "#销售额前十和后十的商品品类\n",
    "productId_totalPay = df.groupby('productId').sum() ['payMoney'].sort_values(ascending=False)\n",
    "print(productId_totalPay.head(10))\n",
    "print(productId_totalPay.tail(10))"
   ]
  },
  {
   "cell_type": "code",
   "execution_count": 45,
   "metadata": {
    "ExecuteTime": {
     "end_time": "2020-08-02T13:24:36.146078Z",
     "start_time": "2020-08-02T13:24:36.134026Z"
    }
   },
   "outputs": [
    {
     "name": "stdout",
     "output_type": "stream",
     "text": [
      "Int64Index([  14,  807,  599,  676,    7,  469,  577,  551,  318,  220,  528,\n",
      "             303,  314,  359,  629,  582,  985,  218,  578,  227,  277,  145,\n",
      "             855,  586,  958,   91,  856,  948,  859,  874,  806,  272,  392,\n",
      "              27,  460,  436,  468,  579,  868,  137,   16,  590,  247,  569,\n",
      "             242,  104,  621,  478,  310,  847,  454,  817,  597,  408,  986,\n",
      "             964, 1000,  347],\n",
      "           dtype='int64', name='productId')\n"
     ]
    }
   ],
   "source": [
    "#查看销量和销售额最后100个商品的交集 \n",
    "problem_productIds = productId_totalPay.tail(100).index.intersection(productId_orderCount.tail(100).index)\n",
    "print(problem_productIds)"
   ]
  },
  {
   "cell_type": "markdown",
   "metadata": {},
   "source": [
    "分析显示，上述销量和销售额都不佳的商品，和业务商讨，判断是不是要优化或者下架。"
   ]
  },
  {
   "cell_type": "markdown",
   "metadata": {
    "ExecuteTime": {
     "end_time": "2020-08-02T13:27:01.363753Z",
     "start_time": "2020-08-02T13:27:01.360324Z"
    }
   },
   "source": [
    "## 渠道分析"
   ]
  },
  {
   "cell_type": "code",
   "execution_count": 87,
   "metadata": {
    "ExecuteTime": {
     "end_time": "2020-08-02T14:00:37.081373Z",
     "start_time": "2020-08-02T14:00:37.063324Z"
    }
   },
   "outputs": [
    {
     "name": "stdout",
     "output_type": "stream",
     "text": [
      "channelId\n",
      "9058255c90    38822\n",
      "29d55d09c6     7411\n",
      "41a4e91d29     6737\n",
      "df9f79c426     5929\n",
      "46d5cea30d     4943\n",
      "e0e6019897     3686\n",
      "e7dc8ef259     3530\n",
      "ad7e4ca9ae     2887\n",
      "4c33002d9a     2818\n",
      "e22babe5d4     2415\n",
      "Name: orderId, dtype: int64\n"
     ]
    }
   ],
   "source": [
    "#销量前十的渠道\n",
    "productId_channel_orderCount = df.groupby('channelId').count() ['orderId'].sort_values(ascending=False)\n",
    "print(productId_channel_orderCount.head(10))"
   ]
  },
  {
   "cell_type": "code",
   "execution_count": 88,
   "metadata": {
    "ExecuteTime": {
     "end_time": "2020-08-02T14:00:40.053856Z",
     "start_time": "2020-08-02T14:00:40.011709Z"
    }
   },
   "outputs": [
    {
     "name": "stdout",
     "output_type": "stream",
     "text": [
      "channelId   productId\n",
      "9058255c90  762          132\n",
      "            385          125\n",
      "            895          123\n",
      "            103          120\n",
      "            613          115\n",
      "                        ... \n",
      "a7b5e022c8  72             1\n",
      "            78             1\n",
      "            89             1\n",
      "            134            1\n",
      "0049dbeeeb  186            1\n",
      "Name: orderId, Length: 28468, dtype: int64\n"
     ]
    }
   ],
   "source": [
    "#各个渠道、各商品的销量\n",
    "productId_channel_orderCount = df.groupby(['channelId','productId']).count() ['orderId'].sort_values(ascending=False)\n",
    "print(productId_channel_orderCount)"
   ]
  },
  {
   "cell_type": "code",
   "execution_count": 89,
   "metadata": {
    "ExecuteTime": {
     "end_time": "2020-08-02T14:00:42.206538Z",
     "start_time": "2020-08-02T14:00:42.152160Z"
    }
   },
   "outputs": [
    {
     "name": "stdout",
     "output_type": "stream",
     "text": [
      "channelId   productId\n",
      "9058255c90  385          188085.1\n",
      "            405          163446.0\n",
      "            345          150250.2\n",
      "            61           139829.0\n",
      "            720          130654.0\n",
      "                           ...   \n",
      "8664ebb1ed  507               0.0\n",
      "e0e6019897  537               0.0\n",
      "5fb938db89  385               0.0\n",
      "a33b212a84  248               0.0\n",
      "            338               0.0\n",
      "Name: payMoney, Length: 28468, dtype: float64\n"
     ]
    }
   ],
   "source": [
    "#各个渠道、各商品的销售额\n",
    "productId_channel_totalPay = df.groupby(['channelId','productId']).sum() ['payMoney'].sort_values(ascending=False)\n",
    "print(productId_channel_totalPay)"
   ]
  },
  {
   "cell_type": "markdown",
   "metadata": {},
   "source": [
    "获取销量前十的渠道成本，进一步分析渠道整体效益，并分析各渠道商品销量的差异。"
   ]
  },
  {
   "cell_type": "markdown",
   "metadata": {},
   "source": [
    "## 下单时间分析"
   ]
  },
  {
   "cell_type": "markdown",
   "metadata": {},
   "source": [
    "按小时、按周，查看下单时间分布情况。"
   ]
  },
  {
   "cell_type": "code",
   "execution_count": 91,
   "metadata": {
    "ExecuteTime": {
     "end_time": "2020-08-02T14:06:28.993687Z",
     "start_time": "2020-08-02T14:06:28.716767Z"
    }
   },
   "outputs": [
    {
     "data": {
      "text/plain": [
       "<AxesSubplot:xlabel='orderHour'>"
      ]
     },
     "execution_count": 91,
     "metadata": {},
     "output_type": "execute_result"
    },
    {
     "data": {
      "image/png": "[encoded data removed]",
      "text/plain": [
       "<Figure size 432x288 with 1 Axes>"
      ]
     },
     "metadata": {
      "needs_background": "light"
     },
     "output_type": "display_data"
    }
   ],
   "source": [
    "df['orderHour'] = df.createTime.dt.hour\n",
    "df.groupby('orderHour').count()['orderId'].plot()"
   ]
  },
  {
   "cell_type": "code",
   "execution_count": 92,
   "metadata": {
    "ExecuteTime": {
     "end_time": "2020-08-02T14:07:43.789600Z",
     "start_time": "2020-08-02T14:07:43.754375Z"
    }
   },
   "outputs": [
    {
     "data": {
      "text/plain": [
       "orderWeek\n",
       "0    12503\n",
       "1    12484\n",
       "2    12932\n",
       "3    13794\n",
       "4    16198\n",
       "5    19496\n",
       "6    16922\n",
       "Name: orderId, dtype: int64"
      ]
     },
     "execution_count": 92,
     "metadata": {},
     "output_type": "execute_result"
    }
   ],
   "source": [
    "df['orderWeek'] = df.createTime.dt.dayofweek\n",
    "df.groupby('orderWeek').count()['orderId']"
   ]
  },
  {
   "cell_type": "markdown",
   "metadata": {},
   "source": [
    "由此可见：\n",
    "1. 每天存在两个高峰期，中午12-14点、晚上20点左右。\n",
    "2. 每周，周六成交量最多，其次是周五和周日。\n",
    "\n",
    "在此阶段适当多投放一些推广。"
   ]
  }
 ],
 "metadata": {
  "kernelspec": {
   "display_name": "Python 3",
   "language": "python",
   "name": "python3"
  },
  "toc": {
   "base_numbering": 1,
   "nav_menu": {},
   "number_sections": true,
   "sideBar": true,
   "skip_h1_title": false,
   "title_cell": "Table of Contents",
   "title_sidebar": "Contents",
   "toc_cell": false,
   "toc_position": {},
   "toc_section_display": true,
   "toc_window_display": false
  },
  "varInspector": {
   "cols": {
    "lenName": 16,
    "lenType": 16,
    "lenVar": 40
   },
   "kernels_config": {
    "python": {
     "delete_cmd_postfix": "",
     "delete_cmd_prefix": "del ",
     "library": "var_list.py",
     "varRefreshCmd": "print(var_dic_list())"
    },
    "r": {
     "delete_cmd_postfix": ") ",
     "delete_cmd_prefix": "rm(",
     "library": "var_list.r",
     "varRefreshCmd": "cat(var_dic_list()) "
    }
   },
   "types_to_exclude": [
    "module",
    "function",
    "builtin_function_or_method",
    "instance",
    "_Feature"
   ],
   "window_display": false
  }
 },
 "nbformat": 4,
 "nbformat_minor": 2
}
