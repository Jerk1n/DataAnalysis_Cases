{
 "cells": [
  {
   "cell_type": "code",
   "execution_count": null,
   "metadata": {},
   "outputs": [],
   "source": [
    "## Pandas 数据结构 Dataframe"
   ]
  },
  {
   "cell_type": "code",
   "execution_count": null,
   "metadata": {},
   "outputs": [],
   "source": [
    "## Dataframe 概念及创建"
   ]
  },
  {
   "cell_type": "code",
   "execution_count": 8,
   "metadata": {
    "ExecuteTime": {
     "end_time": "2020-01-15T04:06:59.835448Z",
     "start_time": "2020-01-15T04:06:59.822854Z"
    }
   },
   "outputs": [
    {
     "name": "stdout",
     "output_type": "stream",
     "text": [
      "   name  age gender\n",
      "0  Jack   11    man\n",
      "1   Tom   14    man\n",
      "2  John   16    man\n",
      "<class 'pandas.core.frame.DataFrame'>\n",
      "RangeIndex(start=0, stop=3, step=1) <class 'pandas.core.indexes.range.RangeIndex'>\n",
      "Index(['name', 'age', 'gender'], dtype='object') <class 'pandas.core.indexes.base.Index'>\n",
      "[['Jack' 11 'man']\n",
      " ['Tom' 14 'man']\n",
      " ['John' 16 'man']] <class 'numpy.ndarray'>\n"
     ]
    }
   ],
   "source": [
    "# Dataframe 是一个表格型的数据结构，是二维数组，包含一组有序的列，列的值类型可以是数值、字符、布尔值等\n",
    "# Dataframe 带有 index（行标签）和 columns（列标签） \n",
    "import numpy as np\n",
    "import pandas as pd\n",
    "\n",
    "data = {'name':['Jack','Tom','John'],\n",
    "       'age':[11,14,16],\n",
    "       'gender':['man','man','man']}\n",
    "df = pd.DataFrame(data)\n",
    "print(df)\n",
    "print(type(df))\n",
    "print(df.index,type(df.index))  # RangeIndex\n",
    "print(df.columns,type(df.columns))  # Index\n",
    "print(df.values,type(df.values))  # ndarray"
   ]
  },
  {
   "cell_type": "code",
   "execution_count": 16,
   "metadata": {
    "ExecuteTime": {
     "end_time": "2020-01-15T07:51:37.456586Z",
     "start_time": "2020-01-15T07:51:37.388198Z"
    }
   },
   "outputs": [
    {
     "name": "stdout",
     "output_type": "stream",
     "text": [
      "{'a': [1, 2, 3], 'b': [4, 5, 6], 'c': [7, 8, 9]}\n",
      "{'one': array([0.03653724, 0.05065395, 0.3724265 ]), 'two': array([0.74473969, 0.82934673, 0.20316226])}\n",
      "   a  b  c\n",
      "0  1  4  7\n",
      "1  2  5  8\n",
      "2  3  6  9\n",
      "        one       two\n",
      "0  0.036537  0.744740\n",
      "1  0.050654  0.829347\n",
      "2  0.372427  0.203162\n",
      "   a  b  c    d\n",
      "0  1  4  7  NaN\n",
      "1  2  5  8  NaN\n",
      "2  3  6  9  NaN\n",
      "   a  c  b\n",
      "0  1  7  4\n",
      "1  2  8  5\n",
      "2  3  9  6\n",
      "         one       two\n",
      "f1  0.036537  0.744740\n",
      "f2  0.050654  0.829347\n",
      "f3  0.372427  0.203162\n"
     ]
    }
   ],
   "source": [
    "# DataFrame 创建方法一：由list、ndarray组成的字典\n",
    "\n",
    "data1 = {'a':[1,2,3],\n",
    "        'b':[4,5,6],\n",
    "        'c':[7,8,9]}\n",
    "data2 = {'one':np.random.rand(3),\n",
    "        'two':np.random.rand(3)}\n",
    "print(data1)\n",
    "print(data2)\n",
    "df1 = pd.DataFrame(data1)\n",
    "df2 = pd.DataFrame(data2)\n",
    "print(df1)\n",
    "print(df2)\n",
    "#　注意：字典值的长度必须保持一致。\n",
    "\n",
    "df1 = pd.DataFrame(data1, columns=['a','b','c','d'])\n",
    "df2 = pd.DataFrame(data1, columns=['a','c','b'])\n",
    "print(df1)\n",
    "print(df2)\n",
    "# columns参数：可以重新指定列的顺序，用list的格式，如果现有数据没有该列，则产生 NaN 值\n",
    "# 且列的数量可以少于原数据\n",
    "\n",
    "df2 = pd.DataFrame(data2, index=['f1','f2','f3'])\n",
    "# df2 = pd.DataFrame(data2, index=['f1','f2','f3','f4'])\n",
    "print(df2)\n",
    "# ndarray 法创建 DataFrame重新定义 index 时，用 list 格式，个数（行数）与原数据必须保持一致"
   ]
  },
  {
   "cell_type": "code",
   "execution_count": 19,
   "metadata": {
    "ExecuteTime": {
     "end_time": "2020-01-15T07:56:19.364196Z",
     "start_time": "2020-01-15T07:56:19.315381Z"
    }
   },
   "outputs": [
    {
     "name": "stdout",
     "output_type": "stream",
     "text": [
      "{'one': 0    0.569844\n",
      "1    0.502948\n",
      "dtype: float64, 'two': 0    0.381593\n",
      "1    0.155750\n",
      "2    0.106728\n",
      "dtype: float64}\n",
      "{'one': a    0.133263\n",
      "b    0.248263\n",
      "dtype: float64, 'two': a    0.842854\n",
      "b    0.806573\n",
      "c    0.565692\n",
      "dtype: float64}\n",
      "        one       two\n",
      "0  0.569844  0.381593\n",
      "1  0.502948  0.155750\n",
      "2       NaN  0.106728\n",
      "        one       two\n",
      "a  0.133263  0.842854\n",
      "b  0.248263  0.806573\n",
      "c       NaN  0.565692\n"
     ]
    }
   ],
   "source": [
    "# DataFrame 创建方法二：由 Series 组成的字典\n",
    "\n",
    "data1 = {'one':pd.Series(np.random.rand(2)),\n",
    "        'two':pd.Series(np.random.rand(3))}\n",
    "data2 = {'one':pd.Series(np.random.rand(2),index=['a','b']),\n",
    "        'two':pd.Series(np.random.rand(3),index=['a','b','c'])}\n",
    "print(data1)\n",
    "print(data2)\n",
    "df1 = pd.DataFrame(data1)\n",
    "df2 = pd.DataFrame(data2)\n",
    "print(df1)\n",
    "print(df2)\n",
    "# series 法创建DataFrame时，或重新定义 index 时，长度可以不一样，空值自动填充为 NaN"
   ]
  },
  {
   "cell_type": "code",
   "execution_count": 22,
   "metadata": {
    "ExecuteTime": {
     "end_time": "2020-01-15T08:23:31.688553Z",
     "start_time": "2020-01-15T08:23:31.667714Z"
    }
   },
   "outputs": [
    {
     "name": "stdout",
     "output_type": "stream",
     "text": [
      "[[0.8192726  0.7556772  0.331472  ]\n",
      " [0.97270426 0.64137201 0.54902375]\n",
      " [0.70662469 0.99235659 0.33490152]]\n",
      "          0         1         2\n",
      "0  0.819273  0.755677  0.331472\n",
      "1  0.972704  0.641372  0.549024\n",
      "2  0.706625  0.992357  0.334902\n",
      "        one       two     three\n",
      "a  0.819273  0.755677  0.331472\n",
      "b  0.972704  0.641372  0.549024\n",
      "c  0.706625  0.992357  0.334902\n"
     ]
    }
   ],
   "source": [
    "# DataFrame 创建方法三：通过二维数组直接创建\n",
    "\n",
    "ar = np.random.rand(9).reshape(3,3)\n",
    "print(ar)\n",
    "df1 = pd.DataFrame(ar)\n",
    "df2 = pd.DataFrame(ar, index=['a','b','c'], columns=['one','two','three'])\n",
    "print(df1)\n",
    "print(df2)\n",
    "# 数组方法创建，index 和 columns 指定长度应当和原数组保持一致"
   ]
  },
  {
   "cell_type": "code",
   "execution_count": 31,
   "metadata": {
    "ExecuteTime": {
     "end_time": "2020-01-15T08:23:31.688553Z",
     "start_time": "2020-01-15T08:23:31.667714Z"
    }
   },
   "outputs": [
    {
     "name": "stdout",
     "output_type": "stream",
     "text": [
      "[{'one': 1, 'two': 2}, {'one': 5, 'two': 10, 'three': 15}]\n",
      "   one  three  two\n",
      "0    1    NaN    2\n",
      "1    5   15.0   10\n",
      "   one  three  two\n",
      "a    1    NaN    2\n",
      "b    5   15.0   10\n",
      "   one  two\n",
      "0    1    2\n",
      "1    5   10\n"
     ]
    }
   ],
   "source": [
    "# DataFrame 创建方法四：由字典组成的列表创建\n",
    "\n",
    "data = [{'one':1,'two':2},{'one':5,'two':10,'three':15}]\n",
    "print(data)\n",
    "df1 = pd.DataFrame(data)\n",
    "print(df1)\n",
    "df2 = pd.DataFrame(data, index=['a','b'])\n",
    "print(df2)\n",
    "df3 = pd.DataFrame(data, columns=['one','two'])\n",
    "print(df3)\n",
    "# 此方法，index 必须和原数组一样长度，columns 可以不一样长度"
   ]
  },
  {
   "cell_type": "code",
   "execution_count": 38,
   "metadata": {
    "ExecuteTime": {
     "end_time": "2020-01-15T08:33:47.027383Z",
     "start_time": "2020-01-15T08:33:47.002775Z"
    }
   },
   "outputs": [
    {
     "name": "stdout",
     "output_type": "stream",
     "text": [
      "{'Jack': {'math': 100, 'eng': 90, 'art': 80}, 'Tom': {'math': 95, 'eng': 85, 'art': 75}, 'Marry': {'math': 93, 'eng': 83}}\n",
      "      Jack  Tom  Marry\n",
      "art     80   75    NaN\n",
      "eng     90   85   83.0\n",
      "math   100   95   93.0\n",
      "      Bob  Tom  Marry\n",
      "art   NaN   75    NaN\n",
      "eng   NaN   85   83.0\n",
      "math  NaN   95   93.0\n",
      "   Jack  Tom  Marry\n",
      "a   NaN  NaN    NaN\n",
      "b   NaN  NaN    NaN\n",
      "c   NaN  NaN    NaN\n"
     ]
    }
   ],
   "source": [
    "# DataFrame 创建方法五：由字典组成的字典创建\n",
    "\n",
    "data = {'Jack':{'math':100,'eng':90,'art':80},\n",
    "       'Tom':{'math':95,'eng':85,'art':75},\n",
    "       'Marry':{'math':93,'eng':83}}\n",
    "print(data)\n",
    "df1 = pd.DataFrame(data)\n",
    "print(df1)\n",
    "# 字典 key 为 colums 值，字典内部的子字典 key 为 index\n",
    "# 子字典的键值个数不需要相等，缺失值自动填充为 NaN\n",
    "\n",
    "df2 = pd.DataFrame(data, columns=['Bob','Tom','Marry'])\n",
    "print(df2)\n",
    "# columns 参数可以增加和减少现有列，如果出现新的列，值为 NaN\n",
    "\n",
    "df3 = pd.DataFrame(data, index=['a','b','c'])\n",
    "print(df3)\n",
    "# 注意：此方法不能重新赋值原有的 index, 如果新的 index ,对应值为 NaN"
   ]
  },
  {
   "cell_type": "code",
   "execution_count": null,
   "metadata": {},
   "outputs": [],
   "source": [
    "## DataFrame 索引和切片"
   ]
  },
  {
   "cell_type": "code",
   "execution_count": 54,
   "metadata": {
    "ExecuteTime": {
     "end_time": "2020-01-15T09:11:00.298825Z",
     "start_time": "2020-01-15T09:11:00.271129Z"
    }
   },
   "outputs": [
    {
     "name": "stdout",
     "output_type": "stream",
     "text": [
      "               a          b          c          d\n",
      "one    71.888760  62.920516  86.723224  54.425745\n",
      "two    13.795651  57.716073  16.608057  72.243750\n",
      "three  85.492900   5.978901  17.540546  79.162128\n",
      "one      71.888760\n",
      "two      13.795651\n",
      "three    85.492900\n",
      "Name: a, dtype: float64 <class 'pandas.core.series.Series'>\n",
      "               a          b\n",
      "one    71.888760  62.920516\n",
      "two    13.795651  57.716073\n",
      "three  85.492900   5.978901 <class 'pandas.core.frame.DataFrame'>\n",
      "------\n",
      "a    71.888760\n",
      "b    62.920516\n",
      "c    86.723224\n",
      "d    54.425745\n",
      "Name: one, dtype: float64 <class 'pandas.core.series.Series'>\n",
      "             a          b          c          d\n",
      "one  71.888760  62.920516  86.723224  54.425745\n",
      "two  13.795651  57.716073  16.608057  72.243750\n"
     ]
    }
   ],
   "source": [
    "# DataFrame 选择行与列   选择列：df[['列名1', '列名2', ]]   选择行：df.loc[['行名1', ‘行名2’, ]]\n",
    "\n",
    "df = pd.DataFrame(np.random.rand(12).reshape(3,4)*100,\n",
    "                 index=['one','two','three'],\n",
    "                 columns=['a','b','c','d'])\n",
    "print(df)\n",
    "\n",
    "data1 = df['a']\n",
    "print(data1, type(data1))\n",
    "data2 = df[['a','b']]\n",
    "print(data2, type(data2))\n",
    "print('------')\n",
    "\n",
    "data3 = df.loc['one']\n",
    "print(data3, type(data3))\n",
    "data4 = df.loc[['one','two']]\n",
    "print(data4)"
   ]
  },
  {
   "cell_type": "code",
   "execution_count": 53,
   "metadata": {
    "ExecuteTime": {
     "end_time": "2020-01-15T09:10:49.439817Z",
     "start_time": "2020-01-15T09:10:49.431030Z"
    }
   },
   "outputs": [
    {
     "name": "stdout",
     "output_type": "stream",
     "text": [
      "             a          b          c          d\n",
      "one  48.545144  75.293376  33.590293  33.614779\n"
     ]
    }
   ],
   "source": [
    "# DataFrame 选择列， df[]一般用于选择列，但也可以选择行\n",
    "\n",
    "data3 = df[:1]\n",
    "# data3 = df.loc['one']\n",
    "print(data3)\n",
    "# df[]中为数字时，默认选择行，且只能以切片的形式选择，不能使用纯数字，比如 df[0]"
   ]
  },
  {
   "cell_type": "code",
   "execution_count": 50,
   "metadata": {
    "ExecuteTime": {
     "end_time": "2020-01-15T10:55:18.164505Z",
     "start_time": "2020-01-15T10:55:18.136011Z"
    }
   },
   "outputs": [
    {
     "name": "stdout",
     "output_type": "stream",
     "text": [
      "               a          b          c          d\n",
      "one    44.215292  53.488753  82.001929  54.490137\n",
      "two    84.404553  82.414139  49.727960  47.858455\n",
      "three  29.853999  74.984166  46.651801  89.468108\n",
      "           a          b          c          d\n",
      "0  68.613001  94.876377   8.799696  47.995541\n",
      "1  28.788729  71.050735  53.302139  16.239472\n",
      "2  93.309545  63.679922  64.804043  95.907981\n",
      "3  22.913158  72.655452  99.420815  21.334466\n",
      "              a          b          c          d\n",
      "one   44.215292  53.488753  82.001929  54.490137\n",
      "two   84.404553  82.414139  49.727960  47.858455\n",
      "four        NaN        NaN        NaN        NaN\n",
      "           a          b          c          d\n",
      "1  28.788729  71.050735  53.302139  16.239472\n",
      "2  93.309545  63.679922  64.804043  95.907981\n",
      "               a          b          c          d\n",
      "one    44.215292  53.488753  82.001929  54.490137\n",
      "two    84.404553  82.414139  49.727960  47.858455\n",
      "three  29.853999  74.984166  46.651801  89.468108\n",
      "           a          b          c          d\n",
      "1  28.788729  71.050735  53.302139  16.239472\n",
      "2  93.309545  63.679922  64.804043  95.907981\n",
      "3  22.913158  72.655452  99.420815  21.334466\n"
     ]
    },
    {
     "name": "stderr",
     "output_type": "stream",
     "text": [
      "/Users/zhengxixuan/.pyenv/versions/3.7.0/envs/data101/lib/python3.7/site-packages/ipykernel_launcher.py:11: FutureWarning: \n",
      "Passing list-likes to .loc or [] with any missing label will raise\n",
      "KeyError in the future, you can use .reindex() as an alternative.\n",
      "\n",
      "See the documentation here:\n",
      "https://pandas.pydata.org/pandas-docs/stable/indexing.html#deprecate-loc-reindex-listlike\n",
      "  # This is added back by InteractiveShellApp.init_path()\n"
     ]
    }
   ],
   "source": [
    "# DataFrame 选择行，df.loc[] 针对 index 选择行，可以使用指定index名称，也可以使用默认数字index (前提是未指定index的情况)\n",
    "\n",
    "df1 = pd.DataFrame(np.random.rand(12).reshape(3,4)*100,\n",
    "                 index=['one','two','three'],\n",
    "                 columns=['a','b','c','d'])\n",
    "print(df1)\n",
    "df2 = pd.DataFrame(np.random.rand(16).reshape(4,4)*100,\n",
    "                 columns=['a','b','c','d'])\n",
    "print(df2)\n",
    "\n",
    "data4 = df1.loc[['one','two','four']]\n",
    "data5 = df2.loc[[1,2]] \n",
    "print(data4)\n",
    "print(data5)\n",
    "\n",
    "# 切片同理，左闭右闭，末端包含\n",
    "\n",
    "data6 = df1.loc['one':'three']\n",
    "data7 = df2.loc[1:3]\n",
    "print(data6)\n",
    "print(data7)"
   ]
  },
  {
   "cell_type": "code",
   "execution_count": 58,
   "metadata": {
    "ExecuteTime": {
     "end_time": "2020-01-15T10:55:18.164505Z",
     "start_time": "2020-01-15T10:55:18.136011Z"
    }
   },
   "outputs": [
    {
     "name": "stdout",
     "output_type": "stream",
     "text": [
      "               a          b          c          d\n",
      "one     7.613701  50.713828  33.856287   8.985337\n",
      "two    70.447756  79.743119  68.136030  45.222951\n",
      "three  45.780575  68.342667  65.022738  87.140524\n",
      "four   60.806640  50.922545  55.203023  94.749104\n",
      "------\n",
      "a     7.613701\n",
      "b    50.713828\n",
      "c    33.856287\n",
      "d     8.985337\n",
      "Name: one, dtype: float64\n",
      "a    60.806640\n",
      "b    50.922545\n",
      "c    55.203023\n",
      "d    94.749104\n",
      "Name: four, dtype: float64\n",
      "单位置索引\n",
      "------\n",
      "               a          b          c          d\n",
      "one     7.613701  50.713828  33.856287   8.985337\n",
      "three  45.780575  68.342667  65.022738  87.140524\n",
      "              a          b          c          d\n",
      "four  60.806640  50.922545  55.203023  94.749104\n",
      "two   70.447756  79.743119  68.136030  45.222951\n",
      "one    7.613701  50.713828  33.856287   8.985337\n",
      "多位置索引\n",
      "------\n",
      "             a          b          c          d\n",
      "one   7.613701  50.713828  33.856287   8.985337\n",
      "two  70.447756  79.743119  68.136030  45.222951\n",
      "               a          b          c          d\n",
      "one     7.613701  50.713828  33.856287   8.985337\n",
      "three  45.780575  68.342667  65.022738  87.140524\n",
      "切片索引\n"
     ]
    }
   ],
   "source": [
    "# DataFrame 选择行  df.iloc[] 按照整数位置（从轴的 0 到 len-1）选择行\n",
    "\n",
    "df1 = pd.DataFrame(np.random.rand(16).reshape(4,4)*100,\n",
    "                 index=['one','two','three','four'],\n",
    "                 columns=['a','b','c','d'])\n",
    "print(df1)\n",
    "print('------')\n",
    "\n",
    "print(df1.iloc[0]) # 第一行\n",
    "print(df1.iloc[-1])  # 倒数第一行\n",
    "# print(df1.iloc[4])\n",
    "print('单位置索引\\n------')\n",
    "# 和 loc 不一样，iloc 索引不能超出原数据的行数\n",
    "\n",
    "print(df1.iloc[[0,2]])\n",
    "print(df1.iloc[[3,1,0]])\n",
    "print('多位置索引\\n------')\n",
    "\n",
    "print(df1.iloc[0:2])\n",
    "print(df1.iloc[::2])\n",
    "print('切片索引')\n",
    "# 注意：iloc 切片末端不包含，loc切片末端包含"
   ]
  },
  {
   "cell_type": "code",
   "execution_count": 64,
   "metadata": {
    "ExecuteTime": {
     "end_time": "2020-01-15T10:55:18.164505Z",
     "start_time": "2020-01-15T10:55:18.136011Z"
    }
   },
   "outputs": [
    {
     "name": "stdout",
     "output_type": "stream",
     "text": [
      "               a          b          c          d\n",
      "one    88.146985  36.819439   5.456046  58.127344\n",
      "two    29.763987  44.601227  87.881762   1.479309\n",
      "three  63.713191  97.030425  91.843035  49.922879\n",
      "four   26.284360  96.620178   8.732149  47.138966\n",
      "------\n",
      "           a      b      c      d\n",
      "one    False  False   True  False\n",
      "two    False  False  False   True\n",
      "three  False  False  False  False\n",
      "four   False  False   True  False <class 'pandas.core.frame.DataFrame'>\n",
      "        a   b         c         d\n",
      "one   NaN NaN  5.456046       NaN\n",
      "two   NaN NaN       NaN  1.479309\n",
      "three NaN NaN       NaN       NaN\n",
      "four  NaN NaN  8.732149       NaN\n",
      "------\n",
      "one      True\n",
      "two      True\n",
      "three    True\n",
      "four     True\n",
      "Name: a, dtype: bool <class 'pandas.core.series.Series'>\n",
      "               a          b          c          d\n",
      "one    88.146985  36.819439   5.456046  58.127344\n",
      "two    29.763987  44.601227  87.881762   1.479309\n",
      "three  63.713191  97.030425  91.843035  49.922879\n",
      "four   26.284360  96.620178   8.732149  47.138966\n",
      "------\n",
      "           a      b\n",
      "one     True  False\n",
      "two    False  False\n",
      "three   True   True\n",
      "four   False   True <class 'pandas.core.frame.DataFrame'>\n",
      "               a          b   c   d\n",
      "one    88.146985        NaN NaN NaN\n",
      "two          NaN        NaN NaN NaN\n",
      "three  63.713191  97.030425 NaN NaN\n",
      "four         NaN  96.620178 NaN NaN\n",
      "------\n",
      "           a      b      c      d\n",
      "one    False  False   True  False\n",
      "three  False  False  False  False <class 'pandas.core.frame.DataFrame'>\n",
      "        a   b         c   d\n",
      "one   NaN NaN  5.456046 NaN\n",
      "two   NaN NaN       NaN NaN\n",
      "three NaN NaN       NaN NaN\n",
      "four  NaN NaN       NaN NaN\n"
     ]
    }
   ],
   "source": [
    "# DataFrame 布尔型索引  和 Series 原理相同\n",
    "\n",
    "df = pd.DataFrame(np.random.rand(16).reshape(4,4)*100,\n",
    "                 index=['one','two','three','four'],\n",
    "                 columns=['a','b','c','d'])\n",
    "print(df)\n",
    "print('------')\n",
    "\n",
    "br1 = df < 20\n",
    "print(br1,type(br1))\n",
    "print(df[br1])\n",
    "print('------')\n",
    "# 每个值做判断，返回True 的值\n",
    "\n",
    "br2 = df['a'] > 20\n",
    "print(br2,type(br2))\n",
    "print(df[br2])\n",
    "print('------')\n",
    "# 单列做判断，返回列为 True 的行数据（包括其他列）\n",
    "\n",
    "br3 = df[['a','b']] > 50\n",
    "print(br3,type(br3))\n",
    "print(df[br3])\n",
    "print('------')\n",
    "# 多列判断，返回所有数据，True 返回原数据，False 返回 NaN\n",
    "\n",
    "br4 = df.loc[['one','three']]  < 20\n",
    "print(br4,type(br4))\n",
    "print(df[br4])\n",
    "# 多行判断，返回所有数据，True 返回原数据，False 返回 NaN"
   ]
  },
  {
   "cell_type": "code",
   "execution_count": 68,
   "metadata": {
    "ExecuteTime": {
     "end_time": "2020-01-15T10:55:18.164505Z",
     "start_time": "2020-01-15T10:55:18.136011Z"
    }
   },
   "outputs": [
    {
     "name": "stdout",
     "output_type": "stream",
     "text": [
      "               a          b          c          d\n",
      "one    82.125156  81.590895  46.190402  48.200380\n",
      "two    45.193235   7.332973  99.298356  46.117373\n",
      "three  61.263372  98.612598  93.519166  98.409592\n",
      "four   43.297849  67.434183  77.726207  91.123616\n",
      "------\n",
      "one      82.125156\n",
      "three    61.263372\n",
      "Name: a, dtype: float64\n",
      "             b          c\n",
      "one  81.590895  46.190402\n",
      "two   7.332973  99.298356\n",
      "               a          b          c          d\n",
      "three  61.263372  98.612598  93.519166  98.409592\n",
      "four   43.297849  67.434183  77.726207  91.123616\n"
     ]
    }
   ],
   "source": [
    "# DataFrame 多重索引：原则是先选择列，再选择行\n",
    "\n",
    "df = pd.DataFrame(np.random.rand(16).reshape(4,4)*100,\n",
    "                 index=['one','two','three','four'],\n",
    "                 columns=['a','b','c','d'])\n",
    "print(df)\n",
    "print('------')\n",
    "\n",
    "print(df['a'].loc[['one','three']])\n",
    "print(df[['b','c']].iloc[:2])\n",
    "print(df[df['c']>50].iloc[1:])"
   ]
  },
  {
   "cell_type": "code",
   "execution_count": null,
   "metadata": {},
   "outputs": [],
   "source": [
    "## DataFrame 基本技巧\n",
    "## 查看、转置、对齐、排序、增删改"
   ]
  },
  {
   "cell_type": "code",
   "execution_count": 71,
   "metadata": {
    "ExecuteTime": {
     "end_time": "2020-01-15T10:15:48.062828Z",
     "start_time": "2020-01-15T10:15:48.047021Z"
    }
   },
   "outputs": [
    {
     "name": "stdout",
     "output_type": "stream",
     "text": [
      "           0          1\n",
      "0  94.423717  17.004013\n",
      "1  57.611433  25.906617\n",
      "2  77.914881  65.064751\n",
      "           0          1\n",
      "5  47.554019  79.041015\n",
      "6  51.257756   9.541101\n",
      "7  15.398340  58.141129\n",
      "8  59.352908  76.315052\n",
      "9  84.047921  38.110667\n",
      "           0          1          2          3          4          5  \\\n",
      "0  94.423717  57.611433  77.914881  80.836818  56.790953  47.554019   \n",
      "1  17.004013  25.906617  65.064751  70.856492  91.709132  79.041015   \n",
      "\n",
      "           6          7          8          9  \n",
      "0  51.257756  15.398340  59.352908  84.047921  \n",
      "1   9.541101  58.141129  76.315052  38.110667  \n"
     ]
    }
   ],
   "source": [
    "# DataFrame 查看 head\\tail, 转置.T\n",
    "\n",
    "df= pd.DataFrame(np.random.rand(20).reshape(10,2)*100)\n",
    "print(df.head(3))\n",
    "print(df.tail())\n",
    "\n",
    "print(df.T)"
   ]
  },
  {
   "cell_type": "code",
   "execution_count": 78,
   "metadata": {
    "ExecuteTime": {
     "end_time": "2020-01-15T10:55:18.164505Z",
     "start_time": "2020-01-15T10:55:18.136011Z"
    }
   },
   "outputs": [
    {
     "name": "stdout",
     "output_type": "stream",
     "text": [
      "           a          b          c          d\n",
      "0   8.949849  90.626869  71.820057  10.877335\n",
      "1  68.873135  90.106979  51.311214   6.265649\n",
      "2   4.362331  56.572734  25.816962  82.733661\n",
      "3  25.491983  91.447533  20.404486  76.908827\n",
      "            a           b           c           d    e\n",
      "0    8.949849   90.626869   71.820057   10.877335   10\n",
      "1   68.873135   90.106979   51.311214    6.265649   10\n",
      "2    4.362331   56.572734   25.816962   82.733661   10\n",
      "3   25.491983   91.447533   20.404486   76.908827   10\n",
      "4  100.000000  100.000000  100.000000  100.000000  100\n",
      "     a    b           c           d   e\n",
      "0  200  200   71.820057   10.877335  20\n",
      "1   50   50   50.000000   50.000000  50\n",
      "2   50   50   50.000000   50.000000  50\n",
      "3   50   50   50.000000   50.000000  50\n",
      "4  200  200  100.000000  100.000000  20\n"
     ]
    }
   ],
   "source": [
    "# DataFrame 添加与修改\n",
    "\n",
    "df = pd.DataFrame(np.random.rand(16).reshape(4,4)*100,\n",
    "                 columns=['a','b','c','d'])\n",
    "print(df)\n",
    "\n",
    "df['e'] = 10\n",
    "df.loc[4] = 100\n",
    "print(df)\n",
    "# 新增行/列，并赋值\n",
    "\n",
    "df['e'] = 20\n",
    "df[['a','b']] = 200\n",
    "df.loc[1:3] = 50\n",
    "print(df)\n",
    "# 索引后直接修改值"
   ]
  },
  {
   "cell_type": "code",
   "execution_count": 84,
   "metadata": {
    "ExecuteTime": {
     "end_time": "2020-01-15T10:55:18.164505Z",
     "start_time": "2020-01-15T10:55:18.136011Z"
    }
   },
   "outputs": [
    {
     "name": "stdout",
     "output_type": "stream",
     "text": [
      "           a          b          c          d\n",
      "0  32.259691  93.130421  77.523907  40.712898\n",
      "1  39.349909   3.565984  89.785653  88.618089\n",
      "2   0.113810  21.511734  65.916858  22.188992\n",
      "3  90.407905  47.608240  55.856180  32.985617\n",
      "           b          c          d\n",
      "0  93.130421  77.523907  40.712898\n",
      "1   3.565984  89.785653  88.618089\n",
      "2  21.511734  65.916858  22.188992\n",
      "3  47.608240  55.856180  32.985617\n",
      "------\n",
      "           b          c          d\n",
      "1   3.565984  89.785653  88.618089\n",
      "2  21.511734  65.916858  22.188992\n",
      "3  47.608240  55.856180  32.985617\n",
      "           b          c          d\n",
      "0  93.130421  77.523907  40.712898\n",
      "3  47.608240  55.856180  32.985617\n",
      "           b          c          d\n",
      "0  93.130421  77.523907  40.712898\n",
      "1   3.565984  89.785653  88.618089\n",
      "2  21.511734  65.916858  22.188992\n",
      "3  47.608240  55.856180  32.985617\n",
      "------\n",
      "           b          c\n",
      "0  93.130421  77.523907\n",
      "1   3.565984  89.785653\n",
      "2  21.511734  65.916858\n",
      "3  47.608240  55.856180\n",
      "           b          c          d\n",
      "0  93.130421  77.523907  40.712898\n",
      "1   3.565984  89.785653  88.618089\n",
      "2  21.511734  65.916858  22.188992\n",
      "3  47.608240  55.856180  32.985617\n"
     ]
    }
   ],
   "source": [
    "# DataFrame 删除 del/.drop()\n",
    "\n",
    "df = pd.DataFrame(np.random.rand(16).reshape(4,4)*100,\n",
    "                 columns=['a','b','c','d'])\n",
    "print(df)\n",
    "\n",
    "del df['a']\n",
    "print(df)\n",
    "print('------')\n",
    "# del 语句：删除列\n",
    "\n",
    "print(df.drop(0))\n",
    "print(df.drop([1,2]))  # 左闭右闭\n",
    "print(df)\n",
    "print('------')\n",
    "# .drop() 删除行，inplace=False  删除后生成新数据，不改变原始数据\n",
    "\n",
    "print(df.drop(['d'], axis=1))\n",
    "print(df)\n",
    "# .drop() 删除列，要加上axis=1, inplace=False 删除后生成新数据，不改变原始数据"
   ]
  },
  {
   "cell_type": "code",
   "execution_count": 85,
   "metadata": {
    "ExecuteTime": {
     "end_time": "2020-01-15T10:55:18.164505Z",
     "start_time": "2020-01-15T10:55:18.136011Z"
    }
   },
   "outputs": [
    {
     "name": "stdout",
     "output_type": "stream",
     "text": [
      "          a         b   c   d\n",
      "0 -0.962475  0.000631 NaN NaN\n",
      "1 -1.342451  0.579971 NaN NaN\n",
      "2 -0.686524  0.574510 NaN NaN\n",
      "3  1.139719  0.316870 NaN NaN\n",
      "4  0.127184 -0.925611 NaN NaN\n",
      "5  2.343531 -0.722108 NaN NaN\n",
      "6 -1.303822  0.055258 NaN NaN\n",
      "7  1.637485  1.222072 NaN NaN\n",
      "8       NaN       NaN NaN NaN\n",
      "9       NaN       NaN NaN NaN\n"
     ]
    }
   ],
   "source": [
    "# DataFrame 对齐  自动按照列和索引对齐，数据不足用 NaN\n",
    "\n",
    "df1 = pd.DataFrame(np.random.randn(10,4), columns=['a','b','c','d'])\n",
    "df2 = pd.DataFrame(np.random.randn(8,2), columns=['a','b'])\n",
    "print(df1+df2)"
   ]
  },
  {
   "cell_type": "code",
   "execution_count": 97,
   "metadata": {
    "ExecuteTime": {
     "end_time": "2020-01-15T10:55:18.164505Z",
     "start_time": "2020-01-15T10:55:18.136011Z"
    }
   },
   "outputs": [
    {
     "name": "stdout",
     "output_type": "stream",
     "text": [
      "           a          b          c          d\n",
      "0  76.289980  40.268603   2.375871  48.115922\n",
      "1  75.312316  72.303007  38.343544  22.982043\n",
      "2  17.836965  49.076718  19.888634  24.837256\n",
      "3  93.393727  52.577777  73.083404  29.730007\n",
      "           a          b          c          d\n",
      "2  17.836965  49.076718  19.888634  24.837256\n",
      "1  75.312316  72.303007  38.343544  22.982043\n",
      "0  76.289980  40.268603   2.375871  48.115922\n",
      "3  93.393727  52.577777  73.083404  29.730007\n",
      "           a          b          c          d\n",
      "3  93.393727  52.577777  73.083404  29.730007\n",
      "0  76.289980  40.268603   2.375871  48.115922\n",
      "1  75.312316  72.303007  38.343544  22.982043\n",
      "2  17.836965  49.076718  19.888634  24.837256\n",
      "------\n",
      "   a  b  c\n",
      "0  1  0  8\n",
      "1  2  1  7\n",
      "2  1  2  6\n",
      "3  2  3  5\n",
      "4  1  4  4\n",
      "5  2  5  3\n",
      "6  1  6  2\n",
      "7  2  7  1\n",
      "   a  b  c\n",
      "6  1  6  2\n",
      "4  1  4  4\n",
      "2  1  2  6\n",
      "0  1  0  8\n",
      "7  2  7  1\n",
      "5  2  5  3\n",
      "3  2  3  5\n",
      "1  2  1  7\n",
      "   c  a  b\n",
      "0  8  1  0\n",
      "1  7  2  1\n",
      "2  6  1  2\n",
      "3  5  2  3\n",
      "4  4  1  4\n",
      "5  3  2  5\n",
      "6  2  1  6\n",
      "7  1  2  7\n"
     ]
    }
   ],
   "source": [
    "# DataFrame 排序一：按值排序 .sort_values\n",
    "\n",
    "df = pd.DataFrame(np.random.rand(16).reshape(4,4)*100,\n",
    "                 columns=['a','b','c','d'])\n",
    "print(df)\n",
    "\n",
    "print(df.sort_values(['a'], ascending=True))  # 升序, 默认升序\n",
    "print(df.sort_values(['a'], ascending=False))  # 降序\n",
    "print('------')\n",
    "# 单列排序，参数ascengding 控制升降\n",
    "\n",
    "df1 = pd.DataFrame({'a':[1,2,1,2,1,2,1,2],\n",
    "                   'b':list(range(8)),\n",
    "                   'c':list(range(8,0,-1))})\n",
    "print(df1)\n",
    "print(df1.sort_values(['a','c']))\n",
    "# 多列排序，按列顺序排\n",
    "print(df1.sort_values([1], axis=1, ascending=False))\n",
    "# 单行排序，降序\n",
    "\n",
    "# '''\n",
    "# df1.sort_values(\n",
    "#     by,\n",
    "#     axis=0,\n",
    "#     ascending=True,\n",
    "#     inplace=False,\n",
    "#     kind='quicksort',\n",
    "#     na_position='last',)\n",
    "# '''\n",
    "# axis默认是0,ascending 默认升序"
   ]
  },
  {
   "cell_type": "code",
   "execution_count": 101,
   "metadata": {
    "ExecuteTime": {
     "end_time": "2020-01-15T10:55:18.164505Z",
     "start_time": "2020-01-15T10:55:18.136011Z"
    }
   },
   "outputs": [
    {
     "name": "stdout",
     "output_type": "stream",
     "text": [
      "           a          b          c          d\n",
      "5   4.814500  98.026070  52.322092  35.566957\n",
      "4  83.307966  94.594107  97.196116  26.148659\n",
      "3  15.916664  77.736072  53.690069  37.823567\n",
      "2  90.324961  77.661460  89.851021  85.432664\n",
      "           a          b          c          d\n",
      "2  90.324961  77.661460  89.851021  85.432664\n",
      "3  15.916664  77.736072  53.690069  37.823567\n",
      "4  83.307966  94.594107  97.196116  26.148659\n",
      "5   4.814500  98.026070  52.322092  35.566957\n",
      "           a          b          c          d\n",
      "e  25.422553  75.472701  39.011765  37.751787\n",
      "z   6.587094  93.831074  56.226537  47.436320\n",
      "l  42.140843  21.112079  18.352404   5.342778\n",
      "k  78.955362  25.085857  18.751358  95.164509\n",
      "           a          b          c          d\n",
      "e  25.422553  75.472701  39.011765  37.751787\n",
      "k  78.955362  25.085857  18.751358  95.164509\n",
      "l  42.140843  21.112079  18.352404   5.342778\n",
      "z   6.587094  93.831074  56.226537  47.436320\n"
     ]
    }
   ],
   "source": [
    "# DataFrame 排序二： 索引排序 .sort_index\n",
    "\n",
    "df1 = pd.DataFrame(np.random.rand(16).reshape(4,4)*100,\n",
    "                  index=[5,4,3,2],\n",
    "                  columns=['a','b','c','d'])\n",
    "df2 = pd.DataFrame(np.random.rand(16).reshape(4,4)*100,\n",
    "                  index=['e','z','l','k'],\n",
    "                  columns=['a','b','c','d'])\n",
    "                         \n",
    "print(df1)\n",
    "print(df1.sort_index())\n",
    "print(df2)\n",
    "print(df2.sort_index())\n",
    "# 按 index 排序，默认升序，生成新数据，不替换原数据"
   ]
  }
 ],
 "metadata": {
  "kernelspec": {
   "display_name": "Python 3",
   "language": "python",
   "name": "python3"
  },
  "language_info": {
   "codemirror_mode": {
    "name": "ipython",
    "version": 3
   },
   "file_extension": ".py",
   "mimetype": "text/x-python",
   "name": "python",
   "nbconvert_exporter": "python",
   "pygments_lexer": "ipython3",
   "version": "3.7.0"
  },
  "toc": {
   "base_numbering": 1,
   "nav_menu": {},
   "number_sections": true,
   "sideBar": true,
   "skip_h1_title": false,
   "title_cell": "Table of Contents",
   "title_sidebar": "Contents",
   "toc_cell": false,
   "toc_position": {},
   "toc_section_display": true,
   "toc_window_display": false
  },
  "varInspector": {
   "cols": {
    "lenName": 16,
    "lenType": 16,
    "lenVar": 40
   },
   "kernels_config": {
    "python": {
     "delete_cmd_postfix": "",
     "delete_cmd_prefix": "del ",
     "library": "var_list.py",
     "varRefreshCmd": "print(var_dic_list())"
    },
    "r": {
     "delete_cmd_postfix": ") ",
     "delete_cmd_prefix": "rm(",
     "library": "var_list.r",
     "varRefreshCmd": "cat(var_dic_list()) "
    }
   },
   "types_to_exclude": [
    "module",
    "function",
    "builtin_function_or_method",
    "instance",
    "_Feature"
   ],
   "window_display": false
  }
 },
 "nbformat": 4,
 "nbformat_minor": 2
}
