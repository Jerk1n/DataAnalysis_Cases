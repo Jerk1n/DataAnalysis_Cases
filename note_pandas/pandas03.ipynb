{
 "cells": [
  {
   "cell_type": "code",
   "execution_count": null,
   "metadata": {
    "collapsed": true
   },
   "outputs": [],
   "source": [
    "## 数据读取   read_table, read_csv, read_excel"
   ]
  },
  {
   "cell_type": "markdown",
   "metadata": {},
   "source": [
    "![](pandas_read.png)"
   ]
  },
  {
   "cell_type": "code",
   "execution_count": 5,
   "metadata": {
    "ExecuteTime": {
     "end_time": "2020-01-17T05:43:03.400375Z",
     "start_time": "2020-01-17T05:43:03.388365Z"
    }
   },
   "outputs": [
    {
     "name": "stdout",
     "output_type": "stream",
     "text": [
      "   a  b  c\n",
      "0  1  2  3\n",
      "1  4  5  6\n",
      "2  7  8  9\n"
     ]
    },
    {
     "name": "stderr",
     "output_type": "stream",
     "text": [
      "/Users/zhengxixuan/.pyenv/versions/3.7.0/envs/data101/lib/python3.7/site-packages/ipykernel_launcher.py:4: FutureWarning: read_table is deprecated, use read_csv instead.\n",
      "  after removing the cwd from sys.path.\n"
     ]
    }
   ],
   "source": [
    "# read_table\n",
    "import pandas as pd\n",
    "\n",
    "df1 = pd.read_table('test.txt', sep=',')\n",
    "print(df1)\n",
    "# sep：用于拆分的字符，也可以用delemiter = ','\n",
    "# index_col：指定某列为行索引，否则自动索引0, 1, ..."
   ]
  },
  {
   "cell_type": "code",
   "execution_count": 6,
   "metadata": {
    "ExecuteTime": {
     "end_time": "2020-01-17T05:45:14.379976Z",
     "start_time": "2020-01-17T05:45:14.363368Z"
    }
   },
   "outputs": [
    {
     "name": "stdout",
     "output_type": "stream",
     "text": [
      "   fixed acidity  volatile acidity  citric acid  residual sugar  chlorides  \\\n",
      "0            7.4              0.70         0.00             1.9      0.076   \n",
      "1            7.8              0.88         0.00             2.6      0.098   \n",
      "2            7.8              0.76         0.04             2.3      0.092   \n",
      "3           11.2              0.28         0.56             1.9      0.075   \n",
      "4            7.4              0.70         0.00             1.9      0.076   \n",
      "\n",
      "   free sulfur dioxide  total sulfur dioxide  density    pH  sulphates  \\\n",
      "0                 11.0                  34.0   0.9978  3.51       0.56   \n",
      "1                 25.0                  67.0   0.9968  3.20       0.68   \n",
      "2                 15.0                  54.0   0.9970  3.26       0.65   \n",
      "3                 17.0                  60.0   0.9980  3.16       0.58   \n",
      "4                 11.0                  34.0   0.9978  3.51       0.56   \n",
      "\n",
      "   alcohol  quality  \n",
      "0      9.4        5  \n",
      "1      9.8        5  \n",
      "2      9.8        5  \n",
      "3      9.8        6  \n",
      "4      9.4        5  \n"
     ]
    }
   ],
   "source": [
    "# read_excel\n",
    "# excel 文件通常先导出 csv,再读取\n",
    "\n",
    "df2 = pd.read_csv('winequality-red.csv',sep=';')\n",
    "print(df2.head())\n",
    "\n",
    "# encoding：指定字符集类型，即编码，通常指定为'utf-8'"
   ]
  },
  {
   "cell_type": "code",
   "execution_count": 9,
   "metadata": {
    "ExecuteTime": {
     "end_time": "2020-01-17T05:52:20.067493Z",
     "start_time": "2020-01-17T05:52:20.064763Z"
    }
   },
   "outputs": [],
   "source": [
    "# read_excel\n",
    "\n",
    "df3 = pd.read_excel('lagou-company-191126.xlsx')\n",
    "print(df)\n",
    "# sheetname：返回多表使用sheetname=[0,1],若sheetname=None是返回全表 → ① int/string 返回的是dataframe ②而none和list返回的是dict\n",
    "# header：指定列名行，默认0，即取第一行"
   ]
  },
  {
   "cell_type": "code",
   "execution_count": null,
   "metadata": {},
   "outputs": [],
   "source": [
    "## 数值计算和统计基础"
   ]
  },
  {
   "cell_type": "code",
   "execution_count": 1,
   "metadata": {
    "ExecuteTime": {
     "end_time": "2020-01-18T12:44:19.023514Z",
     "start_time": "2020-01-18T12:44:17.772189Z"
    }
   },
   "outputs": [
    {
     "name": "stdout",
     "output_type": "stream",
     "text": [
      "   key1  key2 key3\n",
      "a   4.0   1.0    1\n",
      "b   5.0   2.0    2\n",
      "c   3.0   NaN    3\n",
      "d   NaN   4.0    j\n",
      "e   2.0   5.0    k\n",
      "float64 float64 object\n",
      "-----\n",
      "key1    3.5\n",
      "key2    3.0\n",
      "dtype: float64 <class 'pandas.core.series.Series'>\n",
      "单独统计一列: 3.0\n",
      "-----\n",
      "a    2.5\n",
      "b    3.5\n",
      "c    3.0\n",
      "d    4.0\n",
      "e    3.5\n",
      "dtype: float64\n",
      "-----\n",
      "key1   NaN\n",
      "key2   NaN\n",
      "dtype: float64\n",
      "-----\n"
     ]
    }
   ],
   "source": [
    "# 基本参数：axis、skipna\n",
    "\n",
    "import numpy as np\n",
    "import pandas as pd\n",
    "\n",
    "df = pd.DataFrame({'key1':[4,5,3,np.nan,2],\n",
    "                 'key2':[1,2,np.nan,4,5],\n",
    "                 'key3':[1,2,3,'j','k']},\n",
    "                 index = ['a','b','c','d','e'])\n",
    "print(df)\n",
    "print(df['key1'].dtype,df['key2'].dtype,df['key3'].dtype)\n",
    "print('-----')\n",
    "\n",
    "m1 = df.mean()\n",
    "print(m1,type(m1))\n",
    "print('单独统计一列:',df['key2'].mean())\n",
    "print('-----')\n",
    "# np.nan ：空值\n",
    "# .mean()计算均值，只统计数字列\n",
    "\n",
    "m2 = df.mean(axis=1)\n",
    "print(m2)\n",
    "print('-----')\n",
    "# axis参数：默认为0，以列来计算，axis=1，以行来计算，这里就按照行来汇总了\n",
    "# 按行统计用 .mean()计算均值，对存在字符格式的行也会进行计算，自动忽略字符格式\n",
    "\n",
    "m3 = df.mean(skipna=False)\n",
    "print(m3)\n",
    "print('-----')\n",
    "# skipna参数：是否忽略NaN，默认True；如果设置False，有NaN的列统计结果仍未NaN"
   ]
  },
  {
   "cell_type": "code",
   "execution_count": 2,
   "metadata": {
    "ExecuteTime": {
     "end_time": "2020-01-18T12:44:22.761151Z",
     "start_time": "2020-01-18T12:44:22.733376Z"
    }
   },
   "outputs": [
    {
     "name": "stdout",
     "output_type": "stream",
     "text": [
      "   key1      key2\n",
      "0     0  6.474653\n",
      "1     1  2.680713\n",
      "2     2  0.603410\n",
      "3     3  9.319038\n",
      "4     4  6.930498\n",
      "5     5  4.470021\n",
      "6     6  6.444874\n",
      "7     7  6.383964\n",
      "8     8  4.857068\n",
      "9     9  2.062281\n",
      "-----\n",
      "key1    10\n",
      "key2    10\n",
      "dtype: int64 → count统计非Na值的数量\n",
      "\n",
      "key1    0.00000\n",
      "key2    0.60341\n",
      "dtype: float64 → min统计最小值\n",
      " 9.319038030394728 → max统计最大值\n",
      "\n",
      "key1    6.750000\n",
      "key2    6.467208\n",
      "Name: 0.75, dtype: float64 → quantile统计分位数，参数q确定位置\n",
      "\n",
      "key1    45.000000\n",
      "key2    50.226518\n",
      "dtype: float64 → sum求和\n",
      "\n",
      "key1    4.500000\n",
      "key2    5.022652\n",
      "dtype: float64 → mean求平均值\n",
      "\n",
      "key1    4.500000\n",
      "key2    5.620516\n",
      "dtype: float64 → median求算数中位数，50%分位数\n",
      "\n",
      "key1    3.027650\n",
      "key2    2.628772\n",
      "dtype: float64 \n",
      " key1    9.166667\n",
      "key2    6.910444\n",
      "dtype: float64 → std,var分别求标准差，方差\n",
      "\n",
      "key1    0.000000\n",
      "key2   -0.233624\n",
      "dtype: float64 → skew样本的偏度\n",
      "\n",
      "key1   -1.200000\n",
      "key2   -0.434644\n",
      "dtype: float64 → kurt样本的峰度\n",
      "\n"
     ]
    }
   ],
   "source": [
    "# 数学计算方法，可用于Series和DataFrame\n",
    "\n",
    "df = pd.DataFrame({'key1':np.arange(10),\n",
    "                  'key2':np.random.rand(10)*10})\n",
    "print(df)\n",
    "print('-----')\n",
    "\n",
    "print(df.count(),'→ count统计非Na值的数量\\n')\n",
    "print(df.min(),'→ min统计最小值\\n',df['key2'].max(),'→ max统计最大值\\n')\n",
    "print(df.quantile(q=0.75),'→ quantile统计分位数，参数q确定位置\\n')\n",
    "print(df.sum(),'→ sum求和\\n')\n",
    "print(df.mean(),'→ mean求平均值\\n')\n",
    "print(df.median(),'→ median求算数中位数，50%分位数\\n')\n",
    "print(df.std(),'\\n',df.var(),'→ std,var分别求标准差，方差\\n')\n",
    "print(df.skew(),'→ skew样本的偏度\\n')\n",
    "print(df.kurt(),'→ kurt样本的峰度\\n')"
   ]
  },
  {
   "cell_type": "code",
   "execution_count": 3,
   "metadata": {
    "ExecuteTime": {
     "end_time": "2020-01-18T12:44:27.547616Z",
     "start_time": "2020-01-18T12:44:27.520628Z"
    }
   },
   "outputs": [
    {
     "name": "stdout",
     "output_type": "stream",
     "text": [
      "   key1      key2  key1_s     key2_s\n",
      "0     0  6.474653       0   6.474653\n",
      "1     1  2.680713       1   9.155365\n",
      "2     2  0.603410       3   9.758776\n",
      "3     3  9.319038       6  19.077814\n",
      "4     4  6.930498      10  26.008311\n",
      "5     5  4.470021      15  30.478332\n",
      "6     6  6.444874      21  36.923206\n",
      "7     7  6.383964      28  43.307170\n",
      "8     8  4.857068      36  48.164238\n",
      "9     9  2.062281      45  50.226518 → cumsum样本的累计和\n",
      "\n",
      "   key1      key2  key1_s     key2_s  key1_p        key2_p\n",
      "0     0  6.474653       0   6.474653       0  6.474653e+00\n",
      "1     1  2.680713       1   9.155365       0  1.735668e+01\n",
      "2     2  0.603410       3   9.758776       0  1.047320e+01\n",
      "3     3  9.319038       6  19.077814       0  9.760013e+01\n",
      "4     4  6.930498      10  26.008311       0  6.764175e+02\n",
      "5     5  4.470021      15  30.478332       0  3.023600e+03\n",
      "6     6  6.444874      21  36.923206       0  1.948672e+04\n",
      "7     7  6.383964      28  43.307170       0  1.244025e+05\n",
      "8     8  4.857068      36  48.164238       0  6.042315e+05\n",
      "9     9  2.062281      45  50.226518       0  1.246095e+06 → cumprod样本的累计积\n",
      "\n",
      "   key1      key2  key1_s     key2_s  key1_p        key2_p\n",
      "0   0.0  6.474653     0.0   6.474653     0.0  6.474653e+00\n",
      "1   1.0  6.474653     1.0   9.155365     0.0  1.735668e+01\n",
      "2   2.0  6.474653     3.0   9.758776     0.0  1.735668e+01\n",
      "3   3.0  9.319038     6.0  19.077814     0.0  9.760013e+01\n",
      "4   4.0  9.319038    10.0  26.008311     0.0  6.764175e+02\n",
      "5   5.0  9.319038    15.0  30.478332     0.0  3.023600e+03\n",
      "6   6.0  9.319038    21.0  36.923206     0.0  1.948672e+04\n",
      "7   7.0  9.319038    28.0  43.307170     0.0  1.244025e+05\n",
      "8   8.0  9.319038    36.0  48.164238     0.0  6.042315e+05\n",
      "9   9.0  9.319038    45.0  50.226518     0.0  1.246095e+06 \n",
      "    key1      key2  key1_s    key2_s  key1_p    key2_p\n",
      "0   0.0  6.474653     0.0  6.474653     0.0  6.474653\n",
      "1   0.0  2.680713     0.0  6.474653     0.0  6.474653\n",
      "2   0.0  0.603410     0.0  6.474653     0.0  6.474653\n",
      "3   0.0  0.603410     0.0  6.474653     0.0  6.474653\n",
      "4   0.0  0.603410     0.0  6.474653     0.0  6.474653\n",
      "5   0.0  0.603410     0.0  6.474653     0.0  6.474653\n",
      "6   0.0  0.603410     0.0  6.474653     0.0  6.474653\n",
      "7   0.0  0.603410     0.0  6.474653     0.0  6.474653\n",
      "8   0.0  0.603410     0.0  6.474653     0.0  6.474653\n",
      "9   0.0  0.603410     0.0  6.474653     0.0  6.474653 → cummax,cummin分别求累计最大值，累计最小值\n",
      "\n"
     ]
    }
   ],
   "source": [
    "# 数学计算方法，可用于Series和DataFrame，求各种累计值\n",
    "\n",
    "df['key1_s'] = df['key1'].cumsum()\n",
    "df['key2_s'] = df['key2'].cumsum()\n",
    "print(df,'→ cumsum样本的累计和\\n')\n",
    "\n",
    "df['key1_p'] = df['key1'].cumprod()\n",
    "df['key2_p'] = df['key2'].cumprod()\n",
    "print(df,'→ cumprod样本的累计积\\n')\n",
    "\n",
    "print(df.cummax(),'\\n',df.cummin(),'→ cummax,cummin分别求累计最大值，累计最小值\\n')\n",
    "# 会填充key1，和key2的值"
   ]
  },
  {
   "cell_type": "code",
   "execution_count": 4,
   "metadata": {
    "ExecuteTime": {
     "end_time": "2020-01-18T12:44:31.064547Z",
     "start_time": "2020-01-18T12:44:31.056386Z"
    }
   },
   "outputs": [
    {
     "name": "stdout",
     "output_type": "stream",
     "text": [
      "0     a\n",
      "1     s\n",
      "2     d\n",
      "3     v\n",
      "4     a\n",
      "5     s\n",
      "6     d\n",
      "7     c\n",
      "8     f\n",
      "9     g\n",
      "10    g\n",
      "dtype: object\n",
      "['a' 's' 'd' 'v' 'c' 'f' 'g'] <class 'numpy.ndarray'>\n",
      "0    a\n",
      "1    s\n",
      "2    d\n",
      "3    v\n",
      "4    c\n",
      "5    f\n",
      "6    g\n",
      "dtype: object\n",
      "['a' 'c' 'd' 'f' 'g' 's' 'v']\n"
     ]
    }
   ],
   "source": [
    "# 求唯一值：.unique()\n",
    "\n",
    "s = pd.Series(list('asdvasdcfgg'))\n",
    "sq = s.unique()\n",
    "print(s)\n",
    "print(sq,type(sq))\n",
    "print(pd.Series(sq))\n",
    "# 得到一个唯一值数组\n",
    "# 通过pd.Series重新变成新的Series\n",
    "\n",
    "sq.sort()\n",
    "print(sq)\n",
    "# 重新排序"
   ]
  },
  {
   "cell_type": "code",
   "execution_count": 5,
   "metadata": {
    "ExecuteTime": {
     "end_time": "2020-01-18T12:44:39.551397Z",
     "start_time": "2020-01-18T12:44:39.545549Z"
    }
   },
   "outputs": [
    {
     "name": "stdout",
     "output_type": "stream",
     "text": [
      "s    2\n",
      "g    2\n",
      "c    1\n",
      "f    1\n",
      "a    2\n",
      "v    1\n",
      "d    2\n",
      "dtype: int64\n"
     ]
    }
   ],
   "source": [
    "# 值计数：.value_counts()\n",
    "\n",
    "sc = s.value_counts(sort = False)  # 也可以这样写：pd.value_counts(sc, sort = False)\n",
    "print(sc)\n",
    "# 得到一个新的Series，计算出不同值出现的频率\n",
    "# sort参数：排序，默认为True"
   ]
  },
  {
   "cell_type": "code",
   "execution_count": 6,
   "metadata": {
    "ExecuteTime": {
     "end_time": "2020-01-18T12:44:43.272514Z",
     "start_time": "2020-01-18T12:44:43.258055Z"
    }
   },
   "outputs": [
    {
     "name": "stdout",
     "output_type": "stream",
     "text": [
      "0    10\n",
      "1    11\n",
      "2    12\n",
      "3    13\n",
      "4    14\n",
      "dtype: int64\n",
      "  key1  key2\n",
      "0    a     4\n",
      "1    s     5\n",
      "2    d     6\n",
      "3    c     7\n",
      "4    b     8\n",
      "5    v     9\n",
      "6    a    10\n",
      "7    s    11\n",
      "8    d    12\n",
      "-----\n",
      "0    False\n",
      "1    False\n",
      "2    False\n",
      "3    False\n",
      "4     True\n",
      "dtype: bool\n",
      "    key1   key2\n",
      "0   True  False\n",
      "1  False  False\n",
      "2  False  False\n",
      "3  False  False\n",
      "4  False   True\n",
      "5  False  False\n",
      "6   True  False\n",
      "7  False  False\n",
      "8  False  False\n"
     ]
    }
   ],
   "source": [
    "# 判断是否存在：.isin()\n",
    "\n",
    "s = pd.Series(np.arange(10,15))\n",
    "df = pd.DataFrame({'key1':list('asdcbvasd'),\n",
    "                  'key2':np.arange(4,13)})\n",
    "print(s)\n",
    "print(df)\n",
    "print('-----')\n",
    "\n",
    "print(s.isin([5,14]))\n",
    "print(df.isin(['a','bc','10',8]))\n",
    "# 用[]表示\n",
    "# 得到一个布尔值的Series或者Dataframe"
   ]
  },
  {
   "cell_type": "code",
   "execution_count": 7,
   "metadata": {
    "ExecuteTime": {
     "end_time": "2020-01-18T12:44:46.696034Z",
     "start_time": "2020-01-18T12:44:46.693149Z"
    }
   },
   "outputs": [],
   "source": [
    "## 文本数据\n",
    "\n",
    "## Pandas针对字符串配备的一套方法，使其易于对数组的每个元素进行操作"
   ]
  },
  {
   "cell_type": "code",
   "execution_count": 7,
   "metadata": {},
   "outputs": [
    {
     "name": "stdout",
     "output_type": "stream",
     "text": [
      "0          A\n",
      "1          b\n",
      "2          C\n",
      "3    bbhello\n",
      "4        123\n",
      "5        NaN\n",
      "6         hj\n",
      "dtype: object\n",
      "  key1  key2\n",
      "0    a   hee\n",
      "1    b    fv\n",
      "2    c     w\n",
      "3    d  hija\n",
      "4    e   123\n",
      "5    f   NaN\n",
      "-----\n",
      "0    0.0\n",
      "1    1.0\n",
      "2    0.0\n",
      "3    2.0\n",
      "4    0.0\n",
      "5    NaN\n",
      "6    0.0\n",
      "dtype: float64\n",
      "0     HEE\n",
      "1      FV\n",
      "2       W\n",
      "3    HIJA\n",
      "4     123\n",
      "5     NaN\n",
      "Name: key2, dtype: object\n",
      "-----\n",
      "  KEY1  KEY2\n",
      "0    a   hee\n",
      "1    b    fv\n",
      "2    c     w\n",
      "3    d  hija\n",
      "4    e   123\n",
      "5    f   NaN\n"
     ]
    }
   ],
   "source": [
    "# 通过str访问，且自动排除丢失/ NA值\n",
    "\n",
    "s = pd.Series(['A','b','C','bbhello','123',np.nan,'hj'])\n",
    "df = pd.DataFrame({'key1':list('abcdef'),\n",
    "                  'key2':['hee','fv','w','hija','123',np.nan]})\n",
    "print(s)\n",
    "print(df)\n",
    "print('-----')\n",
    "\n",
    "print(s.str.count('b'))\n",
    "print(df['key2'].str.upper())\n",
    "print('-----')\n",
    "# 直接通过.str调用字符串方法\n",
    "# 可以对Series、Dataframe使用\n",
    "# 自动过滤NaN值\n",
    "\n",
    "df.columns = df.columns.str.upper()\n",
    "print(df)\n",
    "# df.columns是一个Index对象，也可使用.str"
   ]
  },
  {
   "cell_type": "code",
   "execution_count": 8,
   "metadata": {
    "ExecuteTime": {
     "end_time": "2020-01-18T12:44:53.931938Z",
     "start_time": "2020-01-18T12:44:53.920133Z"
    }
   },
   "outputs": [
    {
     "name": "stdout",
     "output_type": "stream",
     "text": [
      "0          a\n",
      "1          b\n",
      "2    bbhello\n",
      "3        123\n",
      "4        NaN\n",
      "dtype: object → lower小写\n",
      "\n",
      "0          A\n",
      "1          B\n",
      "2    BBHELLO\n",
      "3        123\n",
      "4        NaN\n",
      "dtype: object → upper大写\n",
      "\n",
      "0    1.0\n",
      "1    1.0\n",
      "2    7.0\n",
      "3    3.0\n",
      "4    NaN\n",
      "dtype: float64 → len字符长度\n",
      "\n",
      "0    False\n",
      "1     True\n",
      "2     True\n",
      "3    False\n",
      "4      NaN\n",
      "dtype: object → 判断起始是否为a\n",
      "\n",
      "0    False\n",
      "1    False\n",
      "2    False\n",
      "3     True\n",
      "4      NaN\n",
      "dtype: object → 判断结束是否为3\n",
      "\n"
     ]
    }
   ],
   "source": [
    "# 字符串常用方法（1） - lower，upper，len，startswith，endswith\n",
    "\n",
    "s = pd.Series(['A','b','bbhello','123',np.nan])\n",
    "\n",
    "print(s.str.lower(),'→ lower小写\\n')\n",
    "print(s.str.upper(),'→ upper大写\\n')\n",
    "print(s.str.len(),'→ len字符长度\\n')\n",
    "print(s.str.startswith('b'),'→ 判断起始是否为a\\n')\n",
    "print(s.str.endswith('3'),'→ 判断结束是否为3\\n')"
   ]
  },
  {
   "cell_type": "code",
   "execution_count": 9,
   "metadata": {
    "ExecuteTime": {
     "end_time": "2020-01-18T12:44:58.108490Z",
     "start_time": "2020-01-18T12:44:58.089030Z"
    }
   },
   "outputs": [
    {
     "name": "stdout",
     "output_type": "stream",
     "text": [
      "0       jack\n",
      "1      jill \n",
      "2     jesse \n",
      "3      frank\n",
      "dtype: object\n",
      "    Column A    Column B \n",
      "0   -1.108405    0.273153\n",
      "1    0.355291    1.343949\n",
      "2   -0.957517    0.049256\n",
      "-----\n",
      "0     jack\n",
      "1     jill\n",
      "2    jesse\n",
      "3    frank\n",
      "dtype: object\n",
      "0      jack\n",
      "1     jill \n",
      "2    jesse \n",
      "3     frank\n",
      "dtype: object\n",
      "0      jack\n",
      "1      jill\n",
      "2     jesse\n",
      "3     frank\n",
      "dtype: object\n",
      "   Column A  Column B\n",
      "0 -1.108405  0.273153\n",
      "1  0.355291  1.343949\n",
      "2 -0.957517  0.049256\n"
     ]
    }
   ],
   "source": [
    "# 字符串常用方法（2） - strip\n",
    "\n",
    "s = pd.Series([' jack', 'jill ', ' jesse ', 'frank'])\n",
    "df = pd.DataFrame(np.random.randn(3, 2), columns=[' Column A ', ' Column B '],\n",
    "                  index=range(3))\n",
    "print(s)\n",
    "print(df)\n",
    "print('-----')\n",
    "\n",
    "print(s.str.strip())  # 去除字符串中的空格\n",
    "print(s.str.lstrip())  # 去除字符串中的左空格\n",
    "print(s.str.rstrip())  # 去除字符串中的右空格\n",
    "\n",
    "df.columns = df.columns.str.strip()\n",
    "print(df)\n",
    "# 这里去掉了columns的前后空格，但没有去掉中间空格"
   ]
  },
  {
   "cell_type": "code",
   "execution_count": 10,
   "metadata": {
    "ExecuteTime": {
     "end_time": "2020-01-18T12:45:01.282793Z",
     "start_time": "2020-01-18T12:45:01.270360Z"
    }
   },
   "outputs": [
    {
     "name": "stdout",
     "output_type": "stream",
     "text": [
      "   -Column-A-  -Column-B-\n",
      "0    0.980811   -1.092379\n",
      "1   -2.066719   -0.861527\n",
      "2    0.545121   -0.146555\n",
      "   heheColumn-A-  heheColumn-B-\n",
      "0       0.980811      -1.092379\n",
      "1      -2.066719      -0.861527\n",
      "2       0.545121      -0.146555\n"
     ]
    }
   ],
   "source": [
    "# 字符串常用方法（3） - replace\n",
    "\n",
    "df = pd.DataFrame(np.random.randn(3, 2), columns=[' Column A ', ' Column B '],\n",
    "                  index=range(3))\n",
    "df.columns = df.columns.str.replace(' ','-')\n",
    "print(df)\n",
    "# 替换\n",
    "\n",
    "df.columns = df.columns.str.replace('-','hehe',n=1)\n",
    "print(df)\n",
    "# n：替换个数"
   ]
  },
  {
   "cell_type": "code",
   "execution_count": 11,
   "metadata": {
    "ExecuteTime": {
     "end_time": "2020-01-18T12:45:04.722796Z",
     "start_time": "2020-01-18T12:45:04.695318Z"
    }
   },
   "outputs": [
    {
     "name": "stdout",
     "output_type": "stream",
     "text": [
      "0    [a, b, c]\n",
      "1    [1, 2, 3]\n",
      "2          NaN\n",
      "3          NaN\n",
      "dtype: object\n",
      "-----\n",
      "['a', 'b', 'c']\n",
      "-----\n",
      "0      a\n",
      "1      1\n",
      "2    NaN\n",
      "3    NaN\n",
      "dtype: object\n",
      "0      b\n",
      "1      2\n",
      "2    NaN\n",
      "3    NaN\n",
      "dtype: object\n",
      "-----\n",
      "     0    1    2\n",
      "0    a    b    c\n",
      "1    1    2    3\n",
      "2  NaN  NaN  NaN\n",
      "3  NaN  NaN  NaN\n",
      "     0    1\n",
      "0    a  b,c\n",
      "1    1  2,3\n",
      "2  NaN  NaN\n",
      "3  NaN  NaN\n",
      "     0    1\n",
      "0  a,b    c\n",
      "1  1,2    3\n",
      "2  NaN  NaN\n",
      "3  NaN  NaN\n",
      "-----\n",
      "0    [a, b, c]\n",
      "1    [1, 2, 3]\n",
      "2          NaN\n",
      "Name: key2, dtype: object\n"
     ]
    }
   ],
   "source": [
    "# 字符串常用方法（4） - split、rsplit\n",
    "\n",
    "s = pd.Series(['a,b,c','1,2,3',['a,,,c'],np.nan])\n",
    "print(s.str.split(','))\n",
    "print('-----')\n",
    "# 类似字符串的split\n",
    "\n",
    "print(s.str.split(',')[0])\n",
    "print('-----')\n",
    "# 直接索引得到一个list\n",
    "\n",
    "print(s.str.split(',').str[0])\n",
    "print(s.str.split(',').str.get(1))\n",
    "print('-----')\n",
    "# 可以使用get或[]符号访问拆分列表中的元素\n",
    "\n",
    "print(s.str.split(',', expand=True))\n",
    "print(s.str.split(',', expand=True, n = 1))\n",
    "print(s.str.rsplit(',', expand=True, n = 1))\n",
    "print('-----')\n",
    "# 可以使用expand可以轻松扩展此操作以返回DataFrame\n",
    "# n参数限制分割数\n",
    "# rsplit类似于split，反向工作，即从字符串的末尾到字符串的开头\n",
    "\n",
    "df = pd.DataFrame({'key1':['a,b,c','1,2,3',[':,., ']],\n",
    "                  'key2':['a-b-c','1-2-3',[':-.- ']]})\n",
    "print(df['key2'].str.split('-'))\n",
    "# Dataframe使用split"
   ]
  },
  {
   "cell_type": "code",
   "execution_count": 12,
   "metadata": {
    "ExecuteTime": {
     "end_time": "2020-01-18T12:45:09.953432Z",
     "start_time": "2020-01-18T12:45:09.944639Z"
    }
   },
   "outputs": [
    {
     "name": "stdout",
     "output_type": "stream",
     "text": [
      "0      A\n",
      "1      b\n",
      "2      C\n",
      "3      b\n",
      "4      1\n",
      "5    NaN\n",
      "6      h\n",
      "dtype: object\n",
      "0      A\n",
      "1      b\n",
      "2      C\n",
      "3     bb\n",
      "4     12\n",
      "5    NaN\n",
      "6     hj\n",
      "dtype: object\n",
      "0      h\n",
      "1      f\n",
      "2      w\n",
      "3      h\n",
      "4      1\n",
      "5    NaN\n",
      "Name: key2, dtype: object\n"
     ]
    }
   ],
   "source": [
    "# 字符串索引\n",
    "\n",
    "s = pd.Series(['A','b','C','bbhello','123',np.nan,'hj'])\n",
    "df = pd.DataFrame({'key1':list('abcdef'),\n",
    "                  'key2':['hee','fv','w','hija','123',np.nan]})\n",
    "\n",
    "print(s.str[0])  # 取第一个字符串\n",
    "print(s.str[:2])  # 取前两个字符串\n",
    "print(df['key2'].str[0]) \n",
    "# str之后和字符串本身索引方式相同"
   ]
  },
  {
   "cell_type": "code",
   "execution_count": null,
   "metadata": {
    "collapsed": true
   },
   "outputs": [],
   "source": [
    "'''\n",
    "【课程2.16】  合并 merge、join\n",
    "\n",
    "Pandas具有全功能的，高性能内存中连接操作，与SQL等关系数据库非常相似\n",
    "\n",
    "pd.merge(left, right, how='inner', on=None, left_on=None, right_on=None,\n",
    "         left_index=False, right_index=False, sort=True,\n",
    "         suffixes=('_x', '_y'), copy=True, indicator=False)\n",
    " \n",
    "'''"
   ]
  },
  {
   "cell_type": "code",
   "execution_count": 13,
   "metadata": {
    "ExecuteTime": {
     "end_time": "2020-01-18T12:45:14.171652Z",
     "start_time": "2020-01-18T12:45:14.145248Z"
    }
   },
   "outputs": [
    {
     "name": "stdout",
     "output_type": "stream",
     "text": [
      "  key   A   B   C   D\n",
      "0  K0  A0  B0  C0  D0\n",
      "1  K1  A1  B1  C1  D1\n",
      "2  K2  A2  B2  C2  D2\n",
      "3  K3  A3  B3  C3  D3\n",
      "------\n",
      "  key1 key2   A   B   C   D\n",
      "0   K0   K0  A0  B0  C0  D0\n",
      "1   K1   K0  A2  B2  C1  D1\n",
      "2   K1   K0  A2  B2  C2  D2\n"
     ]
    }
   ],
   "source": [
    "# merge合并 → 类似excel的vlookup\n",
    "\n",
    "df1 = pd.DataFrame({'key': ['K0', 'K1', 'K2', 'K3'],\n",
    "                     'A': ['A0', 'A1', 'A2', 'A3'],\n",
    "                     'B': ['B0', 'B1', 'B2', 'B3']})\n",
    "df2 = pd.DataFrame({'key': ['K0', 'K1', 'K2', 'K3'],\n",
    "                      'C': ['C0', 'C1', 'C2', 'C3'],\n",
    "                      'D': ['D0', 'D1', 'D2', 'D3']})\n",
    "df3 = pd.DataFrame({'key1': ['K0', 'K0', 'K1', 'K2'],\n",
    "                    'key2': ['K0', 'K1', 'K0', 'K1'],\n",
    "                    'A': ['A0', 'A1', 'A2', 'A3'],\n",
    "                    'B': ['B0', 'B1', 'B2', 'B3']})\n",
    "df4 = pd.DataFrame({'key1': ['K0', 'K1', 'K1', 'K2'],\n",
    "                    'key2': ['K0', 'K0', 'K0', 'K0'],\n",
    "                    'C': ['C0', 'C1', 'C2', 'C3'],\n",
    "                    'D': ['D0', 'D1', 'D2', 'D3']})\n",
    "print(pd.merge(df1, df2, on='key'))\n",
    "print('------')\n",
    "# left：第一个df\n",
    "# right：第二个df\n",
    "# on：参考键\n",
    "\n",
    "print(pd.merge(df3, df4, on=['key1','key2']))\n",
    "# 多个链接键"
   ]
  },
  {
   "cell_type": "code",
   "execution_count": 14,
   "metadata": {
    "ExecuteTime": {
     "end_time": "2020-01-18T12:45:20.471522Z",
     "start_time": "2020-01-18T12:45:20.433450Z"
    }
   },
   "outputs": [
    {
     "name": "stdout",
     "output_type": "stream",
     "text": [
      "  key1 key2   A   B   C   D\n",
      "0   K0   K0  A0  B0  C0  D0\n",
      "1   K1   K0  A2  B2  C1  D1\n",
      "2   K1   K0  A2  B2  C2  D2\n",
      "------\n",
      "  key1 key2    A    B    C    D\n",
      "0   K0   K0   A0   B0   C0   D0\n",
      "1   K0   K1   A1   B1  NaN  NaN\n",
      "2   K1   K0   A2   B2   C1   D1\n",
      "3   K1   K0   A2   B2   C2   D2\n",
      "4   K2   K1   A3   B3  NaN  NaN\n",
      "5   K2   K0  NaN  NaN   C3   D3\n",
      "------\n",
      "  key1 key2   A   B    C    D\n",
      "0   K0   K0  A0  B0   C0   D0\n",
      "1   K0   K1  A1  B1  NaN  NaN\n",
      "2   K1   K0  A2  B2   C1   D1\n",
      "3   K1   K0  A2  B2   C2   D2\n",
      "4   K2   K1  A3  B3  NaN  NaN\n",
      "------\n",
      "  key1 key2    A    B   C   D\n",
      "0   K0   K0   A0   B0  C0  D0\n",
      "1   K1   K0   A2   B2  C1  D1\n",
      "2   K1   K0   A2   B2  C2  D2\n",
      "3   K2   K0  NaN  NaN  C3  D3\n"
     ]
    }
   ],
   "source": [
    "# 参数how → 合并方式\n",
    "\n",
    "print(pd.merge(df3, df4,on=['key1','key2'], how = 'inner'))  \n",
    "print('------')\n",
    "# inner：默认，取交集\n",
    "\n",
    "print(pd.merge(df3, df4, on=['key1','key2'], how = 'outer'))  \n",
    "print('------')\n",
    "# outer：取并集，数据缺失范围NaN\n",
    "\n",
    "print(pd.merge(df3, df4, on=['key1','key2'], how = 'left'))  \n",
    "print('------')\n",
    "# left：按照df3为参考合并，数据缺失范围NaN\n",
    "\n",
    "print(pd.merge(df3, df4, on=['key1','key2'], how = 'right'))  \n",
    "# right：按照df4为参考合并，数据缺失范围NaN"
   ]
  },
  {
   "cell_type": "code",
   "execution_count": 15,
   "metadata": {
    "ExecuteTime": {
     "end_time": "2020-01-18T12:45:41.514059Z",
     "start_time": "2020-01-18T12:45:41.494794Z"
    }
   },
   "outputs": [
    {
     "name": "stdout",
     "output_type": "stream",
     "text": [
      "  lkey  data1 rkey  date2\n",
      "0    b      0    b      1\n",
      "1    b      1    b      1\n",
      "2    b      6    b      1\n",
      "3    a      2    a      0\n",
      "4    a      4    a      0\n",
      "5    a      5    a      0\n",
      "------\n",
      "  key  data1  date2\n",
      "0   a      0    100\n",
      "1   b      1    101\n",
      "2   c      2    102\n",
      "3   d      3    103\n",
      "5   e      5    104\n"
     ]
    }
   ],
   "source": [
    "# 参数 left_on, right_on, left_index, right_index → 当键不为一个列时，可以单独设置左键与右键\n",
    "\n",
    "df1 = pd.DataFrame({'lkey':list('bbacaab'),\n",
    "                   'data1':range(7)})\n",
    "df2 = pd.DataFrame({'rkey':list('abd'),\n",
    "                   'date2':range(3)})\n",
    "print(pd.merge(df1, df2, left_on='lkey', right_on='rkey'))\n",
    "print('------')\n",
    "# df1以‘lkey’为键，df2以‘rkey’为键\n",
    "\n",
    "df1 = pd.DataFrame({'key':list('abcdfeg'),\n",
    "                   'data1':range(7)})\n",
    "df2 = pd.DataFrame({'date2':range(100,105)},\n",
    "                  index = list('abcde'))\n",
    "print(pd.merge(df1, df2, left_on='key', right_index=True))\n",
    "# df1以‘key’为键，df2以index为键\n",
    "# left_index：为True时，第一个df以index为键，默认False\n",
    "# right_index：为True时，第二个df以index为键，默认False\n",
    "\n",
    "# 所以left_on, right_on, left_index, right_index可以相互组合：\n",
    "# left_on + right_on, left_on + right_index, left_index + right_on, left_index + right_index"
   ]
  },
  {
   "cell_type": "code",
   "execution_count": 16,
   "metadata": {
    "ExecuteTime": {
     "end_time": "2020-01-18T12:45:49.899136Z",
     "start_time": "2020-01-18T12:45:49.870002Z"
    }
   },
   "outputs": [
    {
     "name": "stdout",
     "output_type": "stream",
     "text": [
      "  key  data1  date2\n",
      "0   b    1.0    2.0\n",
      "1   b    3.0    2.0\n",
      "2   b    7.0    2.0\n",
      "3   a    2.0   11.0\n",
      "4   a    5.0   11.0\n",
      "5   a    9.0   11.0\n",
      "6   c    4.0    NaN\n",
      "7   d    NaN   33.0\n",
      "  key  data1  date2\n",
      "0   a    2.0   11.0\n",
      "1   a    5.0   11.0\n",
      "2   a    9.0   11.0\n",
      "3   b    1.0    2.0\n",
      "4   b    3.0    2.0\n",
      "5   b    7.0    2.0\n",
      "6   c    4.0    NaN\n",
      "7   d    NaN   33.0\n",
      "------\n",
      "  key  data1  date2\n",
      "3   b    1.0    2.0\n",
      "0   a    2.0   11.0\n",
      "4   b    3.0    2.0\n",
      "6   c    4.0    NaN\n",
      "1   a    5.0   11.0\n",
      "5   b    7.0    2.0\n",
      "2   a    9.0   11.0\n",
      "7   d    NaN   33.0\n"
     ]
    }
   ],
   "source": [
    "# 参数 sort\n",
    "\n",
    "df1 = pd.DataFrame({'key':list('bbacaab'),\n",
    "                   'data1':[1,3,2,4,5,9,7]})\n",
    "df2 = pd.DataFrame({'key':list('abd'),\n",
    "                   'date2':[11,2,33]})\n",
    "x1 = pd.merge(df1,df2, on = 'key', how = 'outer')\n",
    "x2 = pd.merge(df1,df2, on = 'key', sort=True, how = 'outer')\n",
    "print(x1)\n",
    "print(x2)\n",
    "print('------')\n",
    "# sort：按照字典顺序通过 连接键 对结果DataFrame进行排序。默认为False，设置为False会大幅提高性能\n",
    "\n",
    "print(x2.sort_values('data1'))\n",
    "# 也可直接用Dataframe的排序方法：sort_values，sort_index"
   ]
  },
  {
   "cell_type": "code",
   "execution_count": 17,
   "metadata": {
    "ExecuteTime": {
     "end_time": "2020-01-18T12:45:55.442070Z",
     "start_time": "2020-01-18T12:45:55.383721Z"
    },
    "scrolled": false
   },
   "outputs": [
    {
     "name": "stdout",
     "output_type": "stream",
     "text": [
      "     A   B\n",
      "K0  A0  B0\n",
      "K1  A1  B1\n",
      "K2  A2  B2\n",
      "     C   D\n",
      "K0  C0  D0\n",
      "K2  C2  D2\n",
      "K3  C3  D3\n",
      "     A   B    C    D\n",
      "K0  A0  B0   C0   D0\n",
      "K1  A1  B1  NaN  NaN\n",
      "K2  A2  B2   C2   D2\n",
      "      A    B    C    D\n",
      "K0   A0   B0   C0   D0\n",
      "K1   A1   B1  NaN  NaN\n",
      "K2   A2   B2   C2   D2\n",
      "K3  NaN  NaN   C3   D3\n",
      "-----\n",
      "  key  data1\n",
      "0   b      1\n",
      "1   b      3\n",
      "2   a      2\n",
      "3   c      4\n",
      "4   a      5\n",
      "5   a      9\n",
      "6   b      7\n",
      "  key  date2\n",
      "0   a     11\n",
      "1   b      2\n",
      "2   d     33\n",
      "  key_1  data1 key_2  date2\n",
      "0     b      1     a     11\n",
      "1     b      3     b      2\n",
      "2     a      2     d     33\n",
      "  key  data1  date2\n",
      "0   b      1   11.0\n",
      "1   b      3    2.0\n",
      "2   a      2   33.0\n",
      "3   c      4    NaN\n",
      "4   a      5    NaN\n",
      "5   a      9    NaN\n",
      "6   b      7    NaN\n",
      "-----\n",
      "    A   B key\n",
      "0  A0  B0  K0\n",
      "1  A1  B1  K1\n",
      "2  A2  B2  K0\n",
      "3  A3  B3  K1\n",
      "     C   D\n",
      "K0  C0  D0\n",
      "K1  C1  D1\n",
      "    A   B key   C   D\n",
      "0  A0  B0  K0  C0  D0\n",
      "1  A1  B1  K1  C1  D1\n",
      "2  A2  B2  K0  C0  D0\n",
      "3  A3  B3  K1  C1  D1\n"
     ]
    }
   ],
   "source": [
    "# pd.join() → 直接通过索引链接\n",
    "\n",
    "left = pd.DataFrame({'A': ['A0', 'A1', 'A2'],\n",
    "                     'B': ['B0', 'B1', 'B2']},\n",
    "                    index=['K0', 'K1', 'K2'])\n",
    "right = pd.DataFrame({'C': ['C0', 'C2', 'C3'],\n",
    "                      'D': ['D0', 'D2', 'D3']},\n",
    "                     index=['K0', 'K2', 'K3'])\n",
    "print(left)\n",
    "print(right)\n",
    "print(left.join(right))\n",
    "print(left.join(right, how='outer'))  \n",
    "print('-----')\n",
    "# 等价于：pd.merge(left, right, left_index=True, right_index=True, how='outer')\n",
    "\n",
    "df1 = pd.DataFrame({'key':list('bbacaab'),\n",
    "                   'data1':[1,3,2,4,5,9,7]})\n",
    "df2 = pd.DataFrame({'key':list('abd'),\n",
    "                   'date2':[11,2,33]})\n",
    "print(df1)\n",
    "print(df2)\n",
    "print(pd.merge(df1, df2, left_index=True, right_index=True, suffixes=('_1', '_2')))  \n",
    "print(df1.join(df2['date2']))\n",
    "print('-----')\n",
    "# suffixes=('_x', '_y')默认\n",
    "\n",
    "left = pd.DataFrame({'A': ['A0', 'A1', 'A2', 'A3'],\n",
    "                     'B': ['B0', 'B1', 'B2', 'B3'],\n",
    "                     'key': ['K0', 'K1', 'K0', 'K1']})\n",
    "right = pd.DataFrame({'C': ['C0', 'C1'],\n",
    "                      'D': ['D0', 'D1']},\n",
    "                     index=['K0', 'K1'])\n",
    "print(left)\n",
    "print(right)\n",
    "print(left.join(right, on = 'key'))\n",
    "# 等价于pd.merge(left, right, left_on='key', right_index=True, how='left', sort=False);\n",
    "# left的‘key’和right的index"
   ]
  },
  {
   "cell_type": "code",
   "execution_count": null,
   "metadata": {},
   "outputs": [],
   "source": [
    "## 连接与修补 concat、combine_first\n",
    "\n",
    "# 连接 - 沿轴执行连接操作\n",
    "\n",
    "# pd.concat(objs, axis=0, join='outer', join_axes=None, ignore_index=False,\n",
    "          keys=None, levels=None, names=None, verify_integrity=False,\n",
    "          copy=True)\n"
   ]
  },
  {
   "cell_type": "code",
   "execution_count": 18,
   "metadata": {},
   "outputs": [
    {
     "name": "stdout",
     "output_type": "stream",
     "text": [
      "0    1\n",
      "1    2\n",
      "2    3\n",
      "0    2\n",
      "1    3\n",
      "2    4\n",
      "dtype: int64\n",
      "a    1\n",
      "b    2\n",
      "c    2\n",
      "d    4\n",
      "e    3\n",
      "h    3\n",
      "dtype: int64\n",
      "-----\n",
      "     0    1\n",
      "a  1.0  NaN\n",
      "b  NaN  2.0\n",
      "c  2.0  NaN\n",
      "d  NaN  4.0\n",
      "e  NaN  3.0\n",
      "h  3.0  NaN\n",
      "-----\n"
     ]
    }
   ],
   "source": [
    "# 连接：concat\n",
    "\n",
    "s1 = pd.Series([1,2,3])\n",
    "s2 = pd.Series([2,3,4])\n",
    "s3 = pd.Series([1,2,3],index = ['a','c','h'])\n",
    "s4 = pd.Series([2,3,4],index = ['b','e','d'])\n",
    "print(pd.concat([s1,s2]))\n",
    "print(pd.concat([s3,s4]).sort_index())\n",
    "print('-----')\n",
    "# 默认axis=0，行+行\n",
    "\n",
    "print(pd.concat([s3,s4], axis=1))\n",
    "print('-----')\n",
    "# axis=1,列+列，成为一个Dataframe"
   ]
  },
  {
   "cell_type": "code",
   "execution_count": 18,
   "metadata": {
    "ExecuteTime": {
     "end_time": "2020-01-18T12:46:31.918699Z",
     "start_time": "2020-01-18T12:46:31.895221Z"
    }
   },
   "outputs": [
    {
     "name": "stdout",
     "output_type": "stream",
     "text": [
      "     0    1\n",
      "a  1.0  NaN\n",
      "b  2.0  2.0\n",
      "c  3.0  3.0\n",
      "d  NaN  4.0\n",
      "   0  1\n",
      "b  2  2\n",
      "c  3  3\n",
      "     0    1\n",
      "a  1.0  NaN\n",
      "b  2.0  2.0\n",
      "d  NaN  4.0\n"
     ]
    },
    {
     "name": "stderr",
     "output_type": "stream",
     "text": [
      "/Users/zhengxixuan/.pyenv/versions/3.7.0/envs/data101/lib/python3.7/site-packages/ipykernel_launcher.py:5: FutureWarning: Sorting because non-concatenation axis is not aligned. A future version\n",
      "of pandas will change to not sort by default.\n",
      "\n",
      "To accept the future behavior, pass 'sort=False'.\n",
      "\n",
      "To retain the current behavior and silence the warning, pass 'sort=True'.\n",
      "\n",
      "  \"\"\"\n"
     ]
    }
   ],
   "source": [
    "# 连接方式：join，join_axes\n",
    "\n",
    "s5 = pd.Series([1,2,3],index = ['a','b','c'])\n",
    "s6 = pd.Series([2,3,4],index = ['b','c','d'])\n",
    "print(pd.concat([s5,s6], axis= 1))\n",
    "print(pd.concat([s5,s6], axis= 1, join='inner'))\n",
    "print(pd.concat([s5,s6], axis= 1, join_axes=[['a','b','d']]))\n",
    "# join：{'inner'，'outer'}，默认为“outer”。如何处理其他轴上的索引。outer为联合和inner为交集。\n",
    "# join_axes：指定联合的index"
   ]
  },
  {
   "cell_type": "code",
   "execution_count": 19,
   "metadata": {
    "ExecuteTime": {
     "end_time": "2020-01-18T12:46:44.158509Z",
     "start_time": "2020-01-18T12:46:44.145204Z"
    }
   },
   "outputs": [
    {
     "name": "stdout",
     "output_type": "stream",
     "text": [
      "one  a    1\n",
      "     b    2\n",
      "     c    3\n",
      "two  b    2\n",
      "     c    3\n",
      "     d    4\n",
      "dtype: int64 <class 'pandas.core.series.Series'>\n",
      "MultiIndex(levels=[['one', 'two'], ['a', 'b', 'c', 'd']],\n",
      "           codes=[[0, 0, 0, 1, 1, 1], [0, 1, 2, 1, 2, 3]])\n",
      "-----\n",
      "   one  two\n",
      "a  1.0  NaN\n",
      "b  2.0  2.0\n",
      "c  3.0  3.0\n",
      "d  NaN  4.0 <class 'pandas.core.frame.DataFrame'>\n"
     ]
    },
    {
     "name": "stderr",
     "output_type": "stream",
     "text": [
      "/Users/zhengxixuan/.pyenv/versions/3.7.0/envs/data101/lib/python3.7/site-packages/ipykernel_launcher.py:9: FutureWarning: Sorting because non-concatenation axis is not aligned. A future version\n",
      "of pandas will change to not sort by default.\n",
      "\n",
      "To accept the future behavior, pass 'sort=False'.\n",
      "\n",
      "To retain the current behavior and silence the warning, pass 'sort=True'.\n",
      "\n",
      "  if __name__ == '__main__':\n"
     ]
    }
   ],
   "source": [
    "# 合并数组：concat , 覆盖列名\n",
    "\n",
    "sre = pd.concat([s5,s6], keys = ['one','two'])\n",
    "print(sre,type(sre))\n",
    "print(sre.index)\n",
    "print('-----')\n",
    "# keys：序列，默认值无。使用传递的键作为最外层构建层次索引\n",
    "\n",
    "sre = pd.concat([s5,s6], axis=1, keys = ['one','two'])\n",
    "print(sre,type(sre))\n",
    "# axis = 1, 覆盖列名"
   ]
  },
  {
   "cell_type": "code",
   "execution_count": 21,
   "metadata": {},
   "outputs": [
    {
     "name": "stdout",
     "output_type": "stream",
     "text": [
      "     0    1    2\n",
      "0  NaN  3.0  5.0\n",
      "1 -4.6  NaN  NaN\n",
      "2  NaN  7.0  NaN\n",
      "      0    1    2\n",
      "1 -42.6  NaN -8.2\n",
      "2  -5.0  1.6  4.0\n",
      "     0    1    2\n",
      "0  NaN  3.0  5.0\n",
      "1 -4.6  NaN -8.2\n",
      "2 -5.0  7.0  4.0\n",
      "-----\n",
      "      0    1    2\n",
      "0   NaN  3.0  5.0\n",
      "1 -42.6  NaN -8.2\n",
      "2  -5.0  1.6  4.0\n"
     ]
    }
   ],
   "source": [
    "# 修补 pd.combine_first()\n",
    "\n",
    "df1 = pd.DataFrame([[np.nan, 3., 5.], [-4.6, np.nan, np.nan],[np.nan, 7., np.nan]])\n",
    "df2 = pd.DataFrame([[-42.6, np.nan, -8.2], [-5., 1.6, 4]],index=[1, 2])\n",
    "print(df1)\n",
    "print(df2)\n",
    "print(df1.combine_first(df2))\n",
    "print('-----')\n",
    "# 根据index，df1的空值被df2替代\n",
    "# 如果df2的index多于df1，则更新到df1上，比如index=['a',1]\n",
    "\n",
    "df1.update(df2)\n",
    "print(df1)\n",
    "# update，直接df2覆盖df1，相同index位置"
   ]
  },
  {
   "cell_type": "code",
   "execution_count": null,
   "metadata": {},
   "outputs": [],
   "source": [
    "## 去重及替换\n",
    "\n",
    "#.duplicated / .replace"
   ]
  },
  {
   "cell_type": "code",
   "execution_count": 20,
   "metadata": {
    "ExecuteTime": {
     "end_time": "2020-01-18T12:47:17.096503Z",
     "start_time": "2020-01-18T12:47:17.082937Z"
    }
   },
   "outputs": [
    {
     "name": "stdout",
     "output_type": "stream",
     "text": [
      "0     False\n",
      "1      True\n",
      "2      True\n",
      "3      True\n",
      "4     False\n",
      "5      True\n",
      "6      True\n",
      "7     False\n",
      "8     False\n",
      "9     False\n",
      "10     True\n",
      "11     True\n",
      "12     True\n",
      "dtype: bool\n",
      "0    1\n",
      "4    2\n",
      "7    3\n",
      "8    4\n",
      "9    5\n",
      "dtype: int64\n",
      "-----\n",
      "0    1\n",
      "4    2\n",
      "7    3\n",
      "8    4\n",
      "9    5\n",
      "dtype: int64\n",
      "-----\n",
      "0    False\n",
      "1     True\n",
      "2    False\n",
      "3    False\n",
      "4    False\n",
      "dtype: bool\n",
      "0    False\n",
      "1     True\n",
      "2    False\n",
      "3     True\n",
      "4    False\n",
      "Name: key2, dtype: bool\n"
     ]
    }
   ],
   "source": [
    "# 去重 .duplicated\n",
    "\n",
    "s = pd.Series([1,1,1,1,2,2,2,3,4,5,5,5,5])\n",
    "print(s.duplicated())\n",
    "print(s[s.duplicated() == False])\n",
    "print('-----')\n",
    "# 判断是否重复\n",
    "# 通过布尔判断，得到不重复的值\n",
    "\n",
    "s_re = s.drop_duplicates()\n",
    "print(s_re)\n",
    "print('-----')\n",
    "# drop.duplicates移除重复\n",
    "# inplace参数：是否替换原值，默认False\n",
    "\n",
    "df = pd.DataFrame({'key1':['a','a',3,4,5],\n",
    "                  'key2':['a','a','b','b','c']})\n",
    "print(df.duplicated())\n",
    "print(df['key2'].duplicated())\n",
    "# Dataframe中使用duplicated"
   ]
  },
  {
   "cell_type": "code",
   "execution_count": 21,
   "metadata": {
    "ExecuteTime": {
     "end_time": "2020-01-18T12:47:25.504782Z",
     "start_time": "2020-01-18T12:47:25.495040Z"
    }
   },
   "outputs": [
    {
     "name": "stdout",
     "output_type": "stream",
     "text": [
      "0    NaN\n",
      "1      s\n",
      "2      c\n",
      "3    NaN\n",
      "4    NaN\n",
      "5      z\n",
      "6      s\n",
      "7      d\n",
      "dtype: object\n",
      "0    NaN\n",
      "1    NaN\n",
      "2      c\n",
      "3    NaN\n",
      "4    NaN\n",
      "5      z\n",
      "6    NaN\n",
      "7      d\n",
      "dtype: object\n",
      "0    hello world!\n",
      "1             123\n",
      "2               c\n",
      "3    hello world!\n",
      "4    hello world!\n",
      "5               z\n",
      "6             123\n",
      "7               d\n",
      "dtype: object\n"
     ]
    }
   ],
   "source": [
    "# 替换 .replace\n",
    "\n",
    "s = pd.Series(list('ascaazsd'))\n",
    "print(s.replace('a', np.nan))\n",
    "print(s.replace(['a','s'] ,np.nan))\n",
    "print(s.replace({'a':'hello world!','s':123}))\n",
    "# 可一次性替换一个值或多个值\n",
    "# 可传入列表或字典"
   ]
  },
  {
   "cell_type": "code",
   "execution_count": null,
   "metadata": {
    "collapsed": true
   },
   "outputs": [],
   "source": [
    "## 数据分组\n",
    "\n",
    "# 分组统计 - groupby功能\n",
    "\n",
    "# ① 根据某些条件将数据拆分成组\n",
    "# ② 对每个组独立应用函数\n",
    "# ③ 将结果合并到一个数据结构中\n",
    "\n",
    "# Dataframe在行（axis=0）或列（axis=1）上进行分组，将一个函数应用到各个分组并产生一个新值，然后函数执行结果被合并到最终的结果对象中。\n",
    "\n",
    "# df.groupby(by=None, axis=0, level=None, as_index=True, sort=True, group_keys=True, squeeze=False, **kwargs)\n",
    "\n",
    "# df.query(expr, inplace=False, **kwargs)"
   ]
  },
  {
   "cell_type": "code",
   "execution_count": 22,
   "metadata": {
    "ExecuteTime": {
     "end_time": "2020-01-18T12:47:41.506425Z",
     "start_time": "2020-01-18T12:47:41.483310Z"
    }
   },
   "outputs": [
    {
     "name": "stdout",
     "output_type": "stream",
     "text": [
      "     A      B         C         D\n",
      "0  foo    one  1.064492  0.279535\n",
      "1  bar    one -1.059785  0.566381\n",
      "2  foo    two  1.696052  0.301853\n",
      "3  bar  three -2.085904 -0.595263\n",
      "4  foo    two -0.521589 -0.377017\n",
      "5  bar    two  1.082662  0.249939\n",
      "6  foo    one  1.232737 -0.378536\n",
      "7  foo  three -0.561521  0.011845\n",
      "------\n",
      "<pandas.core.groupby.generic.DataFrameGroupBy object at 0x10befa0b8> <class 'pandas.core.groupby.generic.DataFrameGroupBy'>\n",
      "------\n",
      "            C         D\n",
      "A                      \n",
      "bar -0.687676  0.073686\n",
      "foo  0.582034 -0.032464 <class 'pandas.core.frame.DataFrame'> \n",
      " Index(['C', 'D'], dtype='object')\n",
      "                  C         D\n",
      "A   B                        \n",
      "bar one   -1.059785  0.566381\n",
      "    three -2.085904 -0.595263\n",
      "    two    1.082662  0.249939\n",
      "foo one    1.148614 -0.049500\n",
      "    three -0.561521  0.011845\n",
      "    two    0.587231 -0.037582 <class 'pandas.core.frame.DataFrame'> \n",
      " Index(['C', 'D'], dtype='object')\n",
      "A\n",
      "bar    0.073686\n",
      "foo   -0.032464\n",
      "Name: D, dtype: float64 <class 'pandas.core.series.Series'>\n"
     ]
    }
   ],
   "source": [
    "# 分组\n",
    "\n",
    "df = pd.DataFrame({'A' : ['foo', 'bar', 'foo', 'bar','foo', 'bar', 'foo', 'foo'],\n",
    "                   'B' : ['one', 'one', 'two', 'three', 'two', 'two', 'one', 'three'],\n",
    "                   'C' : np.random.randn(8),\n",
    "                   'D' : np.random.randn(8)})\n",
    "print(df)\n",
    "print('------')\n",
    "\n",
    "print(df.groupby('A'), type(df.groupby('A')))\n",
    "print('------')\n",
    "# 直接分组得到一个groupby对象，是一个中间数据，没有进行计算\n",
    "\n",
    "a = df.groupby('A').mean()\n",
    "b = df.groupby(['A','B']).mean()\n",
    "c = df.groupby(['A'])['D'].mean()  # 以A分组，算D的平均值\n",
    "print(a,type(a),'\\n',a.columns)\n",
    "print(b,type(b),'\\n',b.columns)\n",
    "print(c,type(c))\n",
    "# 通过分组后的计算，得到一个新的dataframe\n",
    "# 默认axis = 0，以行来分组\n",
    "# 可单个或多个（[]）列分组"
   ]
  },
  {
   "cell_type": "code",
   "execution_count": 23,
   "metadata": {
    "ExecuteTime": {
     "end_time": "2020-01-18T12:47:46.883310Z",
     "start_time": "2020-01-18T12:47:46.832777Z"
    },
    "scrolled": false
   },
   "outputs": [
    {
     "name": "stdout",
     "output_type": "stream",
     "text": [
      "   X  Y\n",
      "0  A  1\n",
      "1  B  4\n",
      "2  A  3\n",
      "3  B  2\n",
      "<pandas.core.groupby.generic.DataFrameGroupBy object at 0x10beeecf8> <class 'pandas.core.groupby.generic.DataFrameGroupBy'>\n",
      "-----\n",
      "[('A',    X  Y\n",
      "0  A  1\n",
      "2  A  3), ('B',    X  Y\n",
      "1  B  4\n",
      "3  B  2)] → 可迭代对象，直接生成list\n",
      "\n",
      "('A',    X  Y\n",
      "0  A  1\n",
      "2  A  3) → 以元祖形式显示\n",
      "\n",
      "A\n",
      "   X  Y\n",
      "0  A  1\n",
      "2  A  3\n",
      "###\n",
      "B\n",
      "   X  Y\n",
      "1  B  4\n",
      "3  B  2\n",
      "###\n",
      "-----\n",
      "   X  Y\n",
      "0  A  1\n",
      "2  A  3 \n",
      "\n",
      "   X  Y\n",
      "1  B  4\n",
      "3  B  2 \n",
      "\n",
      "-----\n",
      "{'A': Int64Index([0, 2], dtype='int64'), 'B': Int64Index([1, 3], dtype='int64')}\n",
      "Int64Index([0, 2], dtype='int64')\n",
      "-----\n",
      "X\n",
      "A    2\n",
      "B    2\n",
      "dtype: int64 <class 'pandas.core.series.Series'>\n",
      "-----\n",
      "     A      B         C         D\n",
      "0  foo    one -1.669071 -1.455384\n",
      "1  bar    one -0.857004  2.358611\n",
      "2  foo    two -0.102800 -0.934090\n",
      "3  bar  three -0.490031 -0.771863\n",
      "4  foo    two  0.662659 -0.607222\n",
      "5  bar    two -1.675916  1.376118\n",
      "6  foo    one  1.573160 -1.306805\n",
      "7  foo  three  0.498920 -1.332144\n",
      "{('bar', 'one'): Int64Index([1], dtype='int64'), ('bar', 'three'): Int64Index([3], dtype='int64'), ('bar', 'two'): Int64Index([5], dtype='int64'), ('foo', 'one'): Int64Index([0, 6], dtype='int64'), ('foo', 'three'): Int64Index([7], dtype='int64'), ('foo', 'two'): Int64Index([2, 4], dtype='int64')}\n",
      "Int64Index([7], dtype='int64')\n"
     ]
    }
   ],
   "source": [
    "# 分组 - 可迭代对象\n",
    "\n",
    "df = pd.DataFrame({'X' : ['A', 'B', 'A', 'B'], 'Y' : [1, 4, 3, 2]})\n",
    "print(df)\n",
    "print(df.groupby('X'), type(df.groupby('X')))\n",
    "print('-----')\n",
    "\n",
    "print(list(df.groupby('X')), '→ 可迭代对象，直接生成list\\n')\n",
    "print(list(df.groupby('X'))[0], '→ 以元祖形式显示\\n')\n",
    "for n,g in df.groupby('X'):\n",
    "    print(n)\n",
    "    print(g)\n",
    "    print('###')\n",
    "print('-----')\n",
    "# n是组名，g是分组后的Dataframe\n",
    "\n",
    "print(df.groupby(['X']).get_group('A'),'\\n')\n",
    "print(df.groupby(['X']).get_group('B'),'\\n')\n",
    "print('-----')\n",
    "# .get_group()提取分组后的组\n",
    "\n",
    "grouped = df.groupby(['X'])\n",
    "print(grouped.groups)\n",
    "print(grouped.groups['A'])  # 也可写：df.groupby('X').groups['A']\n",
    "print('-----')\n",
    "# .groups：将分组后的groups转为dict\n",
    "# 可以字典索引方法来查看groups里的元素\n",
    "\n",
    "sz = grouped.size()\n",
    "print(sz,type(sz))\n",
    "print('-----')\n",
    "# .size()：查看分组后的长度\n",
    "\n",
    "df = pd.DataFrame({'A' : ['foo', 'bar', 'foo', 'bar','foo', 'bar', 'foo', 'foo'],\n",
    "                   'B' : ['one', 'one', 'two', 'three', 'two', 'two', 'one', 'three'],\n",
    "                   'C' : np.random.randn(8),\n",
    "                   'D' : np.random.randn(8)})\n",
    "grouped = df.groupby(['A','B']).groups\n",
    "print(df)\n",
    "print(grouped)\n",
    "print(grouped[('foo', 'three')])\n",
    "# 按照两个列进行分组"
   ]
  },
  {
   "cell_type": "code",
   "execution_count": 26,
   "metadata": {},
   "outputs": [
    {
     "name": "stdout",
     "output_type": "stream",
     "text": [
      "      data1     data2 key1 key2\n",
      "0  0.454580  0.692637    a  one\n",
      "1  0.496928  0.214309    b  two\n",
      "data1    float64\n",
      "data2    float64\n",
      "key1      object\n",
      "key2      object\n",
      "dtype: object\n",
      "-----\n",
      "float64\n",
      "      data1     data2\n",
      "0  0.454580  0.692637\n",
      "1  0.496928  0.214309\n",
      "##\n",
      "object\n",
      "  key1 key2\n",
      "0    a  one\n",
      "1    b  two\n",
      "##\n"
     ]
    }
   ],
   "source": [
    "# 其他轴上的分组\n",
    "\n",
    "df = pd.DataFrame({'data1':np.random.rand(2),\n",
    "                  'data2':np.random.rand(2),\n",
    "                  'key1':['a','b'],\n",
    "                  'key2':['one','two']})\n",
    "print(df)\n",
    "print(df.dtypes)\n",
    "print('-----')\n",
    "for n,p in df.groupby(df.dtypes, axis=1):\n",
    "    print(n)\n",
    "    print(p)\n",
    "    print('##')\n",
    "# 按照值类型分列"
   ]
  },
  {
   "cell_type": "code",
   "execution_count": 27,
   "metadata": {},
   "outputs": [
    {
     "name": "stdout",
     "output_type": "stream",
     "text": [
      "    a   b   c   d\n",
      "0   0   1   2   3\n",
      "1   4   5   6   7\n",
      "2   8   9  10  11\n",
      "3  12  13  14  15\n",
      "-----\n",
      "   one  two\n",
      "0    1    5\n",
      "1    9   13\n",
      "2   17   21\n",
      "3   25   29\n",
      "-----\n",
      "a      one\n",
      "b      one\n",
      "c      two\n",
      "d      two\n",
      "e    three\n",
      "dtype: object \n",
      "\n",
      "one      2\n",
      "three    1\n",
      "two      2\n",
      "dtype: int64\n"
     ]
    }
   ],
   "source": [
    "# 通过字典或者Series分组\n",
    "\n",
    "df = pd.DataFrame(np.arange(16).reshape(4,4),\n",
    "                  columns = ['a','b','c','d'])\n",
    "print(df)\n",
    "print('-----')\n",
    "\n",
    "mapping = {'a':'one','b':'one','c':'two','d':'two','e':'three'}\n",
    "by_column = df.groupby(mapping, axis = 1)\n",
    "print(by_column.sum())\n",
    "print('-----')\n",
    "# mapping中，a、b列对应的为one，c、d列对应的为two，以字典来分组\n",
    "\n",
    "s = pd.Series(mapping)\n",
    "print(s,'\\n')\n",
    "print(s.groupby(s).count())\n",
    "# s中，index中a、b对应的为one，c、d对应的为two，以Series来分组"
   ]
  },
  {
   "cell_type": "code",
   "execution_count": 28,
   "metadata": {},
   "outputs": [
    {
     "name": "stdout",
     "output_type": "stream",
     "text": [
      "      a   b   c   d\n",
      "abc   0   1   2   3\n",
      "bcd   4   5   6   7\n",
      "aa    8   9  10  11\n",
      "b    12  13  14  15 \n",
      "\n",
      "    a   b   c   d\n",
      "1  12  13  14  15\n",
      "2   8   9  10  11\n",
      "3   4   6   8  10\n"
     ]
    }
   ],
   "source": [
    "# 通过函数分组\n",
    "\n",
    "df = pd.DataFrame(np.arange(16).reshape(4,4),\n",
    "                  columns = ['a','b','c','d'],\n",
    "                 index = ['abc','bcd','aa','b'])\n",
    "print(df,'\\n')\n",
    "print(df.groupby(len).sum())\n",
    "# 按照字母长度分组"
   ]
  },
  {
   "cell_type": "code",
   "execution_count": 29,
   "metadata": {},
   "outputs": [
    {
     "name": "stdout",
     "output_type": "stream",
     "text": [
      "<pandas.core.groupby.SeriesGroupBy object at 0x00000000091992B0>\n",
      "1    1\n",
      "2    2\n",
      "3    3\n",
      "dtype: int64 → first：非NaN的第一个值\n",
      "\n",
      "1    10\n",
      "2    20\n",
      "3    30\n",
      "dtype: int64 → last：非NaN的最后一个值\n",
      "\n",
      "1    11\n",
      "2    22\n",
      "3    33\n",
      "dtype: int64 → sum：非NaN的和\n",
      "\n",
      "1     5.5\n",
      "2    11.0\n",
      "3    16.5\n",
      "dtype: float64 → mean：非NaN的平均值\n",
      "\n",
      "1     5.5\n",
      "2    11.0\n",
      "3    16.5\n",
      "dtype: float64 → median：非NaN的算术中位数\n",
      "\n",
      "1    2\n",
      "2    2\n",
      "3    2\n",
      "dtype: int64 → count：非NaN的值\n",
      "\n",
      "1    1\n",
      "2    2\n",
      "3    3\n",
      "dtype: int64 → min、max：非NaN的最小值、最大值\n",
      "\n",
      "1     6.363961\n",
      "2    12.727922\n",
      "3    19.091883\n",
      "dtype: float64 → std，var：非NaN的标准差和方差\n",
      "\n",
      "1    10\n",
      "2    40\n",
      "3    90\n",
      "dtype: int64 → prod：非NaN的积\n",
      "\n"
     ]
    }
   ],
   "source": [
    "# 分组计算函数方法\n",
    "\n",
    "s = pd.Series([1, 2, 3, 10, 20, 30], index = [1, 2, 3, 1, 2, 3])\n",
    "grouped = s.groupby(level=0)  # 唯一索引用.groupby(level=0)，将同一个index的分为一组\n",
    "print(grouped)\n",
    "print(grouped.first(),'→ first：非NaN的第一个值\\n')\n",
    "print(grouped.last(),'→ last：非NaN的最后一个值\\n')\n",
    "print(grouped.sum(),'→ sum：非NaN的和\\n')\n",
    "print(grouped.mean(),'→ mean：非NaN的平均值\\n')\n",
    "print(grouped.median(),'→ median：非NaN的算术中位数\\n')\n",
    "print(grouped.count(),'→ count：非NaN的值\\n')\n",
    "print(grouped.min(),'→ min、max：非NaN的最小值、最大值\\n')\n",
    "print(grouped.std(),'→ std，var：非NaN的标准差和方差\\n')\n",
    "print(grouped.prod(),'→ prod：非NaN的积\\n')"
   ]
  },
  {
   "cell_type": "code",
   "execution_count": 30,
   "metadata": {},
   "outputs": [
    {
     "name": "stdout",
     "output_type": "stream",
     "text": [
      "   a         b         c         d\n",
      "0  1  0.357911  0.318324  0.627797\n",
      "1  1  0.964829  0.500017  0.570063\n",
      "2  2  0.116608  0.194164  0.049509\n",
      "3  2  0.933123  0.542615  0.718640\n",
      "          b                   c                   d         \n",
      "       mean       sum      mean       sum      mean      sum\n",
      "a                                                           \n",
      "1  0.661370  1.322739  0.409171  0.818341  0.598930  1.19786\n",
      "2  0.524865  1.049730  0.368390  0.736780  0.384075  0.76815\n",
      "    result2   result1\n",
      "a                    \n",
      "1  1.322739  0.661370\n",
      "2  1.049730  0.524865\n"
     ]
    }
   ],
   "source": [
    "# 多函数计算：agg()\n",
    "\n",
    "df = pd.DataFrame({'a':[1,1,2,2],\n",
    "                  'b':np.random.rand(4),\n",
    "                  'c':np.random.rand(4),\n",
    "                  'd':np.random.rand(4),})\n",
    "print(df)\n",
    "print(df.groupby('a').agg(['mean',np.sum]))\n",
    "print(df.groupby('a')['b'].agg({'result1':np.mean,\n",
    "                               'result2':np.sum}))\n",
    "# 函数写法可以用str，或者np.方法\n",
    "# 可以通过list，dict传入，当用dict时，key名为columns"
   ]
  },
  {
   "cell_type": "code",
   "execution_count": null,
   "metadata": {},
   "outputs": [],
   "source": [
    "## 分组转换及一般性“拆分-应用-合并”\n",
    "\n",
    "# transform / apply"
   ]
  },
  {
   "cell_type": "code",
   "execution_count": 31,
   "metadata": {},
   "outputs": [
    {
     "name": "stdout",
     "output_type": "stream",
     "text": [
      "      data1     data2 key1 key2\n",
      "0  0.003727  0.390301    a  one\n",
      "1  0.744777  0.130300    a  two\n",
      "2  0.887207  0.679309    b  one\n",
      "3  0.448585  0.169208    b  two\n",
      "4  0.448045  0.993775    a  one\n",
      "         data1     data2\n",
      "key1                    \n",
      "a     0.398850  0.504792\n",
      "b     0.667896  0.424258\n",
      "   mean_data1_x  mean_data2_x mean_key1 mean_key2  mean_data1_y  mean_data2_y\n",
      "0      0.003727      0.390301         a       one      0.398850      0.504792\n",
      "1      0.744777      0.130300         a       two      0.398850      0.504792\n",
      "4      0.448045      0.993775         a       one      0.398850      0.504792\n",
      "2      0.887207      0.679309         b       one      0.667896      0.424258\n",
      "3      0.448585      0.169208         b       two      0.667896      0.424258\n",
      "-----\n",
      "         data1     data2\n",
      "key2                    \n",
      "one   0.446326  0.687795\n",
      "two   0.596681  0.149754\n",
      "      data1     data2\n",
      "0  0.446326  0.687795\n",
      "1  0.596681  0.149754\n",
      "2  0.446326  0.687795\n",
      "3  0.596681  0.149754\n",
      "4  0.446326  0.687795\n"
     ]
    }
   ],
   "source": [
    "# 数据分组转换,transform\n",
    "\n",
    "df = pd.DataFrame({'data1':np.random.rand(5),\n",
    "                  'data2':np.random.rand(5),\n",
    "                  'key1':list('aabba'),\n",
    "                  'key2':['one','two','one','two','one']})\n",
    "k_mean = df.groupby('key1').mean()\n",
    "print(df)\n",
    "print(k_mean)\n",
    "print(pd.merge(df,k_mean,left_on='key1',right_index=True).add_prefix('mean_'))  # .add_prefix('mean_')：添加前缀\n",
    "print('-----')\n",
    "# 通过分组、合并，得到一个包含均值的Dataframe\n",
    "\n",
    "print(df.groupby('key2').mean()) # 按照key2分组求均值\n",
    "print(df.groupby('key2').transform(np.mean))\n",
    "# data1、data2每个位置元素取对应分组列的均值\n",
    "# 字符串不能进行计算"
   ]
  },
  {
   "cell_type": "code",
   "execution_count": 32,
   "metadata": {
    "scrolled": false
   },
   "outputs": [
    {
     "name": "stdout",
     "output_type": "stream",
     "text": [
      "               data1     data2\n",
      "key1                          \n",
      "a    count  3.000000  3.000000\n",
      "     mean   0.561754  0.233470\n",
      "     std    0.313439  0.337209\n",
      "     min    0.325604  0.026906\n",
      "     25%    0.383953  0.038906\n",
      "     50%    0.442303  0.050906\n",
      "     75%    0.679829  0.336753\n",
      "     max    0.917355  0.622599\n",
      "b    count  2.000000  2.000000\n",
      "     mean   0.881906  0.547206\n",
      "     std    0.079357  0.254051\n",
      "     min    0.825791  0.367564\n",
      "     25%    0.853849  0.457385\n",
      "     50%    0.881906  0.547206\n",
      "     75%    0.909963  0.637026\n",
      "     max    0.938020  0.726847\n",
      "           data1     data2 key1 key2\n",
      "key1                                \n",
      "a    0  0.325604  0.050906    a  one\n",
      "     1  0.917355  0.622599    a  two\n",
      "b    2  0.825791  0.726847    b  one\n",
      "     3  0.938020  0.367564    b  two \n",
      "\n",
      "key1   \n",
      "a     0    0.050906\n",
      "      1    0.622599\n",
      "      4    0.026906\n",
      "b     2    0.726847\n",
      "      3    0.367564\n",
      "Name: data2, dtype: float64\n",
      "<class 'pandas.core.series.Series'>\n"
     ]
    }
   ],
   "source": [
    "# 一般化Groupby方法：apply\n",
    "\n",
    "df = pd.DataFrame({'data1':np.random.rand(5),\n",
    "                  'data2':np.random.rand(5),\n",
    "                  'key1':list('aabba'),\n",
    "                  'key2':['one','two','one','two','one']})\n",
    "\n",
    "print(df.groupby('key1').apply(lambda x: x.describe()))\n",
    "# apply直接运行其中的函数\n",
    "# 这里为匿名函数，直接描述分组后的统计量\n",
    "\n",
    "def f_df1(d,n):\n",
    "    return(d.sort_index()[:n])\n",
    "def f_df2(d,k1):\n",
    "    return(d[k1])\n",
    "print(df.groupby('key1').apply(f_df1,2),'\\n')\n",
    "print(df.groupby('key1').apply(f_df2,'data2'))\n",
    "print(type(df.groupby('key1').apply(f_df2,'data2')))\n",
    "# f_df1函数：返回排序后的前n行数据\n",
    "# f_df2函数：返回分组后表的k1列，结果为Series，层次化索引\n",
    "# 直接运行f_df函数\n",
    "# 参数直接写在后面，也可以为.apply(f_df,n = 2))"
   ]
  }
 ],
 "metadata": {
  "anaconda-cloud": {},
  "kernelspec": {
   "display_name": "Python 3",
   "language": "python",
   "name": "python3"
  },
  "language_info": {
   "codemirror_mode": {
    "name": "ipython",
    "version": 3
   },
   "file_extension": ".py",
   "mimetype": "text/x-python",
   "name": "python",
   "nbconvert_exporter": "python",
   "pygments_lexer": "ipython3",
   "version": "3.7.0"
  },
  "toc": {
   "base_numbering": 1,
   "nav_menu": {},
   "number_sections": true,
   "sideBar": true,
   "skip_h1_title": false,
   "title_cell": "Table of Contents",
   "title_sidebar": "Contents",
   "toc_cell": false,
   "toc_position": {},
   "toc_section_display": true,
   "toc_window_display": false
  },
  "varInspector": {
   "cols": {
    "lenName": 16,
    "lenType": 16,
    "lenVar": 40
   },
   "kernels_config": {
    "python": {
     "delete_cmd_postfix": "",
     "delete_cmd_prefix": "del ",
     "library": "var_list.py",
     "varRefreshCmd": "print(var_dic_list())"
    },
    "r": {
     "delete_cmd_postfix": ") ",
     "delete_cmd_prefix": "rm(",
     "library": "var_list.r",
     "varRefreshCmd": "cat(var_dic_list()) "
    }
   },
   "types_to_exclude": [
    "module",
    "function",
    "builtin_function_or_method",
    "instance",
    "_Feature"
   ],
   "window_display": false
  }
 },
 "nbformat": 4,
 "nbformat_minor": 1
}
