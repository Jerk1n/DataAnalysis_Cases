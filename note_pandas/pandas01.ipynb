{
 "cells": [
  {
   "cell_type": "code",
   "execution_count": null,
   "metadata": {},
   "outputs": [],
   "source": [
    "## 01 pandas 数据结构之 Series"
   ]
  },
  {
   "cell_type": "code",
   "execution_count": null,
   "metadata": {},
   "outputs": [],
   "source": [
    "## Series 概念及创建"
   ]
  },
  {
   "cell_type": "code",
   "execution_count": 5,
   "metadata": {
    "ExecuteTime": {
     "end_time": "2020-01-14T09:32:44.732423Z",
     "start_time": "2020-01-14T09:32:44.726371Z"
    }
   },
   "outputs": [
    {
     "name": "stdout",
     "output_type": "stream",
     "text": [
      "0    0.981269\n",
      "1    0.655927\n",
      "2    0.969507\n",
      "3    0.720205\n",
      "4    0.853511\n",
      "dtype: float64 <class 'pandas.core.series.Series'>\n",
      "RangeIndex(start=0, stop=5, step=1) <class 'pandas.core.indexes.range.RangeIndex'>\n",
      "[0.98126872 0.65592748 0.96950709 0.72020486 0.85351058] <class 'numpy.ndarray'>\n"
     ]
    }
   ],
   "source": [
    "# Series 是带有标签的一维数组，可以保存任何数据类型（整数、浮点数、字符串、Python对象等），轴标签统称为索引\n",
    "\n",
    "import numpy as np\n",
    "import pandas as pd\n",
    "\n",
    "s = pd.Series(np.random.rand(5))\n",
    "print(s,type(s))\n",
    "\n",
    "print(s.index,type(s.index))    # .index 查看 series 索引\n",
    "print(s.values,type(s.values))  # .values 查看 series 值\n",
    "\n",
    "# series 与 ndarray 相比，多了一个自带索引\n",
    "# series 和 ndarray 较相似，索引切片功能类似\n",
    "# series 和 dict 相比，series 更像一个有顺序的字典，而dict 本身是没有顺序的，索引原理也相似，index 相当于 key"
   ]
  },
  {
   "cell_type": "code",
   "execution_count": 37,
   "metadata": {
    "ExecuteTime": {
     "end_time": "2020-01-14T10:15:30.586252Z",
     "start_time": "2020-01-14T10:15:30.578916Z"
    }
   },
   "outputs": [
    {
     "name": "stdout",
     "output_type": "stream",
     "text": [
      "a    1\n",
      "b    2\n",
      "c    f\n",
      "4    d\n",
      "dtype: object\n",
      "<class 'pandas.core.series.Series'>\n",
      "d\n"
     ]
    }
   ],
   "source": [
    "# Series 创建方法一：由字典创建，字典的 key 对应 index，values 对应 values\n",
    "\n",
    "dic = {'a':1, 'b':2, 'c':'f', 'd':'d'}\n",
    "s = pd.Series(dic)\n",
    "print(s)\n",
    "print(type(s))\n",
    "\n",
    "# index 只能是字符串类型；values 的值如果不是同一类型，会显示 dtype:object"
   ]
  },
  {
   "cell_type": "code",
   "execution_count": 20,
   "metadata": {
    "ExecuteTime": {
     "end_time": "2020-01-14T09:52:38.499301Z",
     "start_time": "2020-01-14T09:52:38.490239Z"
    }
   },
   "outputs": [
    {
     "name": "stdout",
     "output_type": "stream",
     "text": [
      "[0.44838438 0.77152237 0.46604912 0.62857955 0.18304865]\n",
      "0    0.448384\n",
      "1    0.771522\n",
      "2    0.466049\n",
      "3    0.628580\n",
      "4    0.183049\n",
      "dtype: float64\n",
      "a    0.448384\n",
      "b    0.771522\n",
      "c    0.466049\n",
      "d     0.62858\n",
      "e    0.183049\n",
      "dtype: object\n"
     ]
    }
   ],
   "source": [
    "# Series 创建方法二：由数组创建\n",
    "\n",
    "ar = np.random.rand(5)\n",
    "s = pd.Series(ar)\n",
    "print(ar)\n",
    "print(s)\n",
    "\n",
    "s = pd.Series(ar, index=['a','b','c','d','e'], dtype=np.object)\n",
    "print(s)\n",
    "# 可以自定义 index，设置数值类型 dtype="
   ]
  },
  {
   "cell_type": "code",
   "execution_count": 23,
   "metadata": {
    "ExecuteTime": {
     "end_time": "2020-01-14T09:56:30.172353Z",
     "start_time": "2020-01-14T09:56:30.165601Z"
    }
   },
   "outputs": [
    {
     "name": "stdout",
     "output_type": "stream",
     "text": [
      "0    10\n",
      "1    10\n",
      "2    10\n",
      "3    10\n",
      "4    10\n",
      "dtype: int64\n"
     ]
    }
   ],
   "source": [
    "# Series 创建方法三：由标量（无方向的正负实数）创建\n",
    "\n",
    "s = pd.Series(10, index=range(5))\n",
    "print(s)\n",
    "# 如果是数值是标量，那么必须提供index"
   ]
  },
  {
   "cell_type": "code",
   "execution_count": 27,
   "metadata": {
    "ExecuteTime": {
     "end_time": "2020-01-14T10:01:43.901195Z",
     "start_time": "2020-01-14T10:01:43.891320Z"
    }
   },
   "outputs": [
    {
     "name": "stdout",
     "output_type": "stream",
     "text": [
      "0    0.233297\n",
      "1   -1.018480\n",
      "2    0.676226\n",
      "3   -0.254923\n",
      "4   -1.626825\n",
      "dtype: float64\n",
      "------\n",
      "0    1.229761\n",
      "1   -0.779140\n",
      "2   -0.715573\n",
      "3   -0.855684\n",
      "4    0.181783\n",
      "Name: test, dtype: float64\n",
      "None test <class 'str'>\n",
      "------\n",
      "0    1.229761\n",
      "1   -0.779140\n",
      "2   -0.715573\n",
      "3   -0.855684\n",
      "4    0.181783\n",
      "Name: new, dtype: float64\n",
      "new test\n"
     ]
    }
   ],
   "source": [
    "# Series 名称属性 .name()/.rename()\n",
    "\n",
    "s1 = pd.Series(np.random.randn(5))\n",
    "print(s1)\n",
    "print('------')\n",
    "\n",
    "s2 = pd.Series(np.random.randn(5), name='test')\n",
    "print(s2)\n",
    "print(s1.name, s2.name, type(s2.name))\n",
    "print('------')\n",
    "\n",
    "s3 = s2.rename('new')\n",
    "print(s3)\n",
    "print(s3.name, s2.name)\n",
    "\n",
    "# .rename()重命名一个数组的名称，并且指向一个新数组，原数组不变"
   ]
  },
  {
   "cell_type": "code",
   "execution_count": null,
   "metadata": {},
   "outputs": [],
   "source": [
    "## Series 索引： 位置下标索引、index 标签索引、切片索引、布尔型索引"
   ]
  },
  {
   "cell_type": "code",
   "execution_count": 45,
   "metadata": {
    "ExecuteTime": {
     "end_time": "2020-01-14T10:37:40.133206Z",
     "start_time": "2020-01-14T10:37:40.126716Z"
    }
   },
   "outputs": [
    {
     "name": "stdout",
     "output_type": "stream",
     "text": [
      "0    0.823723\n",
      "1    0.891548\n",
      "2    0.500362\n",
      "3    0.722128\n",
      "4    0.744480\n",
      "dtype: float64\n",
      "0.8237229902058185 <class 'numpy.float64'> float64\n",
      "0.8237229902058185 <class 'float'>\n"
     ]
    }
   ],
   "source": [
    "# Series 下标索引，类似序列的操作\n",
    "\n",
    "s = pd.Series(np.random.rand(5))\n",
    "print(s)\n",
    "print(s[0],type(s[0]),s[0].dtype)\n",
    "print(float(s[0]), type(float(s[0])))\n",
    "\n",
    "# 可以用 float()函数将 numpy.float 格式转换为 Python float 格式\n",
    "# 注意：print(s[-1]) 会报错，list[-1]可以，而下标 s[-1]不行"
   ]
  },
  {
   "cell_type": "code",
   "execution_count": 43,
   "metadata": {
    "ExecuteTime": {
     "end_time": "2020-01-14T10:23:58.604679Z",
     "start_time": "2020-01-14T10:23:58.591490Z"
    }
   },
   "outputs": [
    {
     "name": "stdout",
     "output_type": "stream",
     "text": [
      "a    0.035387\n",
      "b    0.131216\n",
      "c    0.499214\n",
      "d    0.798168\n",
      "e    0.748766\n",
      "dtype: float64\n",
      "0.035387358395366664 <class 'numpy.float64'> float64\n",
      "0.748765602883941\n",
      "a    0.035387\n",
      "b    0.131216\n",
      "d    0.798168\n",
      "dtype: float64 <class 'pandas.core.series.Series'>\n"
     ]
    }
   ],
   "source": [
    "# Series 标签索引\n",
    "\n",
    "s = pd.Series(np.random.rand(5), index=['a','b','c','d','e'])\n",
    "print(s)\n",
    "print(s['a'],type(s['a']),s['a'].dtype)\n",
    "print(s[-1])\n",
    "\n",
    "sci = s[['a','b','d']]\n",
    "print(sci,type(sci))\n",
    "# 选择多个标签的值，用[[]]来表示\n",
    "# 多标签索引结果是一个新的数组"
   ]
  },
  {
   "cell_type": "code",
   "execution_count": 42,
   "metadata": {
    "ExecuteTime": {
     "end_time": "2020-01-14T10:22:53.880425Z",
     "start_time": "2020-01-14T10:22:53.866085Z"
    }
   },
   "outputs": [
    {
     "name": "stdout",
     "output_type": "stream",
     "text": [
      "1    0.146902\n",
      "2    0.538890\n",
      "3    0.525578\n",
      "dtype: float64 0.9708429064843102\n",
      "a    0.112546\n",
      "b    0.439484\n",
      "c    0.748287\n",
      "dtype: float64 0.7482870659574029\n",
      "a    0.112546\n",
      "b    0.439484\n",
      "c    0.748287\n",
      "dtype: float64 0.5759327724737356\n",
      "a    0.112546\n",
      "b    0.439484\n",
      "c    0.748287\n",
      "d    0.575933\n",
      "dtype: float64\n",
      "a    0.112546\n",
      "c    0.748287\n",
      "e    0.713497\n",
      "dtype: float64\n"
     ]
    }
   ],
   "source": [
    "# Series 切片索引\n",
    "\n",
    "s1 = pd.Series(np.random.rand(5))\n",
    "s2 = pd.Series(np.random.rand(5), index=['a','b','c','d','e'])\n",
    "print(s1[1:4],s1[4])\n",
    "print(s2['a':'c'],s2['c'])\n",
    "print(s2[0:3],s2[3])\n",
    "# 注意：用 index 做切片时，左闭右闭\n",
    "\n",
    "print(s2[:-1])\n",
    "print(s2[::2])\n",
    "# 和 list 写法一样"
   ]
  },
  {
   "cell_type": "code",
   "execution_count": 49,
   "metadata": {
    "ExecuteTime": {
     "end_time": "2020-01-14T10:52:39.454595Z",
     "start_time": "2020-01-14T10:52:39.436244Z"
    }
   },
   "outputs": [
    {
     "name": "stdout",
     "output_type": "stream",
     "text": [
      "0    89.9511\n",
      "1    59.5477\n",
      "2    31.6409\n",
      "4       None\n",
      "dtype: object\n",
      "0     True\n",
      "1     True\n",
      "2    False\n",
      "4    False\n",
      "dtype: bool <class 'pandas.core.series.Series'> bool\n",
      "0    False\n",
      "1    False\n",
      "2    False\n",
      "4     True\n",
      "dtype: bool <class 'pandas.core.series.Series'> bool\n",
      "0     True\n",
      "1     True\n",
      "2     True\n",
      "4    False\n",
      "dtype: bool <class 'pandas.core.series.Series'> bool\n",
      "0    89.9511\n",
      "1    59.5477\n",
      "dtype: object\n",
      "0    89.9511\n",
      "1    59.5477\n",
      "2    31.6409\n",
      "dtype: object\n"
     ]
    }
   ],
   "source": [
    "# Series 布尔索引\n",
    "\n",
    "s = pd.Series(np.random.rand(3)*100)\n",
    "s[4] = None\n",
    "print(s)\n",
    "bs1 = s > 50\n",
    "bs2 = s.isnull()\n",
    "bs3 = s.notnull()\n",
    "print(bs1, type(bs1), bs1.dtype)\n",
    "print(bs2, type(bs2), bs2.dtype)\n",
    "print(bs3, type(bs3), bs3.dtype)\n",
    "# 数组根据条件做完判断后，返回的是一个由布尔值组成的新数组\n",
    "# .isnull() / .notnull() 判断是否为空值，None 代表空值，NaN 代表有问题的数值，两个都会识别为空值\n",
    "\n",
    "print(s[s > 50])\n",
    "print(s[bs3])\n",
    "# 布尔索引：判断条件可以是一个判断表达式，或者是一个布尔型数组。"
   ]
  },
  {
   "cell_type": "code",
   "execution_count": null,
   "metadata": {},
   "outputs": [],
   "source": [
    "## Series 基本操作：查看数据.head()/.tail()，重新索引.reindex()，对齐，增删改值 .append()/.drop()"
   ]
  },
  {
   "cell_type": "code",
   "execution_count": 50,
   "metadata": {
    "ExecuteTime": {
     "end_time": "2020-01-14T10:58:50.507325Z",
     "start_time": "2020-01-14T10:58:50.500717Z"
    }
   },
   "outputs": [
    {
     "name": "stdout",
     "output_type": "stream",
     "text": [
      "0    0.872118\n",
      "1    0.763153\n",
      "2    0.649489\n",
      "3    0.315336\n",
      "4    0.418484\n",
      "5    0.035314\n",
      "6    0.823797\n",
      "7    0.133578\n",
      "8    0.955526\n",
      "9    0.231410\n",
      "dtype: float64\n",
      "45    0.572169\n",
      "46    0.580004\n",
      "47    0.171055\n",
      "48    0.303513\n",
      "49    0.855993\n",
      "dtype: float64\n"
     ]
    }
   ],
   "source": [
    "# Series 查看数据\n",
    "\n",
    "s = pd.Series(np.random.rand(50))\n",
    "print(s.head(10))\n",
    "print(s.tail())\n",
    "# 默认查看前后 5 条"
   ]
  },
  {
   "cell_type": "code",
   "execution_count": 52,
   "metadata": {
    "ExecuteTime": {
     "end_time": "2020-01-14T11:02:38.860562Z",
     "start_time": "2020-01-14T11:02:38.848353Z"
    }
   },
   "outputs": [
    {
     "name": "stdout",
     "output_type": "stream",
     "text": [
      "a    0.681117\n",
      "b    0.040350\n",
      "c    0.740583\n",
      "dtype: float64\n",
      "c    0.740583\n",
      "d         NaN\n",
      "a    0.681117\n",
      "b    0.040350\n",
      "dtype: float64\n",
      "c    0.740583\n",
      "d    0.000000\n",
      "a    0.681117\n",
      "b    0.040350\n",
      "dtype: float64\n"
     ]
    }
   ],
   "source": [
    "# Series 重新索引\n",
    "\n",
    "s = pd.Series(np.random.rand(3), index=['a','b','c'])\n",
    "print(s)\n",
    "s1 = s.reindex(['c','d','a','b'])\n",
    "print(s1)\n",
    "# reindex根据当前索引重新排序，如果当前索引不存在，则引入缺失值 NaN\n",
    "\n",
    "s2 = s.reindex(['c','d','a','b'], fill_value = 0)\n",
    "print(s2)\n",
    "# fill_value 填充缺失值"
   ]
  },
  {
   "cell_type": "code",
   "execution_count": 55,
   "metadata": {
    "ExecuteTime": {
     "end_time": "2020-01-14T11:06:01.870118Z",
     "start_time": "2020-01-14T11:06:01.847694Z"
    }
   },
   "outputs": [
    {
     "name": "stdout",
     "output_type": "stream",
     "text": [
      "Jack    0.431219\n",
      "Tom     0.560185\n",
      "John    0.030091\n",
      "dtype: float64\n",
      "John    0.944668\n",
      "Hu      0.415160\n",
      "Tom     0.394243\n",
      "dtype: float64\n",
      "Hu           NaN\n",
      "Jack         NaN\n",
      "John    0.974759\n",
      "Tom     0.954428\n",
      "dtype: float64\n"
     ]
    }
   ],
   "source": [
    "# Series 对齐\n",
    "\n",
    "s1 = pd.Series(np.random.rand(3), index=['Jack','Tom','John'])\n",
    "s2 = pd.Series(np.random.rand(3), index=['John','Hu','Tom'])\n",
    "print(s1)\n",
    "print(s2)\n",
    "print(s1+s2)\n",
    "# Series 和 ndarray 之间的主要区别是：Series 会根据 index 自动对齐\n",
    "# 数组计算是根据 index ，和 index 顺序无关\n",
    "# 空值和任何其他值计算结果仍为空值"
   ]
  },
  {
   "cell_type": "code",
   "execution_count": 60,
   "metadata": {
    "ExecuteTime": {
     "end_time": "2020-01-14T11:15:19.314961Z",
     "start_time": "2020-01-14T11:15:19.299440Z"
    }
   },
   "outputs": [
    {
     "name": "stdout",
     "output_type": "stream",
     "text": [
      "0    0.150731\n",
      "1    0.436257\n",
      "2    0.406722\n",
      "3    0.762224\n",
      "4    0.352095\n",
      "dtype: float64\n",
      "c    0.407201\n",
      "f    0.251858\n",
      "e    0.409498\n",
      "g    0.860362\n",
      "h    0.540183\n",
      "dtype: float64\n",
      "0      0.150731\n",
      "1      0.436257\n",
      "2      0.406722\n",
      "3      0.762224\n",
      "4      0.352095\n",
      "5    100.000000\n",
      "dtype: float64\n",
      "c      0.407201\n",
      "f      0.251858\n",
      "e      0.409498\n",
      "g      0.860362\n",
      "h      0.540183\n",
      "a    100.000000\n",
      "dtype: float64\n",
      "0      0.150731\n",
      "1      0.436257\n",
      "2      0.406722\n",
      "3      0.762224\n",
      "4      0.352095\n",
      "5    100.000000\n",
      "c      0.407201\n",
      "f      0.251858\n",
      "e      0.409498\n",
      "g      0.860362\n",
      "h      0.540183\n",
      "a    100.000000\n",
      "dtype: float64\n",
      "0      0.150731\n",
      "1      0.436257\n",
      "2      0.406722\n",
      "3      0.762224\n",
      "4      0.352095\n",
      "5    100.000000\n",
      "dtype: float64\n"
     ]
    }
   ],
   "source": [
    "# Series 增加元素：.append() 生成一个新数组，或者 直接通过下标索引/标签索引 添加值会改变原数组\n",
    "\n",
    "s1 = pd.Series(np.random.rand(5))\n",
    "s2 = pd.Series(np.random.rand(5), index=list('cfegh'))  # 注意：list()\n",
    "print(s1)\n",
    "print(s2)\n",
    "s1[5] = 100\n",
    "s2['a'] = 100\n",
    "print(s1)\n",
    "print(s2)\n",
    "print('------')\n",
    "\n",
    "s3 = s1.append(s2)\n",
    "print(s3)\n",
    "print(s1)"
   ]
  },
  {
   "cell_type": "code",
   "execution_count": 64,
   "metadata": {
    "ExecuteTime": {
     "end_time": "2020-01-14T11:52:35.560186Z",
     "start_time": "2020-01-14T11:52:35.551811Z"
    }
   },
   "outputs": [
    {
     "name": "stdout",
     "output_type": "stream",
     "text": [
      "a    0.088253\n",
      "b    0.537502\n",
      "c    0.766418\n",
      "dtype: float64\n",
      "a    10.0\n",
      "b    20.0\n",
      "c    20.0\n",
      "dtype: float64\n"
     ]
    }
   ],
   "source": [
    "# Series 修改元素 : 通过索引直接修改原数组\n",
    "\n",
    "s = pd.Series(np.random.rand(3), index=['a','b','c'])\n",
    "print(s)\n",
    "s['a'] = 10\n",
    "s[['b','c']] = 20\n",
    "print(s)"
   ]
  },
  {
   "cell_type": "code",
   "execution_count": 61,
   "metadata": {
    "ExecuteTime": {
     "end_time": "2020-01-14T11:48:02.712362Z",
     "start_time": "2020-01-14T11:48:02.702438Z"
    }
   },
   "outputs": [
    {
     "name": "stdout",
     "output_type": "stream",
     "text": [
      "e    0.768141\n",
      "g    0.037141\n",
      "h    0.188189\n",
      "y    0.007131\n",
      "i    0.555909\n",
      "dtype: float64\n",
      "g    0.037141\n",
      "h    0.188189\n",
      "y    0.007131\n",
      "i    0.555909\n",
      "dtype: float64\n",
      "e    0.768141\n",
      "g    0.037141\n",
      "i    0.555909\n",
      "dtype: float64\n",
      "e    0.768141\n",
      "g    0.037141\n",
      "h    0.188189\n",
      "y    0.007131\n",
      "i    0.555909\n",
      "dtype: float64\n"
     ]
    }
   ],
   "source": [
    "# Series 删除元素: .drop() 返回一个新数组\n",
    "\n",
    "s = pd.Series(np.random.rand(5), index=list('eghyi'))\n",
    "print(s)\n",
    "s1 = s.drop('e')\n",
    "s2 = s.drop(['h','y'])\n",
    "print(s1)\n",
    "print(s2)\n",
    "print(s)\n",
    "# 如果想要直接删除原数组中的元素，可以添加一个参数（inplace=True）"
   ]
  }
 ],
 "metadata": {
  "kernelspec": {
   "display_name": "Python 3",
   "language": "python",
   "name": "python3"
  },
  "language_info": {
   "codemirror_mode": {
    "name": "ipython",
    "version": 3
   },
   "file_extension": ".py",
   "mimetype": "text/x-python",
   "name": "python",
   "nbconvert_exporter": "python",
   "pygments_lexer": "ipython3",
   "version": "3.7.0"
  },
  "toc": {
   "base_numbering": 1,
   "nav_menu": {},
   "number_sections": true,
   "sideBar": true,
   "skip_h1_title": false,
   "title_cell": "Table of Contents",
   "title_sidebar": "Contents",
   "toc_cell": false,
   "toc_position": {},
   "toc_section_display": true,
   "toc_window_display": false
  },
  "varInspector": {
   "cols": {
    "lenName": 16,
    "lenType": 16,
    "lenVar": 40
   },
   "kernels_config": {
    "python": {
     "delete_cmd_postfix": "",
     "delete_cmd_prefix": "del ",
     "library": "var_list.py",
     "varRefreshCmd": "print(var_dic_list())"
    },
    "r": {
     "delete_cmd_postfix": ") ",
     "delete_cmd_prefix": "rm(",
     "library": "var_list.r",
     "varRefreshCmd": "cat(var_dic_list()) "
    }
   },
   "types_to_exclude": [
    "module",
    "function",
    "builtin_function_or_method",
    "instance",
    "_Feature"
   ],
   "window_display": false
  }
 },
 "nbformat": 4,
 "nbformat_minor": 2
}
